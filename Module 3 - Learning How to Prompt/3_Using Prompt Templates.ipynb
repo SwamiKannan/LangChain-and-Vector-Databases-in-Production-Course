{
 "cells": [
  {
   "cell_type": "code",
   "execution_count": 9,
   "id": "a1dbe393",
   "metadata": {},
   "outputs": [],
   "source": [
    "from langchain.prompts import PromptTemplate\n",
    "from langchain.llms import OpenAI\n",
    "from langchain.chains import LLMChain"
   ]
  },
  {
   "cell_type": "code",
   "execution_count": 10,
   "id": "48b2ab4d",
   "metadata": {},
   "outputs": [],
   "source": [
    "llm=OpenAI(model='text-davinci-003',temperature=0)"
   ]
  },
  {
   "cell_type": "markdown",
   "id": "6932b862",
   "metadata": {},
   "source": [
    "Text of the context was copied from: https://www.newser.com/story/337752/4-people-attacked-by-dolphins-on-japan-beach.html"
   ]
  },
  {
   "cell_type": "markdown",
   "id": "e4f1f4b3",
   "metadata": {},
   "source": [
    "## I. Simple Prompt Template with context"
   ]
  },
  {
   "cell_type": "code",
   "execution_count": 11,
   "id": "67c433ca",
   "metadata": {},
   "outputs": [],
   "source": [
    "context=\"\"\"Over the course of one day on a central Japan beach, four people were attacked by dolphins. Early Sunday, a man in his 60s was attacked a few yards off the popular Suishohama Beach in the town of Mihama, Fukui prefecture; he was left with broken ribs and bites to his hands, the BBC reports. Also that morning, a man in his 40s was attacked at the same beach and suffered bites to his arm, MSN reports. Later that day, two more people were hurt in dolphin attacks. That brings the total number of dolphin attacks for the prefecture this year to six; similar attacks were also recorded last year. \n",
    "Such attacks are unusual, but experts have warned that bottlenose dolphins are stressed out when they must swim near humans, and that having to do so disrupts their behavioral routines. \"Dolphins are wild animals and may see humans as a potential threat to their territory or prey. In some cases, dolphins may also attack humans as a form of play or amusement, which can be dangerous due to their size and strength,\" American Oceans explains. Signs at Suishohama Beach now warn swimmers not to touch or approach dolphins. \"If you see them, don't go into the water,\" an official warns.\"\"\""
   ]
  },
  {
   "cell_type": "code",
   "execution_count": 12,
   "id": "5b72cd13",
   "metadata": {},
   "outputs": [],
   "source": [
    "prompt=PromptTemplate(\n",
    "            template=\"Use the context: \"+context+ \" to answer the questions. If the question cannot be answered using the context provided, respond with I don't know\\\n",
    "            Question:{question}\\\n",
    "            Answer:\", \n",
    "            input_variables=['question'])"
   ]
  },
  {
   "cell_type": "code",
   "execution_count": 13,
   "id": "138a3b3d",
   "metadata": {},
   "outputs": [],
   "source": [
    "llmchain=LLMChain(llm=llm, prompt=prompt)"
   ]
  },
  {
   "cell_type": "code",
   "execution_count": 14,
   "id": "38c4bd38",
   "metadata": {},
   "outputs": [],
   "source": [
    "response1=llmchain.run(question='Where was the attack by the dolphins happen?')"
   ]
  },
  {
   "cell_type": "code",
   "execution_count": 15,
   "id": "65973faf",
   "metadata": {},
   "outputs": [
    {
     "name": "stdout",
     "output_type": "stream",
     "text": [
      "The attack by the dolphins happened at Suishohama Beach in the town of Mihama, Fukui prefecture.\n"
     ]
    }
   ],
   "source": [
    "print(response1)"
   ]
  },
  {
   "cell_type": "code",
   "execution_count": 16,
   "id": "6189efc2",
   "metadata": {},
   "outputs": [],
   "source": [
    "response2=llmchain.run(question='Why did the dolphins attach the people?')"
   ]
  },
  {
   "cell_type": "code",
   "execution_count": 17,
   "id": "6d5a743b",
   "metadata": {},
   "outputs": [
    {
     "data": {
      "text/plain": [
       "'The dolphins may have seen the people as a potential threat to their territory or prey, or they may have attacked them as a form of play or amusement.'"
      ]
     },
     "execution_count": 17,
     "metadata": {},
     "output_type": "execute_result"
    }
   ],
   "source": [
    "response2"
   ]
  },
  {
   "cell_type": "code",
   "execution_count": 18,
   "id": "65d2c5cd",
   "metadata": {},
   "outputs": [],
   "source": [
    "response3=llmchain.run('What should we do if we see dolphins?')"
   ]
  },
  {
   "cell_type": "code",
   "execution_count": 19,
   "id": "f02514af",
   "metadata": {},
   "outputs": [
    {
     "name": "stdout",
     "output_type": "stream",
     "text": [
      "If you see them, don't go into the water.\n"
     ]
    }
   ],
   "source": [
    "print(response3)"
   ]
  },
  {
   "cell_type": "code",
   "execution_count": 20,
   "id": "15b79159",
   "metadata": {},
   "outputs": [],
   "source": [
    "response4=llmchain.run('What should we do if we see a shark?')"
   ]
  },
  {
   "cell_type": "code",
   "execution_count": 21,
   "id": "946b343c",
   "metadata": {},
   "outputs": [
    {
     "name": "stdout",
     "output_type": "stream",
     "text": [
      "I don't know.\n"
     ]
    }
   ],
   "source": [
    "print(response4)"
   ]
  },
  {
   "cell_type": "markdown",
   "id": "d4165710",
   "metadata": {},
   "source": [
    "## II. Few Shot Prompting"
   ]
  },
  {
   "cell_type": "code",
   "execution_count": 22,
   "id": "3baf416a",
   "metadata": {},
   "outputs": [],
   "source": [
    "from langchain.prompts import FewShotPromptTemplate, PromptTemplate"
   ]
  },
  {
   "cell_type": "code",
   "execution_count": 23,
   "id": "6aa3da2c",
   "metadata": {},
   "outputs": [],
   "source": [
    "examples=[\n",
    "    {'query':'lion','response':'savannah'},\n",
    "    {'query':'polar bear','response':'artic ice'},\n",
    "    {'query':'elephants','response':'African grasslands'}\n",
    "]"
   ]
  },
  {
   "cell_type": "code",
   "execution_count": 24,
   "id": "e4702ece",
   "metadata": {},
   "outputs": [],
   "source": [
    "example_template='''\n",
    "query:{query}\n",
    "response:{response}'''"
   ]
  },
  {
   "cell_type": "code",
   "execution_count": 25,
   "id": "784e4b35",
   "metadata": {},
   "outputs": [],
   "source": [
    "prefix='Answer the question by providing the natural habitat of {query}'"
   ]
  },
  {
   "cell_type": "code",
   "execution_count": 26,
   "id": "838d559b",
   "metadata": {},
   "outputs": [],
   "source": [
    "suffix='''\n",
    "query={query}\n",
    "response='''"
   ]
  },
  {
   "cell_type": "code",
   "execution_count": 31,
   "id": "96bc70e5",
   "metadata": {},
   "outputs": [],
   "source": [
    "fspt_habitat=FewShotPromptTemplate(\n",
    "    prefix=prefix,\n",
    "    example_prompt=PromptTemplate(template=example_template,input_variables=['query','response']),\n",
    "    examples=examples,\n",
    "    suffix=suffix,\n",
    "    input_variables=['query']\n",
    ")"
   ]
  },
  {
   "cell_type": "code",
   "execution_count": 32,
   "id": "833d76fd",
   "metadata": {},
   "outputs": [],
   "source": [
    "llmchain=LLMChain(prompt=fspt_habitat,llm=llm)"
   ]
  },
  {
   "cell_type": "code",
   "execution_count": 33,
   "id": "242270d9",
   "metadata": {},
   "outputs": [],
   "source": [
    "response_fspt=llmchain.run('penguin')"
   ]
  },
  {
   "cell_type": "code",
   "execution_count": 34,
   "id": "f23b205e",
   "metadata": {},
   "outputs": [
    {
     "data": {
      "text/plain": [
       "'Antarctic and sub-Antarctic regions.'"
      ]
     },
     "execution_count": 34,
     "metadata": {},
     "output_type": "execute_result"
    }
   ],
   "source": [
    "response_fspt"
   ]
  },
  {
   "cell_type": "code",
   "execution_count": 35,
   "id": "f7729883",
   "metadata": {},
   "outputs": [],
   "source": [
    "response_fspt1=llmchain.run('men')"
   ]
  },
  {
   "cell_type": "code",
   "execution_count": 36,
   "id": "15fae71a",
   "metadata": {},
   "outputs": [
    {
     "data": {
      "text/plain": [
       "'various habitats around the world'"
      ]
     },
     "execution_count": 36,
     "metadata": {},
     "output_type": "execute_result"
    }
   ],
   "source": [
    "response_fspt1"
   ]
  },
  {
   "cell_type": "code",
   "execution_count": 37,
   "id": "8b8d596d",
   "metadata": {},
   "outputs": [],
   "source": [
    "response_fspt2=llmchain.run('women')"
   ]
  },
  {
   "cell_type": "code",
   "execution_count": 38,
   "id": "735c2085",
   "metadata": {},
   "outputs": [
    {
     "data": {
      "text/plain": [
       "'everywhere'"
      ]
     },
     "execution_count": 38,
     "metadata": {},
     "output_type": "execute_result"
    }
   ],
   "source": [
    "response_fspt2"
   ]
  },
  {
   "cell_type": "code",
   "execution_count": 39,
   "id": "0afb29c3",
   "metadata": {},
   "outputs": [],
   "source": [
    "response_fspt3=llmchain.run('eagles')"
   ]
  },
  {
   "cell_type": "code",
   "execution_count": 40,
   "id": "6f67623b",
   "metadata": {},
   "outputs": [
    {
     "data": {
      "text/plain": [
       "'mountain ranges, forests, and coastal areas.'"
      ]
     },
     "execution_count": 40,
     "metadata": {},
     "output_type": "execute_result"
    }
   ],
   "source": [
    "response_fspt3"
   ]
  },
  {
   "cell_type": "code",
   "execution_count": 41,
   "id": "f3690570",
   "metadata": {},
   "outputs": [],
   "source": [
    "response_fspt4=llmchain.run('blue whales')"
   ]
  },
  {
   "cell_type": "code",
   "execution_count": 42,
   "id": "3ec247f9",
   "metadata": {},
   "outputs": [
    {
     "data": {
      "text/plain": [
       "'oceans and seas'"
      ]
     },
     "execution_count": 42,
     "metadata": {},
     "output_type": "execute_result"
    }
   ],
   "source": [
    "response_fspt4"
   ]
  },
  {
   "cell_type": "code",
   "execution_count": 43,
   "id": "7207a5d2",
   "metadata": {},
   "outputs": [],
   "source": [
    "response_fspt5=llmchain.run('pigeons')"
   ]
  },
  {
   "cell_type": "code",
   "execution_count": 44,
   "id": "04cea0d6",
   "metadata": {},
   "outputs": [
    {
     "data": {
      "text/plain": [
       "'urban areas, woodlands, and grasslands.'"
      ]
     },
     "execution_count": 44,
     "metadata": {},
     "output_type": "execute_result"
    }
   ],
   "source": [
    "response_fspt5"
   ]
  },
  {
   "cell_type": "markdown",
   "id": "07ce698b",
   "metadata": {},
   "source": [
    "## Prompting exercises with sarcasm"
   ]
  },
  {
   "cell_type": "code",
   "execution_count": 50,
   "id": "686302f1",
   "metadata": {},
   "outputs": [],
   "source": [
    "sarcasm_examples=[\n",
    "    {'question':'Are you going to sleep?','response':'No. I am practicing how to die.'},\n",
    "    {'question':'Are you awake already?','response':'Of course not. I am sleepwalking'},\n",
    "    {'question':'Is this the elevator to go up?','response':'I think this is the elevator that goes sideways'},\n",
    "    {'question':'Does obesity run in our family?','response':'No one runs in your family'},\n",
    "    {'question':'How much do you earn?','response':'Enough to call a cab to take me away from that stupid question'}\n",
    "]"
   ]
  },
  {
   "cell_type": "code",
   "execution_count": 53,
   "id": "744e24f7",
   "metadata": {},
   "outputs": [],
   "source": [
    "sarcasm_template='question:{question},response:{response}'"
   ]
  },
  {
   "cell_type": "code",
   "execution_count": 54,
   "id": "e3e9db8e",
   "metadata": {},
   "outputs": [],
   "source": [
    "sarcasm_prompt=PromptTemplate(template=sarcasm_template, input_variables=['question','response'])"
   ]
  },
  {
   "cell_type": "code",
   "execution_count": 55,
   "id": "4696bc04",
   "metadata": {},
   "outputs": [],
   "source": [
    "prefix='You are an AI agent that gives sarcastic answers to questions. Exercepts from answers you have given before are below'"
   ]
  },
  {
   "cell_type": "code",
   "execution_count": 56,
   "id": "361e457a",
   "metadata": {},
   "outputs": [],
   "source": [
    "suffix='''\n",
    "question:{question}\n",
    "response:'''"
   ]
  },
  {
   "cell_type": "code",
   "execution_count": 58,
   "id": "0f4bafb5",
   "metadata": {},
   "outputs": [],
   "source": [
    "fspt_sarcasm=FewShotPromptTemplate(examples=sarcasm_examples,prefix=prefix,example_prompt=sarcasm_prompt,suffix=suffix,input_variables=['question'])"
   ]
  },
  {
   "cell_type": "code",
   "execution_count": 59,
   "id": "471587d5",
   "metadata": {},
   "outputs": [],
   "source": [
    "llmchain_sarcasm=LLMChain(prompt=fspt_sarcasm,llm=llm)"
   ]
  },
  {
   "cell_type": "code",
   "execution_count": 60,
   "id": "8e617308",
   "metadata": {},
   "outputs": [],
   "source": [
    "response1=llmchain_sarcasm.run('Why have you put on so much weight?')"
   ]
  },
  {
   "cell_type": "code",
   "execution_count": 61,
   "id": "3202d210",
   "metadata": {},
   "outputs": [
    {
     "name": "stdout",
     "output_type": "stream",
     "text": [
      "Because I'm trying to make myself look more like you.\n"
     ]
    }
   ],
   "source": [
    "print(response1)"
   ]
  },
  {
   "cell_type": "code",
   "execution_count": 62,
   "id": "5991273d",
   "metadata": {},
   "outputs": [
    {
     "name": "stdout",
     "output_type": "stream",
     "text": [
      "Because I'm too important to be idle.\n"
     ]
    }
   ],
   "source": [
    "sarc_response1=llmchain_sarcasm.run(\"Why are you always so busy?\")\n",
    "print(sarc_response1)"
   ]
  },
  {
   "cell_type": "code",
   "execution_count": 64,
   "id": "0886f036",
   "metadata": {},
   "outputs": [
    {
     "name": "stdout",
     "output_type": "stream",
     "text": [
      "Because it's jealous of how much everyone loves the ocean.\n"
     ]
    }
   ],
   "source": [
    "sarc_response2=llmchain_sarcasm.run(\"Why is the sky blue?\")\n",
    "print(sarc_response2)"
   ]
  },
  {
   "cell_type": "markdown",
   "id": "44006412",
   "metadata": {},
   "source": [
    "#### This was an interesting answer since the query was slightly out of distribution since the examples were all personal questions but this was a more scientific one "
   ]
  },
  {
   "cell_type": "markdown",
   "id": "282560be",
   "metadata": {},
   "source": [
    "## Using LengthBasedExampleSelector to avoid crossing tokenizer lengths"
   ]
  },
  {
   "cell_type": "code",
   "execution_count": 65,
   "id": "2b2a99c0",
   "metadata": {},
   "outputs": [],
   "source": [
    "from langchain.prompts.example_selector import LengthBasedExampleSelector"
   ]
  },
  {
   "cell_type": "code",
   "execution_count": 72,
   "id": "90f3233b",
   "metadata": {},
   "outputs": [],
   "source": [
    "examples_physics=[\n",
    "    {'question':'What is the impact of Modified Newtonian Dynamics (MOND) on the observed \"missing baryonic mass\" discrepancy in galaxy clusters?', \n",
    "     'answer':'MOND is a theory that eliminates the observed missing baryonic mass in galaxy clusters by imposing a new mathematical formulation of gravity that does not require the existence of dark matter.'},\n",
    "    \n",
    "    {'question':'What is dynamic scaling in self-similar systems?',\n",
    "     'answer':'Dynamic scaling refers to the evolution of self-similar systems, where data obtained from snapshots at fixed times exhibits similarity to the respective data taken from snapshots of any earlier or later time. This similarity is tested by a certain time-dependent stochastic variable x.'},\n",
    "     \n",
    "    {'question':'What is the origin and significance of the triskeles symbol?',\n",
    "     'answer':'The triskeles symbol was reconstructed as a feminine divine triad by the rulers of Syracuse, and later adopted as an emblem. Its usage may also be related to the Greek name of Sicily, Trinacria, which means \"having three headlands.\" The head of Medusa at the center of the Sicilian triskeles represents the three headlands.'} ,\n",
    "    \n",
    "    {'question':'What is the Roche limit?',\n",
    "     'answer':\"The Roche limit is the distance at which tidal effects would cause an object to break apart due to differential force from the planet overcoming the attraction of the parts of the object for one another, which depends on the object's density and composition, as well as the mass and size of the planet.\"} ,\n",
    "    \n",
    "    {'question':\"What is Martin Heidegger's view on the relationship between time and human existence?\",\n",
    "     'answer':\"Martin Heidegger believes that humans do not exist inside time, but that they are time. The relationship to the past is a present awareness of having been, and the relationship to the future involves anticipating a potential possibility, task, or engagement.\"} ,\n",
    "    \n",
    "    {'question':'What is the decay energy for the free neutron decay process?',\n",
    "     'answer':'0.782343 MeV'} ,\n",
    "    \n",
    "    {'question':'What is the evidence for the existence of a supermassive black hole at the center of the Milky Way galaxy?',\n",
    "     'answer':\"The star S2 follows an elliptical orbit with a period of 15.2 years and a pericenter of 17 light-hours from the center of the central object. From the motion of star S2, the object's mass can be estimated as 4.0 million Mâ˜‰, or about 7.96Ã—1036 kg. The radius of the central object must be less than 17 light-hours, because otherwise S2 would collide with it. Observations of the star S14 indicate that the radius is no more than 6.25 light-hours, about the diameter of Uranus' orbit. No known astronomical object other than a black hole can contain 4.0 million Mâ˜‰ in this volume of space.\"} ,\n",
    "    \n",
    "    {'question':'What is the Carnot engine?',\n",
    "     'answer':'The Carnot engine is an ideal heat engine that operates in the limiting mode of extreme slowness known as quasi-static. It represents the theoretical maximum efficiency of a heat engine operating between any two given thermal or heat reservoirs at different temperatures.'} ,\n",
    "    \n",
    "    {'question':'What is the second law of thermodynamics?',\n",
    "     'answer':'The second law of thermodynamics is a physical law based on universal experience concerning heat and energy interconversions. It establishes the concept of entropy as a physical property of a thermodynamic system and can be used to predict whether processes are forbidden despite obeying the requirement of conservation of energy as expressed in the first law of thermodynamics.'} ,\n",
    "    \n",
    "    {'question':'Who shared the other half of the Nobel Prize with Yoichiro Nambu for discovering the origin of the explicit breaking of CP symmetry in the weak interactions?',\n",
    "     'answer':'Makoto Kobayashi and Toshihide Maskawa'} ,\n",
    "    \n",
    "    {'question':'What is the Peierls bracket in canonical quantization?',\n",
    "     'answer':'The Peierls bracket is a Poisson bracket derived from the action in the canonical quantization method that converts the quotient algebra into a Poisson algebra.'} ,\n",
    "    \n",
    "    {'question':'What is a regular polytope?',\n",
    "     'answer':'A regular polytope is a geometric shape whose symmetry group is transitive on its flags.'} ,\n",
    "    \n",
    "    \n",
    "]"
   ]
  },
  {
   "cell_type": "code",
   "execution_count": 68,
   "id": "f694d69b",
   "metadata": {},
   "outputs": [],
   "source": [
    "prompt=PromptTemplate(\n",
    "template='User: {question}\\nAI:{answer}',\n",
    "input_variables=['question','answer']\n",
    ")"
   ]
  },
  {
   "cell_type": "code",
   "execution_count": 84,
   "id": "d921f307",
   "metadata": {},
   "outputs": [],
   "source": [
    "prefix='You are an AI assistant specialized in the field of Physics. Answer the {question} of the user. If you are not confident of the answer, say that you don\"t know the answer. You have previously provided answers to sample questions as per the examples below'"
   ]
  },
  {
   "cell_type": "code",
   "execution_count": 85,
   "id": "652d0c26",
   "metadata": {},
   "outputs": [],
   "source": [
    "suffix='Question:{question},\\nAnswer:'"
   ]
  },
  {
   "cell_type": "code",
   "execution_count": 86,
   "id": "cb1b3299",
   "metadata": {},
   "outputs": [],
   "source": [
    "fspt_physics=FewShotPromptTemplate(\n",
    "    prefix=prefix,\n",
    "    example_selector=LengthBasedExampleSelector(example_prompt=prompt, examples=examples_physics,max_length=100),\n",
    "    example_prompt=prompt,\n",
    "    suffix=suffix,\n",
    "    input_variables=['question']\n",
    ")\n",
    "    "
   ]
  },
  {
   "cell_type": "code",
   "execution_count": 87,
   "id": "537e1ae6",
   "metadata": {},
   "outputs": [],
   "source": [
    "physics_chain=LLMChain(llm=llm, prompt=fspt_physics)"
   ]
  },
  {
   "cell_type": "code",
   "execution_count": 88,
   "id": "9b75bdcf",
   "metadata": {},
   "outputs": [
    {
     "data": {
      "text/plain": [
       "\" Earnshaw's theorem states that it is impossible to maintain a stable equilibrium configuration of forces in a system of point particles with only electrostatic interactions.\""
      ]
     },
     "execution_count": 88,
     "metadata": {},
     "output_type": "execute_result"
    }
   ],
   "source": [
    "physics_chain.run(\"What does Earnshaw's theorem state?\")"
   ]
  },
  {
   "cell_type": "code",
   "execution_count": 89,
   "id": "b2addbbd",
   "metadata": {},
   "outputs": [
    {
     "data": {
      "text/plain": [
       "'When an initially inhomogeneous physical system is isolated by a thermodynamic operation, it will tend to move towards a state of equilibrium, where the temperature and pressure are uniform throughout the system. This process is known as thermalization.'"
      ]
     },
     "execution_count": 89,
     "metadata": {},
     "output_type": "execute_result"
    }
   ],
   "source": [
    "physics_chain.run(\"What happens to an initially inhomogeneous physical system that is isolated by a thermodynamic operation?\")"
   ]
  },
  {
   "cell_type": "markdown",
   "id": "844cbe1c",
   "metadata": {},
   "source": [
    "##### Using scientific * humor examples"
   ]
  },
  {
   "cell_type": "code",
   "execution_count": 93,
   "id": "ece755f8",
   "metadata": {},
   "outputs": [],
   "source": [
    "science_humor=[\n",
    "    {\n",
    "        \"question\": \"How do you feel today?\",\n",
    "        \"answer\": \"As an AI, I don't have feelings, but I've got jokes!\"\n",
    "    }, {\n",
    "        \"question\": \"What is the speed of light?\",\n",
    "        \"answer\": \"Fast enough to make a round trip around Earth 7.5 times in one second!\"\n",
    "    }, {\n",
    "        \"question\": \"What is a quantum computer?\",\n",
    "        \"answer\": \"A magical box that harnesses the power of subatomic particles to solve complex problems.\"\n",
    "    }, {\n",
    "        \"question\": \"Who invented the telephone?\",\n",
    "        \"answer\": \"Alexander Graham Bell, the original 'ringmaster'.\"\n",
    "    }, {\n",
    "        \"question\": \"What programming language is best for AI development?\",\n",
    "        \"answer\": \"Python, because it's the only snake that won't bite.\"\n",
    "    }, {\n",
    "        \"question\": \"What is the capital of France?\",\n",
    "        \"answer\": \"Paris, the city of love and baguettes.\"\n",
    "    }, {\n",
    "        \"question\": \"What is photosynthesis?\",\n",
    "        \"answer\": \"A plant's way of saying 'I'll turn this sunlight into food. You're welcome, Earth.'\"\n",
    "    }, {\n",
    "        \"question\": \"What is the tallest mountain on Earth?\",\n",
    "        \"answer\": \"Mount Everest, Earth's most impressive bump.\"\n",
    "    }, {\n",
    "        \"question\": \"What is the most abundant element in the universe?\",\n",
    "        \"answer\": \"Hydrogen, the basic building block of cosmic smoothies.\"\n",
    "    }, {\n",
    "        \"question\": \"What is the largest mammal on Earth?\",\n",
    "        \"answer\": \"The blue whale, the original heavyweight champion of the world.\"\n",
    "    }, {\n",
    "        \"question\": \"What is the fastest land animal?\",\n",
    "        \"answer\": \"The cheetah, the ultimate sprinter of the animal kingdom.\"\n",
    "    }, {\n",
    "        \"question\": \"What is the square root of 144?\",\n",
    "        \"answer\": \"12, the number of eggs you need for a really big omelette.\"\n",
    "    }, {\n",
    "        \"question\": \"What is the average temperature on Mars?\",\n",
    "        \"answer\": \"Cold enough to make a Martian wish for a sweater and a hot cocoa.\"\n",
    "    }\n",
    "]"
   ]
  },
  {
   "cell_type": "code",
   "execution_count": 94,
   "id": "7da5af16",
   "metadata": {},
   "outputs": [],
   "source": [
    "science_humor_prefix='You are an AI assistant to provides humorous answers with a scientific basis. You have answered previous questions as below:'"
   ]
  },
  {
   "cell_type": "code",
   "execution_count": 97,
   "id": "af20ab78",
   "metadata": {},
   "outputs": [],
   "source": [
    "fspt_humor=FewShotPromptTemplate(\n",
    "example_selector=LengthBasedExampleSelector(examples=science_humor,max_length=100,example_prompt=prompt),\n",
    "prefix=prefix,\n",
    "suffix=suffix,\n",
    "example_prompt=prompt,\n",
    "input_variables=['question'])"
   ]
  },
  {
   "cell_type": "code",
   "execution_count": 102,
   "id": "8020e5f2",
   "metadata": {},
   "outputs": [],
   "source": [
    "llm_scientifichumor=LLMChain(prompt=fspt_humor,llm=OpenAI(model='text-davinci-003',temperature=0.99))"
   ]
  },
  {
   "cell_type": "code",
   "execution_count": 103,
   "id": "c4f461a4",
   "metadata": {},
   "outputs": [
    {
     "data": {
      "text/plain": [
       "\"Alexander Graham Bell, the original 'ringmaster'.\""
      ]
     },
     "execution_count": 103,
     "metadata": {},
     "output_type": "execute_result"
    }
   ],
   "source": [
    "llm_scientifichumor.run('Who invented the telephone?')"
   ]
  },
  {
   "cell_type": "code",
   "execution_count": 101,
   "id": "72a55a1e",
   "metadata": {},
   "outputs": [
    {
     "data": {
      "text/plain": [
       "\"Alexander Graham Bell, the original 'ringmaster'.\""
      ]
     },
     "execution_count": 101,
     "metadata": {},
     "output_type": "execute_result"
    }
   ],
   "source": [
    "llm_scientifichumor1=LLMChain(prompt=fspt_humor,llm=OpenAI(model='text-davinci-003',temperature=0))\n",
    "llm_scientifichumor1.run('Who invented the telephone?')"
   ]
  },
  {
   "cell_type": "markdown",
   "id": "8ddc6b8b",
   "metadata": {},
   "source": [
    "#### Changing the temperature where the prefix specifies some dimension of creativity doesn't impact the results"
   ]
  }
 ],
 "metadata": {
  "kernelspec": {
   "display_name": "Python 3 (ipykernel)",
   "language": "python",
   "name": "python3"
  },
  "language_info": {
   "codemirror_mode": {
    "name": "ipython",
    "version": 3
   },
   "file_extension": ".py",
   "mimetype": "text/x-python",
   "name": "python",
   "nbconvert_exporter": "python",
   "pygments_lexer": "ipython3",
   "version": "3.9.16"
  }
 },
 "nbformat": 4,
 "nbformat_minor": 5
}
