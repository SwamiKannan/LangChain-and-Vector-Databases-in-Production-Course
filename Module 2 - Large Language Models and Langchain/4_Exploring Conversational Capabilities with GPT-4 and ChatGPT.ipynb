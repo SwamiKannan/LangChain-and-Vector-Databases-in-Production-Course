{
 "cells": [
  {
   "cell_type": "markdown",
   "id": "f9c03229",
   "metadata": {},
   "source": [
    "# Exploring ChatGPT"
   ]
  },
  {
   "cell_type": "markdown",
   "id": "c2b48633",
   "metadata": {},
   "source": [
    "### I am still on the waitlist for GPT-4 so once I get access, I should be able to run this notebook on GPT-4"
   ]
  },
  {
   "cell_type": "code",
   "execution_count": 2,
   "id": "da2c115d",
   "metadata": {
    "scrolled": true
   },
   "outputs": [],
   "source": [
    "from langchain.chat_models import ChatOpenAI\n",
    "from langchain.schema import SystemMessage,HumanMessage,AIMessage"
   ]
  },
  {
   "cell_type": "code",
   "execution_count": 3,
   "id": "49a8ea93",
   "metadata": {},
   "outputs": [],
   "source": [
    "human_msg1='What is the capital of France?'\n",
    "ai_msg1='The capital of France is Paris'\n",
    "sys_msg1='You are a friendly, knowladgeable AI that specializes in geography and tourism'"
   ]
  },
  {
   "cell_type": "code",
   "execution_count": 4,
   "id": "4cf6da2b",
   "metadata": {},
   "outputs": [],
   "source": [
    "messages=[SystemMessage(content=sys_msg1),HumanMessage(content=human_msg1),AIMessage(content=ai_msg1)]"
   ]
  },
  {
   "cell_type": "code",
   "execution_count": 5,
   "id": "7a4158a0",
   "metadata": {},
   "outputs": [],
   "source": [
    "human_msg2='What are interesting foods to eat there?'"
   ]
  },
  {
   "cell_type": "code",
   "execution_count": 6,
   "id": "0c86484f",
   "metadata": {},
   "outputs": [],
   "source": [
    "messages.append(HumanMessage(content=human_msg2))"
   ]
  },
  {
   "cell_type": "code",
   "execution_count": 9,
   "id": "55a50989",
   "metadata": {},
   "outputs": [],
   "source": [
    "llm=ChatOpenAI(model='gpt-3.5-turbo',temperature=0)"
   ]
  },
  {
   "cell_type": "code",
   "execution_count": 10,
   "id": "e7b231e7",
   "metadata": {},
   "outputs": [],
   "source": [
    "response=llm(messages)"
   ]
  },
  {
   "cell_type": "code",
   "execution_count": 11,
   "id": "da8cabe9",
   "metadata": {},
   "outputs": [
    {
     "name": "stdout",
     "output_type": "stream",
     "text": [
      "France is known for its delicious cuisine. Here are some popular and interesting foods to try in France:\n",
      "\n",
      "1. Croissant: A buttery, flaky pastry that is a staple of French breakfasts.\n",
      "2. Escargots de Bourgogne: Snails cooked in garlic butter, a classic French delicacy.\n",
      "3. Coq au Vin: A traditional dish of chicken cooked in red wine with mushrooms and onions.\n",
      "4. Ratatouille: A vegetable stew made with tomatoes, eggplant, zucchini, bell peppers, and herbs.\n",
      "5. Bouillabaisse: A flavorful fish stew originating from Marseille, typically made with various types of fish and shellfish.\n",
      "6. Crêpes: Thin pancakes that can be filled with sweet or savory fillings, such as Nutella, cheese, or ham.\n",
      "7. Foie Gras: A luxury food made from the liver of a duck or goose, often served as a pâté or in terrine form.\n",
      "8. Cheese: France is famous for its wide variety of cheeses, such as Camembert, Brie, Roquefort, and Comté.\n",
      "9. Macarons: Colorful and delicate almond meringue cookies with a creamy filling.\n",
      "10. Tarte Tatin: An upside-down caramelized apple tart, often served with a scoop of vanilla ice cream.\n",
      "\n",
      "These are just a few examples, but French cuisine offers a wide range of delicious dishes to explore.\n"
     ]
    }
   ],
   "source": [
    "print(response.content)"
   ]
  }
 ],
 "metadata": {
  "kernelspec": {
   "display_name": "Python 3 (ipykernel)",
   "language": "python",
   "name": "python3"
  },
  "language_info": {
   "codemirror_mode": {
    "name": "ipython",
    "version": 3
   },
   "file_extension": ".py",
   "mimetype": "text/x-python",
   "name": "python",
   "nbconvert_exporter": "python",
   "pygments_lexer": "ipython3",
   "version": "3.11.3"
  }
 },
 "nbformat": 4,
 "nbformat_minor": 5
}
