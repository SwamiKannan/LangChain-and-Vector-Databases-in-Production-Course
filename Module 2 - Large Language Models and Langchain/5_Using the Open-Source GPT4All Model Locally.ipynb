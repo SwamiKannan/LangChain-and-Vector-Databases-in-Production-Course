{
 "cells": [
  {
   "cell_type": "markdown",
   "id": "7368e66f",
   "metadata": {},
   "source": [
    "# Using open source models"
   ]
  },
  {
   "cell_type": "markdown",
   "id": "218efa32",
   "metadata": {},
   "source": [
    "Using OpenAI models cost money. In my project on summarizing headlines, it cost me $1.24 or INR 100 to summarize the articles and create bulletted headlines for the top 15 news articles from NDTV.com. The cost of a newspaper is around 12 cents or INR 10.<br><br>\n",
    "Hence, it makes more sense to use open-source models such as GPT4All as an alternative "
   ]
  },
  {
   "cell_type": "markdown",
   "id": "f25395b0",
   "metadata": {},
   "source": [
    "### 1. Downloading the GPT4All model"
   ]
  },
  {
   "cell_type": "markdown",
   "id": "e67c3649",
   "metadata": {},
   "source": [
    "<b>Manual download from browser</b>"
   ]
  },
  {
   "cell_type": "markdown",
   "id": "b6cf6dbe",
   "metadata": {},
   "source": [
    "The model can be manually downloaded from https://the-eye.eu/public/AI/models/nomic-ai/gpt4all/gpt4all-lora-quantized-ggml.bin <br><br>\n",
    "Once we download the model, create a new directory \"models\" and move the model to that folder"
   ]
  },
  {
   "cell_type": "markdown",
   "id": "f2ec634e",
   "metadata": {},
   "source": [
    "<b>Download the files using python</b>"
   ]
  },
  {
   "cell_type": "code",
   "execution_count": 1,
   "id": "abb9d5b5",
   "metadata": {},
   "outputs": [],
   "source": [
    "import os\n",
    "import requests\n",
    "from tqdm import tqdm"
   ]
  },
  {
   "cell_type": "code",
   "execution_count": 2,
   "id": "e9600a60",
   "metadata": {},
   "outputs": [],
   "source": [
    "url='https://the-eye.eu/public/AI/models/nomic-ai/gpt4all/gpt4all-lora-quantized-ggml.bin' #This is the same url referred to earlier"
   ]
  },
  {
   "cell_type": "code",
   "execution_count": 3,
   "id": "cd7789f9",
   "metadata": {},
   "outputs": [
    {
     "name": "stderr",
     "output_type": "stream",
     "text": [
      "514266it [12:06, 708.20it/s] \n"
     ]
    }
   ],
   "source": [
    "if 'models' not in os.listdir():  #Make the directory \"models\"\n",
    "    os.makedirs('models')\n",
    "    \n",
    "response=requests.get(url, stream=True) #Streams the data download as one block of contiguous data at a time\n",
    "\n",
    "path='./models/gpt4all-lora-quantized-ggml.bin' #The file we downloaded before\n",
    "with open(path,'wb') as f:\n",
    "    for block in tqdm(response.iter_content(chunk_size=8192)): #tqdm gives us a visual representation of the status of downloading the data and storing\n",
    "        if block:\n",
    "            f.write(block)\n"
   ]
  },
  {
   "cell_type": "markdown",
   "id": "12f73c08",
   "metadata": {},
   "source": [
    "### 2. Quantizing the model"
   ]
  },
  {
   "cell_type": "markdown",
   "id": "413c17da",
   "metadata": {},
   "source": [
    "Most models have weights that are 32-bit floating point numbers that take a huge amount of memory. <a href=\"https://github.com/ggerganov\">Georgi Gerganov</a> has created a library that allows us to run the LLaMA model using 4-bit integer quantization. This massively helpful library\n",
    "\n",
    "<center>\n",
    "<img src=\"images\\5_Quantization.png\">\n",
    "<sub><i>Model Comparison(32 bit vs 8 bit vs 1 bit)</i></sub>\n",
    "</center>\n",
    "\n",
    "For more details on Quantization visit <a href=\"https://medium.com/@satya15july_11937/network-optimization-with-quantization-8-bit-vs-1-bit-af2fd716fcae\">  Network Optimization with Quantization — 8 bit vs 1 bit </a>"
   ]
  },
  {
   "cell_type": "markdown",
   "id": "9fd2f00d",
   "metadata": {},
   "source": [
    "<b>NOTES:</b><br>To quantize the model, we need to use the python command prompt and not the python scripting environment / IDE / Jupyter notebook <br>\n",
    "You will also need to have the following libraries installed:<br>\n",
    "<ul><li><b>Git</b></li></ul>\n",
    "    \n",
    " `pip install git`\n",
    "    \n",
    "<br>   \n",
    "<li><b>Sentencepiece</b></li></ul>\n",
    "    \n",
    "`pip install sentencepiece`<br>"
   ]
  },
  {
   "cell_type": "markdown",
   "id": "10ca5023",
   "metadata": {},
   "source": [
    "**PROCESS:**<br>\n",
    "\n",
    "1. Download Gregory's Github llama.cpp repository<br>\n",
    "    `git clone https://github.com/ggerganov/llama.cpp.git`<br><br>\n",
    "2. Navigate to the llama.cpp directory. We need a specific version of the git for this exercise - \"2b26469\"<br>\n",
    "    `cd llama.cpp && git checkout 2b26469`<br><br>\n",
    "3. Convert the data type of the model we had downloaded earlier to 4-bit integers<br>\n",
    "    `python3 llama.cpp/convert.py ./models/gpt4all-lora-quantized-ggml.bin`"
   ]
  },
  {
   "cell_type": "markdown",
   "id": "bfd6ba97",
   "metadata": {},
   "source": [
    "### 3. Run the model"
   ]
  },
  {
   "cell_type": "markdown",
   "id": "1d3e5f12",
   "metadata": {},
   "source": [
    "1. To run the model, we need to install <b>'pyllamacpp'</b>. This is used by Langchain's GPT4All package to load the model from the path that we direct it to. If we do not install this library, we get an error:<br>\n",
    "<b>ValidationError</b>: 1 validation error for GPT4All<br>\n",
    "__root__<br>\n",
    "  Could not import pyllamacpp python package. Please install it with `pip install pyllamacpp`. (type=value_error)"
   ]
  },
  {
   "cell_type": "markdown",
   "id": "487fdad3",
   "metadata": {},
   "source": [
    "` !pip install pyllamacpp`<br><br>\n",
    "2. If you are following the tutorial, you will be asked to upgrade langchain to v0.0.152 via `pip install -q langchain==0.0.152`. This is because the callback managers (as per the exercise below) is not part of the older version. We get an error:\n",
    "`ImportError: cannot import name 'CallbackManager' from 'langchain.callbacks' (D:\\miniconda3\\envs\\llms\\lib\\site-packages\\langchain\\callbacks\\__init__.py)`\n",
    "\n",
    "However, this breaks the model loading process with an error:<br><br>\n",
    "`Gpt4all Model.__init__() got an unexpected keyword argument 'ggml_model' (type=type_error).`\n",
    "\n",
    "This is solved by rolling back the version of a package pygpt4all (which is part of langchain) as follows:<br>\n",
    "\n",
    "`!pip install pygpt4all==v1.0.1 --force-reinstall`\n",
    "\n",
    "<sub><a href=\"https://github.com/hwchase17/langchain/issues/3839#issuecomment-1534160447\">Credit</a>"
   ]
  },
  {
   "cell_type": "code",
   "execution_count": 3,
   "id": "87f2e7fe",
   "metadata": {},
   "outputs": [],
   "source": [
    "# !pip install -q langchain==0.0.152\n",
    "# !pip install pyllamacpp=="
   ]
  },
  {
   "cell_type": "code",
   "execution_count": 4,
   "id": "3ea40dcb",
   "metadata": {
    "scrolled": true
   },
   "outputs": [],
   "source": [
    "# !pip install gpt4all"
   ]
  },
  {
   "cell_type": "code",
   "execution_count": 5,
   "id": "68628789",
   "metadata": {},
   "outputs": [],
   "source": [
    "from langchain.llms import GPT4All\n",
    "from langchain.prompts import PromptTemplate\n",
    "from langchain.chains import LLMChain\n",
    "from langchain.chains.summarize import load_summarize_chain\n",
    "from langchain.callbacks import CallbackManager\n",
    "from langchain.callbacks.streaming_stdout import StreamingStdOutCallbackHandler"
   ]
  },
  {
   "cell_type": "code",
   "execution_count": 6,
   "id": "be64cb4f",
   "metadata": {},
   "outputs": [],
   "source": [
    "callback_manager=CallbackManager([StreamingStdOutCallbackHandler])"
   ]
  },
  {
   "cell_type": "markdown",
   "id": "40a6cd98",
   "metadata": {},
   "source": [
    "#### a. Load the model"
   ]
  },
  {
   "cell_type": "code",
   "execution_count": 7,
   "id": "0a331125",
   "metadata": {},
   "outputs": [],
   "source": [
    "llm=GPT4All(model=\"model/ggml-model-q4_0.bin\",callback_manager=callback_manager, verbose=True)"
   ]
  },
  {
   "cell_type": "markdown",
   "id": "acb275d8",
   "metadata": {},
   "source": [
    "#### b. Create the prompt template"
   ]
  },
  {
   "cell_type": "code",
   "execution_count": 8,
   "id": "87e3bed1",
   "metadata": {},
   "outputs": [],
   "source": [
    "template1 = \"\"\"Question: {question}\n",
    "\n",
    "Answer: Let's think step by step.\"\"\""
   ]
  },
  {
   "cell_type": "code",
   "execution_count": 9,
   "id": "87286830",
   "metadata": {},
   "outputs": [],
   "source": [
    "template2 = \"\"\"Question: {question}\n",
    "\n",
    "Answer: Let's answer in two sentence while being funny.\"\"\""
   ]
  },
  {
   "cell_type": "code",
   "execution_count": 10,
   "id": "2f162a8d",
   "metadata": {},
   "outputs": [],
   "source": [
    "prompt1=PromptTemplate(\n",
    "    template=template1,\n",
    "    input_variables=['question']\n",
    ")\n",
    "\n",
    "prompt2=PromptTemplate(\n",
    "    template=template2,\n",
    "    input_variables=['question']\n",
    ")"
   ]
  },
  {
   "cell_type": "code",
   "execution_count": 11,
   "id": "c0f625b2",
   "metadata": {},
   "outputs": [],
   "source": [
    "question1='What happens when it rains somewhere?'"
   ]
  },
  {
   "cell_type": "code",
   "execution_count": 12,
   "id": "3d1884a3",
   "metadata": {},
   "outputs": [
    {
     "name": "stdout",
     "output_type": "stream",
     "text": [
      "text=\"Question: What happens when it rains somewhere?\\n\\nAnswer: Let's think step by step.\"\n"
     ]
    }
   ],
   "source": [
    "print(prompt1.format_prompt(question=question1))"
   ]
  },
  {
   "cell_type": "markdown",
   "id": "6567cf5c",
   "metadata": {},
   "source": [
    "#### c. Create the chain"
   ]
  },
  {
   "cell_type": "code",
   "execution_count": 13,
   "id": "9c09bc47",
   "metadata": {},
   "outputs": [],
   "source": [
    "llmchain=LLMChain(llm=llm,prompt=prompt1)"
   ]
  },
  {
   "cell_type": "markdown",
   "id": "ee0c5822",
   "metadata": {},
   "source": [
    "#### d. Run the model"
   ]
  },
  {
   "cell_type": "code",
   "execution_count": 14,
   "id": "83633dde",
   "metadata": {},
   "outputs": [],
   "source": [
    "response=llmchain.run(question1)"
   ]
  },
  {
   "cell_type": "code",
   "execution_count": 15,
   "id": "ad1d59c5",
   "metadata": {},
   "outputs": [
    {
     "name": "stdout",
     "output_type": "stream",
     "text": [
      " Question: What happens when it rains somewhere?\n",
      "\n",
      "Answer: Let's think step by step. First, let us consider the basics of rain. Raindrops form from clouds that have reached a moisture level sufficient to seed out as individual droplets or larger clusters (known as hydrometeors). Cloud condensation nuclei are responsible for providing surfaces upon which precipitation can condense into these tiny water particles, and there's always going to be some available if the air is cool enough. When it rains somewhere on Earth, clouds will form due to atmospheric instability or changes in wind direction/strength (or both), which then lead to more cumulus formation within those particular updraft regions where moisture can condense out of the upper atmosphere onto individual nuclei and eventually turn into rain. As precipitation falls through these clouds, it gets caught up by their momentum; after a while its motion slows enough for some particles or parcels that are denser than air to begin falling at terminal velocities (the speed with which they would fall under the influence of gravity alone). And when individual droplets collide and merge into larger clusters due to collisions, this process is called \"coalescence.\" The resulting clumps/clusters will then either float or sink depending on\n"
     ]
    }
   ],
   "source": [
    "print(response)"
   ]
  },
  {
   "cell_type": "code",
   "execution_count": 16,
   "id": "746b0efb",
   "metadata": {},
   "outputs": [
    {
     "name": "stdout",
     "output_type": "stream",
     "text": [
      "text=\"Question: What happens when it rains somewhere?\\n\\nAnswer: Let's answer in two sentence while being funny.\"\n"
     ]
    }
   ],
   "source": [
    "print(prompt2.format_prompt(question=question1))"
   ]
  },
  {
   "cell_type": "code",
   "execution_count": 17,
   "id": "65a9e77f",
   "metadata": {},
   "outputs": [],
   "source": [
    "llmchain=LLMChain(llm=llm,prompt=prompt2)"
   ]
  },
  {
   "cell_type": "code",
   "execution_count": 18,
   "id": "e78fba1a",
   "metadata": {},
   "outputs": [],
   "source": [
    "response=llmchain.run(question1)"
   ]
  },
  {
   "cell_type": "code",
   "execution_count": 19,
   "id": "eec32b37",
   "metadata": {},
   "outputs": [
    {
     "name": "stdout",
     "output_type": "stream",
     "text": [
      " Question: What happens when it rains somewhere?\n",
      "\n",
      "Answer: Let's answer in two sentence while being funny. 1) Water from the sky falls on Earth and creates puddles that make people wet, or even floods where they could get stuck if driving through them.2 )Rainfall is measured with rain gauges to monitor water levels of lakes, rivers etc for planning purposes in infrastructural development projects\n",
      "  \n"
     ]
    }
   ],
   "source": [
    "print(response)"
   ]
  },
  {
   "cell_type": "markdown",
   "id": "984f1f48",
   "metadata": {},
   "source": [
    "#### Test for larger text"
   ]
  },
  {
   "cell_type": "code",
   "execution_count": 20,
   "id": "92af90c2",
   "metadata": {},
   "outputs": [],
   "source": [
    "import pickle\n",
    "from langchain.chains.summarize import load_summarize_chain\n",
    "from langchain.docstore.document import Document\n",
    "from langchain.text_splitter import RecursiveCharacterTextSplitter\n",
    "from langchain.prompts import PromptTemplate"
   ]
  },
  {
   "cell_type": "code",
   "execution_count": 21,
   "id": "a426713d",
   "metadata": {},
   "outputs": [],
   "source": [
    "def isEnglish(s):\n",
    "    try:\n",
    "        s.encode(encoding='utf-8').decode('ascii')\n",
    "    except UnicodeDecodeError:\n",
    "        return False\n",
    "    else:\n",
    "        return True"
   ]
  },
  {
   "cell_type": "code",
   "execution_count": 22,
   "id": "0f24d4a5",
   "metadata": {},
   "outputs": [],
   "source": [
    "with open('data.pkl','rb') as f:\n",
    "    news_dict=pickle.load(f)"
   ]
  },
  {
   "cell_type": "code",
   "execution_count": 23,
   "id": "341e538e",
   "metadata": {},
   "outputs": [],
   "source": [
    "llm=GPT4All(model=\"model/ggml-model-q4_0.bin\",callback_manager=callback_manager, verbose=True)\n",
    "summarizer = load_summarize_chain(llm, chain_type='refine', verbose=True)"
   ]
  },
  {
   "cell_type": "code",
   "execution_count": 24,
   "id": "dcc56b06",
   "metadata": {},
   "outputs": [
    {
     "name": "stdout",
     "output_type": "stream",
     "text": [
      "\n",
      "\n",
      "\u001b[1m> Entering new RefineDocumentsChain chain...\u001b[0m\n",
      "\n",
      "\n",
      "\u001b[1m> Entering new LLMChain chain...\u001b[0m\n",
      "Prompt after formatting:\n",
      "\u001b[32;1m\u001b[1;3mWrite a concise summary of the following:\n",
      "\n",
      "\n",
      "\"The change, which saw state BJP chief Bandi Sanjay replaced with Kishan Reddy, was triggered by rising internal dissent within the party, sources say.G Kishan Reddy is believed to have a more agreeable demeanour towards the BRS.Hyderabad: The BJP's unexpected leadership change in Telangana on Tuesday marked a significant shift in the state's political landscape with less than six months to go before elections, but the makings of the announcement have been there for a while now.The change, which saw state BJP chief Bandi Sanjay replaced with Union Minister G Kishan Reddy, was triggered by rising internal dissent within the party, unusual for the typically disciplined BJP, sources say. This comes on the heels of the party's recent defeat in the Karnataka elections.Bandi Sanjay, often praised publicly by Prime Minister Narendra Modi, had enjoyed a meteoric rise within the party. His compelling narrative of an ordinary worker who auctioned his wife's mangalsutra to fund his election campaign resonated with many, particularly after his stunning win in the Karimnagar Lok Sabha elections in 2019.Under Bandi Sanjay's leadership, the BJP in Telangana had significantly bolstered its profile, becoming a considerable thorn in the side of the ruling Bahujan Rashtra Samithi (BRS) - more so than the Congress or the BJP had managed in the past.However, over the past few months, the BJP has been plagued by unprecedented levels of public dissension, with party leaders openly airing their grievances against Bandi Sanjay's leadership and demanding that their ambitions be recognised.The driving force behind the leadership change appears to be Eatala Rajender, a recent addition to the BJP who had been ousted from the BRS. Rajender successfully lobbied the BJP's central leadership, claiming that Bandi Sanjay's leadership style was alienating party veterans and discouraging potential recruits from other parties.While Mr Rajender's aspiration for the state leadership and potential candidacy for Chief Minister were seen as premature due to his newness to the party, his recent appointment as head of the Election Management Committee ensures that his influence continues to grow.Further fracturing the party's unity, Dubbaka MLA Raghunandan and former MP Jitender Reddy have openly questioned the party's leadership decisions and allocation of resources. Mr Raghunandan, in particular, has challenged why he shouldn't be considered for higher roles, such as state president or national spokesperson.The internal disputes reveal a significant shift in the party's dynamic, with prominent figures like Mr Rajender and Mr Raghunandan leveraging their personal political clout, gained independently of the BJP or PM Modi.Caste is also believed to have played a role in the leadership change, with Mr Sanjay, from the Munnuru Kapu (OBC) community of Karimnagar, replaced by Mr Reddy, a member of the politically dominant Reddy community.PromotedListen to the latest songs, only on JioSaavn.comG Kishan Reddy, a seasoned politician with prior experience as a state BJP chief, MLA, MP, and Union Minister, is expected to bring a balance of state and national understanding to his new role. It is rumoured that Mr Sanjay might be inducted into the union cabinet, a significant switch in roles for both leaders.Political analysts also speculate that Mr Reddy's more agreeable demeanour towards the BRS, compared to Mr Sanjay's confrontational approach, could signal a potential softening of the BJP's stance towards the ruling party in Telangana.\"\n",
      "\n",
      "\n",
      "CONCISE SUMMARY:\u001b[0m\n",
      "\n",
      "\u001b[1m> Finished chain.\u001b[0m\n",
      "\n",
      "\u001b[1m> Finished chain.\u001b[0m\n",
      "\n",
      "\n",
      "\u001b[1m> Entering new RefineDocumentsChain chain...\u001b[0m\n",
      "\n",
      "\n",
      "\u001b[1m> Entering new LLMChain chain...\u001b[0m\n",
      "Prompt after formatting:\n",
      "\u001b[32;1m\u001b[1;3mWrite a concise summary of the following:\n",
      "\n",
      "\n",
      "\"Red Magic 8S Pro and Red Magic 8S Pro+ were launched in China. They are powered by an overclocked version of Snapdragon 8 Gen 2 SoC, paired with up to 24GB of RAM and 1TB of internal storage.Red Magic 8S Pro and Red Magic 8S Pro+ were launched in China on Wednesday. The latest gaming focussed smartphones from the ZTE sub-brand Nubia, run on an advanced version of the Snapdragon 8 Gen 2 SoC paired with up to 24GB of RAM and 1TB of internal storage. They come with Android 13-based Redmagic OS 8.0 and feature an ICE 12.0 cooling system with a 3D vapour chamber for thermal management. The handsets feature a 6.8-inch AMOLED display with 120Hz refresh rate. The Red Magic 8S Pro is backed by a 6,000mAh battery with 80W fast charging, whereas the Red Magic 8S Pro+ carries a 5,000mAh battery with 165W fast charging support.Red Magic 8S Pro, Red Magic 8S Pro+ price, availabilityThe Red Magic 8S Pro's price starts at CNY 3,999 (roughly Rs. 45,300) for the base 8GB RAM + 128GB storage model. The 8GB RAM + 256GB storage variant is priced at CNY 4,399 (roughly Rs. 50,000), and the 12GB RAM + 256GB storage model gets a price tag of CNY 4,799 (roughly Rs. 54,000). The top-end version with 12GB RAM + 512GB storage is priced at CNY 5,499 (roughly Rs. 62,000).On the other hand, the price of RedMagic 8S Pro+ has been set at CNY 5,499 for the base 16GB + 256GB storage version. The 16GB + 512GB storage variant gets a price tag of CNY 5,799 ( roughly Rs. 65,900). There's also a RedMagic 8S Pro+ Aurora variant that is offered with 16GB +512GB, 16GB + 512GB, 16GB + 1TB, and 24GB + 1TB storage options. They are priced at CNY 5,799 (roughly Rs. 65,200), CNY 5,999 (roughly Rs. 68,100), CNY 6,999 (roughly Rs.79,400), and CNY 7499 (roughly Rs. 90,000), respectively. They are offered in Night Knight and Deuterium front transparent colours (translated from Chinese).Nubia Red Magic 8 Pro Series Gaming Smartphones Launched: All DetailsAdditionally, Nubia has unveiled a Red Magic 8S Pro+ Bumblebee limited edition smartphone priced at CNY 6,500 (roughly Rs. 73,000) with 16GB RAM + 512GB storage. It has a bespoke yellow finish.All variants in the Red Magic 8S Pro series are currently up for pre-reservations in China, and deliveries are slated to begin on July 11.Red Magic 8S Pro+ specificationsThe dual-SIM (Nano) Red Magic 8S Pro+ runs on Android 13-based Red Magic OS 8 and sports a 6.8-inch full-HD+ (1,116x2,480 pixels) AMOLED display with 120Hz refresh rate, 100 percent coverage of DCI-P3 colour gamut, and 1,300 nits of peak brightness. The display is rated to provide 960Hz touch sampling rate. It is powered by a 4nm Snapdragon 8 Gen 2 Leading Edition SoC, paired with up to 24GB of RAM. The special edition of the CPU follows 1+4+3 architecture with a peak frequency of 3.36GHz. The regular Snapdragon 8 Gen 2 SoC version has a prime CPU core with a maximum clock speed of 3.2GHz.Nubia Z50 Ultra With 16-Megapixel Under-Display Selfie Camera LaunchedLike the previous models, Red Magic 8S Pro+ comes with ICE12.0 Magic Cooling technology comprising cooling fans, graphene, and a 3D vapour chamber to manage the temperature during intense gaming hours. There is an in-house Red Core R2 chip as well and it also includes a dual X-axis linear motor.Photo Credit: NubiaFor optics, the Red Magic 8S Pro+ features a triple rear camera setup, headlined by a 50-megapixel Samsung GN5 primary sensor. Selfies and video calls are managed by a 16-megapixel under-display camera.The Red Magic 8S Pro+ packs up to 1TB of internal storage. Connectivity options on the smartphone include 5G, 4G LTE, Wi-Fi 7, Bluetooth 5.3, a USB Type-C port, and a 3.5mm audio jack. It also features dual speakers with DTS:X Ultra sound.Nubia has packed a 5,000mAh battery on the Red Magic 8S Pro+ with support for 165W fast charging. The fast charging technology is claimed to fill the battery up to 100 percent in just 14 minutes. The battery is also said to deliver up to 42 hours of playback time on a single charge.The special Bumblebee Edition of the Red Magic 8S Pro+ has a different packaging, but the specifications are similar to that of Red Magic 8S Pro+.Red Magic 8S Pro specificationsThe Red Magic 8S Pro comes with Android 13-based Red Magic OS 8 operating system and features similar display specifications as the Red Magic 8S Pro+. It is also powered by an overclocked Snapdragon 8 Gen 2 SoC, along with up to 16GB of RAM. It carries the same ICE 12.0 Magic Cooling system and Red Core R2 gaming chip.Like the Pro+ model, the Red Magic 8S Pro flaunts a triple rear camera setup, led by a 50-megapixel Samsung GN5 sensor and a 16-megapixel under-screen selfie camera. It packs 512GB of onboard storage.Connectivity options are identical to the Red Magic 8S Pro+. In the battery department, the Red Magic 8S Pro carries a larger 6,000mAh battery unit with support for 80W fast charging that is claimed to fill the battery from zero to 100 percent in as little as 35 minutes. The battery is said to deliver up to 48.14 hours of playtime on a single charge.From the Nothing Phone 2 to the Motorola Razr 40 Ultra, several new smartphones are expected to make their debut in July. We discuss all of the most exciting smartphones coming this month and more on the latest episode of Orbital, the Gadgets 360 podcast. Orbital is available on Spotify, Gaana, JioSaavn, Google Podcasts, Apple Podcasts, Amazon Music and wherever you get your podcasts.Affiliate links may be automatically generated - see our ethics statement for details.\"\n",
      "\n",
      "\n",
      "CONCISE SUMMARY:\u001b[0m\n",
      "\n",
      "\u001b[1m> Finished chain.\u001b[0m\n",
      "\n",
      "\u001b[1m> Finished chain.\u001b[0m\n",
      "\n",
      "\n",
      "\u001b[1m> Entering new RefineDocumentsChain chain...\u001b[0m\n",
      "\n",
      "\n",
      "\u001b[1m> Entering new LLMChain chain...\u001b[0m\n",
      "Prompt after formatting:\n",
      "\u001b[32;1m\u001b[1;3mWrite a concise summary of the following:\n",
      "\n",
      "\n",
      "\"A 37-year-old Muslim man has been arrested by Navsari police in Gujarat for allegedly raping and blackmailing a girl for nearly five years, an official said on Wednesday.Nizam Shaikh allegedly raped the girl for the first time five years ago, police said. (Representational)Navsari, Gujarat: A 37-year-old Muslim man has been arrested by Navsari police in Gujarat for allegedly raping and blackmailing a girl for nearly five years, an official said on Wednesday.Asim Nizam Shaikh, the accused, was arrested on Tuesday from Vasai near Mumbai \"in a case of love jihad\", police said in a statement here.Nizam Shaikh allegedly raped the girl for the first time five years ago when she was 16, and recorded a video which he used to blackmail her, police said.\"Love jihad\" is a term used by the right-wing activists to refer to an alleged conspiracy to convert Hindu girls to Islam by marrying them.To save himself from getting caught, Nizam Shaikh, who is married and has children, forced the victim to marry his accomplice Ronak Patel, police said.Ronak Patel, who was behind bars in a case of murder, came out on parole recently and was yet to be apprehended.On the victim's complaint, a First Information Report was registered against the duo under the Protection of Children from Sexual Offences Act, sections 376(2)(n) and 506(2) of the Indian Penal Code which deal with rape and criminal intimidation, and the Information Technology Act at Khergam police station on June 23.\"Shaikh and Patel went underground after the FIR was registered. We then learnt that Shaikh had reached Mumbai from Jaipur and was staying at a hotel in Vasai. We nabbed him from Vasai on Tuesday and brought him here. A POCSO court here remanded Shaikh in nine-day police custody,\" said Navsari district Superintendent of Police Rushikesh Upadhyay.Nizam Shaikh, a resident of Khergam, allegedly blackmailed the girl and her family for five years by using the videos he had recorded. He even broke her engagement by sending the videos to her fiance, the SP said.PromotedListen to the latest songs, only on JioSaavn.comNavsari police said in their statement that Nizam Shaikh was a bootlegger and had 18 cases related to prohibition, assault and illegal money-lending registered against. His father Nizam and three brothers also face criminal cases, said the statement.(Except for the headline, this story has not been edited by NDTV staff and is published from a syndicated feed.)\"\n",
      "\n",
      "\n",
      "CONCISE SUMMARY:\u001b[0m\n",
      "\n",
      "\u001b[1m> Finished chain.\u001b[0m\n",
      "\n",
      "\u001b[1m> Finished chain.\u001b[0m\n",
      "\n",
      "\n",
      "\u001b[1m> Entering new RefineDocumentsChain chain...\u001b[0m\n",
      "\n",
      "\n",
      "\u001b[1m> Entering new LLMChain chain...\u001b[0m\n",
      "Prompt after formatting:\n",
      "\u001b[32;1m\u001b[1;3mWrite a concise summary of the following:\n",
      "\n",
      "\n",
      "\"The jurors were told that the man was unhappy about bags of rubbish being left in the alleyway behind where he and the victims lived.Ms Hydara and her daughters died from smoke inhalation.A man from Nottingham has been found guilty of murdering his neighbour and her two young children by setting fire to their home. The man poured petrol through their letterbox and set fire to their flat while they were asleep in November last year.Jamie Barrow, 33, torched the flat belonging to Fatoumatta Hydara, 28, and daughters Fatimah Drammeh and Naeemah Drammeh, aged three and one, in Clifton, Nottingham.The man had admitted their manslaughter at Nottingham Crown Court but denied murder, claiming he did not think the family were at home at the time.On Tuesday, a jury found him guilty of the more severe charges. After seven hours of deliberations, a jury unanimously convicted Barrow of three counts of murder and arson being reckless as to whether life was endangered.A neighbour who killed a mother and her two daughters by setting fire to their home has been found guilty of their murders.Read the full press release on our website: https://t.co/tHR4teWcUTpic.twitter.com/LI8xPvvWGP— Nottinghamshire Police (@nottspolice) July 4, 2023The jurors were told that he was unhappy about bags of rubbish being left in the alleyway behind where he and the victims lived but police said no clear motive had been established, BBC reported. The prosecutors said Barrow knew the flat's front door was the only way in and out when he set the fire.He also told jurors he did not know the family were inside the first-floor flat when he used petrol to set fire to the property.Barrow lit the fire after filling a bottle with petrol from his motorbike and pouring it through his victims' letterbox before lighting it with tissue paper, according to a release by Nottingham Shire Police.The family was rushed to Queen's Medical Centre, where Fatimah and Naeemah were pronounced dead. Mrs Hydara died two days later.Ms Hydara and her daughters died from smoke inhalation.In the aftermath of the tragedy, grieving husband Aboubacarr Drammeh revealed his wife and their two daughters had planned to join him in America, where he worked as a biomedical technologist.After setting the house on fire, the man was seen on CCTV walking away from the burning flat with his dog while smoking a cigarette, the Nottingham Shire Police said.He later admitted drinking \"seven or eight\" pints of lager before starting the fire.PromotedListen to the latest songs, only on JioSaavn.comIn the court, he claimed that he had suffered from a \"very, very low mood\" before starting the fire.The 31-year-old will be sentenced on Friday (7 July 2023)\"\n",
      "\n",
      "\n",
      "CONCISE SUMMARY:\u001b[0m\n",
      "\n",
      "\u001b[1m> Finished chain.\u001b[0m\n",
      "\n",
      "\u001b[1m> Finished chain.\u001b[0m\n",
      "\n",
      "\n",
      "\u001b[1m> Entering new RefineDocumentsChain chain...\u001b[0m\n",
      "\n",
      "\n",
      "\u001b[1m> Entering new LLMChain chain...\u001b[0m\n",
      "Prompt after formatting:\n",
      "\u001b[32;1m\u001b[1;3mWrite a concise summary of the following:\n",
      "\n",
      "\n",
      "\"Sharad Pawar, ridiculed for being in the driving seat at the age of 83 by his nephew Ajit Pawar, today gave a point-by-point rebuttal to the rebels, fielding subjects ranging Nagaland and his past decisions.Sharad Pawar, ridiculed for being in the driving seat at the age of 83 by his nephew Ajit Pawar, today gave a point-by-point rebuttal to the rebels, fielding subjects ranging Nagaland and his past decisions.For the rebels, there was a warning too. Suggesting that the rebels would have done better to consult him before going ahead with their plans, Mr Pawar said, \"People who went with the BJP -- look at their history. Akali Dal formed government in Punjab. They are not in government now\".\"Similar things have happened in Telangana, Andhra Pradesh. Nitish Kumar had to take a decision in Bihar... The BJP destroys parties that formed government with them,\" Mr Pawar added.Responding to Ajit Pawar and Praful Patel's argument that if the NCP could ally with Shiv Sena, why not the BJP, Mr Pawar said there was a difference between the two.\"Yes, Shiv Sena also follows Hindutva. They take everyone together, that's their Hindutva. BJPs Hindutva is about dividing people, poisonous, Manuwadi and dangerous... People who divide on the basis of religion and caste, they can't be the one who love the country. That's why we can't go with someone who believes in this,\" Sharad Pawar said.He also clarified the issue of NCP support to BJP in Nagaland – another big argument of the rebels – pointing to the big picture.\"In Nagaland, our seven MLAs are with the BJP. Nagaland is the bordering state with another country. In states which share the border with China and Pakistan - we have to think a lot. The other country could take some benefit, that's why we gave support from outside. Here they formed the government and gave this example, I cannot agree with this example,\" said Mr Pawar.PromotedListen to the latest songs, only on JioSaavn.comThe Sena veteran only managed to gather 17 MLAs under his banner today, despite a whip and an appeal about \"an 83-year-old fighting alone\". The Ajit Pawar camp, who had urged the leaders to be \"practical\",  paraded 29 MLAs.\"\n",
      "\n",
      "\n",
      "CONCISE SUMMARY:\u001b[0m\n",
      "\n",
      "\u001b[1m> Finished chain.\u001b[0m\n",
      "\n",
      "\u001b[1m> Finished chain.\u001b[0m\n",
      "\n",
      "\n",
      "\u001b[1m> Entering new RefineDocumentsChain chain...\u001b[0m\n",
      "\n",
      "\n",
      "\u001b[1m> Entering new LLMChain chain...\u001b[0m\n",
      "Prompt after formatting:\n",
      "\u001b[32;1m\u001b[1;3mWrite a concise summary of the following:\n",
      "\n",
      "\n",
      "\"Nitin Gadkari also said that such a mixture would also reduce pollution and imports.Union minister Nitin Gadkari was addressing a rally in Rajasthan's Pratapgarh.Union minister Nitin Gadkari said on Tuesday made an innovative proposal to reduce the price of petrol to Rs 15 per litre. During a rally in Rajasthan's Pratapgarh, Mr Gadkari shared his vision of empowering farmers across the country to become \"urjadaata\" (energy providers). He said the price of petrol will be reduced if we take a blend of 60 per cent ethanol and 40 per cent electricity. During his address, the minister emphasised on the advantages of utilising a blend of ethanol and electricity.\"Our government is of the mindset that the farmers become not only 'annadata' but also 'urjadata'... all the vehicles will now run on ethanol produced by farmers. If an average of 60% ethanol and 40% electricity is taken then petrol will be available at the rate of Rs 15 per litre and the people will be benefitted,\" news agency ANI quoted Mr Gadkari as saying.#WATCH | Pratapgarh, Rajasthan | Union Minister Nitin Gadkari says, \"Our government is of the mindset that the farmers become not only 'annadata' but also 'urjadata'...All the vehicles will now run on ethanol produced by farmers. If an average of 60% ethanol and 40% electricity… pic.twitter.com/RGBP7do5Ka— ANI (@ANI) July 5, 2023He further highlighted that such a mixture would not only reduce pollution and imports but also redirect the massive import expenditure of Rs 16 lakh crore towards the farmers' households.On the same day, Mr Gadkari inaugurated and laid the foundation stone of 11 national highway projects totalling Rs 5,600 crore in Pratapgarh.Four national highway projects with a total length of 219 km and cost of Rs 3,775 crore were also inaugurated.PromotedListen to the latest songs, only on JioSaavn.comAmong them is a six-lane section from Kishangarh to the Gulbapura on National Highway 48 to improve connectivity to Ajmer and Bhilwara districts.In Rajasthan, an approval of 74 projects under Central Roads Fund at a cost of Rs 2,250 crore was also announced during this programme.\"\n",
      "\n",
      "\n",
      "CONCISE SUMMARY:\u001b[0m\n",
      "\n",
      "\u001b[1m> Finished chain.\u001b[0m\n",
      "\n",
      "\u001b[1m> Finished chain.\u001b[0m\n",
      "\n",
      "\n",
      "\u001b[1m> Entering new RefineDocumentsChain chain...\u001b[0m\n",
      "\n",
      "\n",
      "\u001b[1m> Entering new LLMChain chain...\u001b[0m\n",
      "Prompt after formatting:\n",
      "\u001b[32;1m\u001b[1;3mWrite a concise summary of the following:\n",
      "\n",
      "\n",
      "\"Weeks after her exit, Palak made some shocking revelations about ex-boyfriend and co-contestant Avinash Sachdev.Image was shared on Twitter. (Courtesy: nandan1098)Bigg Boss OTT 2 contestant, actress Palak Purswani created a lot of buzz during her short stay inside the house. For those who don't know, Palak and Puneet Superstar were eliminated in the first week of the show. Weeks after her exit, Palak made some shocking revelations about ex-boyfriend and co-contestant Avinash Sachdev. The actress said that Avinash “cheated” on her twice. Speaking to Siddharth Kannan, Palak said, “Whenever, I remember about the episode my blood starts boiling. Just thinking about that also. After a brief argument, When I snatched his phone and checked the call logs I couldn't believe it. I won't take the name of that woman because I have no right to blame her…I never liked the woman [an actress] and Avinash was aware.”Palak Purswani added, “When I read the message on Avinash's phone, “I am waiting outside the washroom”, I was shocked. For me, that day was like I had invested so much time and energy into the relationship and Avinash didn't.”Talking about how the relationship impacted her family, Palak Purswani said, “My father was extremely involved. He used to think of him as a son. My father had a heart attack after my break up with Avinash. None of his family members called us even once.” Palak Purswani also explained why she is talking about her past relationship with Avinash now. The actress said that Avinash's behaviour inside the Bigg Boss OTT 2 house forced her to share her side of the story. She said, “Like Avinash said that he was out of love and it shouldn't matter whatever he does and the conversation ended there. Iska matlab kya hai… What did you mean when you said, “You were out of love.\" PromotedListen to the latest songs, only on JioSaavn.comSpeaking to Etimes, Palak said that her family and friends were “furious over Avinash lying on national television.”Palak Purswani and Avinash Sachdev were in a relationship for four years. \"\n",
      "\n",
      "\n",
      "CONCISE SUMMARY:\u001b[0m\n",
      "\n",
      "\u001b[1m> Finished chain.\u001b[0m\n",
      "\n",
      "\u001b[1m> Finished chain.\u001b[0m\n",
      "\n",
      "\n",
      "\u001b[1m> Entering new RefineDocumentsChain chain...\u001b[0m\n",
      "\n",
      "\n",
      "\u001b[1m> Entering new LLMChain chain...\u001b[0m\n",
      "Prompt after formatting:\n",
      "\u001b[32;1m\u001b[1;3mWrite a concise summary of the following:\n",
      "\n",
      "\n",
      "\"While air pollution continues to significantly affect both rural and urban populations, India's mitigation action is hugely concentrated in the cities and often ignores rural parts of the country, a report has found.The report said PM 2.5 levels continue to be higher than the safe limits in most states. (File)New Delhi: While air pollution continues to significantly affect both rural and urban populations, India's mitigation action is hugely concentrated in the cities and often ignores rural parts of the country, a report has found. The analysis found that Particulate Matter 2.5 levels in the rural and urban regions across India are very similar. While these have witnessed a similar trend of decline over the last few years, levels continue to be higher than the safe limits in most states. While rural regions saw PM 2.5 levels decline by 19.1%, urban regions recorded an 18.7% dip between 2017 and 2022. 'Status of Urban and Rural air quality exposure at a national scale: A comparative analysis' by Climate Trends - a research-based consulting and capacity building initiative -  used Satellite-Based Application For Air Quality Monitoring and Management at National Scale data from IIT Delhi for PM 2.5 estimation and the Global Human Settlement Layer data for urban and rural classification.The report showed that Uttar Pradesh has recorded the best progress from 2017 to 2022, with a reduction of 37.8% and 38.1% in urban and rural PM 2.5 levels, respectively. Maharashtra was the worst performing state, with only a dip of 7.7% in its urban PM 2.5 levels and Gujarat - with a decrease of 8.2% in its rural PM 2.5 levels - made the least progress. The Union Territories (UTs) of Dadra & Nagar Haveli and Daman and Diu, too, made little progress, with approximately a 4-7% decrease in PM 2.5 from 2017 to 2022. And, with urban PM 2.5 levels going up by 0.3%, Chandigarh was the only UT or state to see an increase.PromotedListen to the latest songs, only on JioSaavn.comDr Arun Sharma, Director, ICMR-NIRCMD (National Institute for Implementation Research on Non Communicable Diseases), Jodhpur, said, \"This analysis is a reiteration that air pollution is not a problem of cities alone; the rural population is as affected. Prevention and mitigation measures should be based on local conditions. Documentation of health effects is as important as exposure documentation.\"Sagnik Dey, Professor, Centre for Atmospheric Sciences, Indian Institute of Technology Delhi, said, \"This analysis is a clear indication that India is inching towards plateauing its upward rising air pollution levels since 2016-2017. This is a positive achievement, however, the challenge now lies towards bringing the needle down further, especially as we are in the last year of the National Clean Air Programme's targets of reducing 20-30% particulate matter levels by 2024.\" \"\n",
      "\n",
      "\n",
      "CONCISE SUMMARY:\u001b[0m\n",
      "\n",
      "\u001b[1m> Finished chain.\u001b[0m\n",
      "\n",
      "\u001b[1m> Finished chain.\u001b[0m\n",
      "\n",
      "\n",
      "\u001b[1m> Entering new RefineDocumentsChain chain...\u001b[0m\n",
      "\n",
      "\n",
      "\u001b[1m> Entering new LLMChain chain...\u001b[0m\n",
      "Prompt after formatting:\n",
      "\u001b[32;1m\u001b[1;3mWrite a concise summary of the following:\n",
      "\n",
      "\n",
      "\"After remaining shut for over a couple of months because of ethnic clashes, schools reopened across Manipur on Wednesday.Most students with whom PTI interacted were very happy to get back to school. (Representational)Imphal, Manipur: After remaining shut for over a couple of months because of violence in the state, schools reopened across Manipur today.Though attendance in most institutes was extremely low on the first day, students, parents and guardians welcomed the state government's decision to restart classes.Chief Minister N Biren Singh had on Monday announced to reopen schools for classes 1 to 8 from July 5.Most students with whom PTI interacted were very happy to get back to school.Class 1 student Linthoi said, \"I am very happy. Finally, after a two-month wait, I will be able to meet my friends and teachers. Moreover, I will learn new things.\" She said the shutting down of schools had made her life extremely idle and boring.Several students said the state government should take steps to ensure that schools remain open for at least a few hours daily even if the situation is tense.Bhabesh Sharma, father of a class 4 student, hoped that the situation remains normal for classes to continue.\"I'm keeping my fingers crossed. Education is key and I sincerely hope that peace returns to the state,\" he said.He, however, added that students' security remains his concern.Laishram Ibochouba, parent of a class 5 boy, appreciated the government's decision to resume classes.\"I hope the government takes safety measures for students in case of any untoward incident,\" he said.\"I am not scared to send my kids to school because the institute lies in the heart of Imphal. But it will be great if the government makes arrangements for safety of the students,\" he said.Headmistress of Wangkhei High School RK Ranjita Devi welcomed the government's move to resume classes.\"With schools remaining closed since the first week of May, most of the students couldn't concentrate in their studies and their minds remained diverted,\" Ms Devi said.She said attendance on the first day in her school was just around 10 per cent. \"I am hopeful that it will increase in the days to come,\" she added.\"We cannot neglect the future of students. This is the time they acquire new knowledge. Therefore, we should try our level best to continue with regular classes,\" she said, adding that the school will take necessary steps for the security of students.She said no student will be allowed to go home if any violent incident occurs when classes are going on.\"We will allow students to go home only when their parents come to pick them up,\" she added.PromotedListen to the latest songs, only on JioSaavn.comMs Devi said since there is a ban on internet, online classes are also not possible. \"Due to internet ban, online classes are not possible. So in the interest of students, we will give assignments and homework during regular classes,\" she said.(Except for the headline, this story has not been edited by NDTV staff and is published from a syndicated feed.)\"\n",
      "\n",
      "\n",
      "CONCISE SUMMARY:\u001b[0m\n",
      "\n",
      "\u001b[1m> Finished chain.\u001b[0m\n",
      "\n",
      "\u001b[1m> Finished chain.\u001b[0m\n",
      "\n",
      "\n",
      "\u001b[1m> Entering new RefineDocumentsChain chain...\u001b[0m\n",
      "\n",
      "\n",
      "\u001b[1m> Entering new LLMChain chain...\u001b[0m\n",
      "Prompt after formatting:\n",
      "\u001b[32;1m\u001b[1;3mWrite a concise summary of the following:\n",
      "\n",
      "\n",
      "\"Congress leader Rahul Gandhi on Wednesday said that atrocities on tribals and Dalits are increasing under the BJP rule, as he decried an incident in Madhya Pradesh where a man, alleged to be a BJP leader, was seen urinating on a tribal.\"This is the disgusting face of BJP's hatred towards tribals and Dalits,\" Rahul Gandhi said. (File)New Delhi: Congress leader Rahul Gandhi on Wednesday said that atrocities on tribals and Dalits are increasing under the BJP rule, as he decried an incident in Madhya Pradesh where a man, alleged to be a BJP leader, was seen urinating on a tribal.The former Congress chief said the real face of BJP's hatred towards tribals and Dalits was exposed with the \"inhuman act.\" Congress general secretary Priyanka Gandhi Vadra also slammed the BJP over the incident and said that \"the inhuman and disgusting act done by a person close to a BJP MLA to a tribal youth in Madhya Pradesh is extremely shameful.\" During the 18 years of BJP rule in the state, 30,400 cases of atrocities on tribals have come to the fore, she claimed \"In the BJP rule, there are only empty claims and empty words about tribal interests. Why doesn't the government take real steps to stop atrocities on tribals?\" Priyanka Gandhi said.A video of a man, purported to be a local BJP leader from Madhya Pradesh, showing him urinating on a tribal person in the state's Sidhi district recently went viral on social media leading to demands for his arrest from several quarters.He was rounded up Wednesday after Madhya Pradesh Chief Minister Shivraj Singh Chouhan called for the immediate arrest of the man, who has since been identified as Pravesh Shukla.\"Atrocities on tribal brothers and sisters are increasing in the BJP rule. The entire humanity has been put to shame by the inhuman crime of a BJP leader in Madhya Pradesh,\" Rahul Gandhi said in a tweet in Hindi.\"This is the disgusting face and real character of BJP's hatred towards tribals and Dalits,\" he said.MP Home Minister Narottam Mishra said the man's act was \"heinous, condemnable and a blot on humanity.\" Asked about Congress' demand for a \"bulldozer action\" against the accused, Narottam Mishra, who is also the state government's spokesperson, told PTI, \"Bulldozer action is not taken at Congress' demand...bulldozer is used only when there is an encroachment.\" Earlier in the day, Narottam Mishra told reporters that the accused had been arrested, as he spoke of a \"bulldozer\" action without taking any names.The term became popular after the Yogi Adityanath-led Uttar Pradesh government razed several properties owned by alleged criminals with bulldozers.On Tuesday, an official from the MP Chief Minister's Office said a case was registered against Shukla under Indian Penal Code sections 294 (obscene acts), 504 (intentional insult to provoke breach of peace), and provisions of the Scheduled Castes and Scheduled Tribes (Prevention of Atrocities) Act.PromotedListen to the latest songs, only on JioSaavn.comThe stringent National Security Act has also been invoked against him, he added. (Except for the headline, this story has not been edited by NDTV staff and is published from a syndicated feed.)\"\n",
      "\n",
      "\n",
      "CONCISE SUMMARY:\u001b[0m\n",
      "\n",
      "\u001b[1m> Finished chain.\u001b[0m\n",
      "\n",
      "\u001b[1m> Finished chain.\u001b[0m\n",
      "\n",
      "\n",
      "\u001b[1m> Entering new RefineDocumentsChain chain...\u001b[0m\n",
      "\n",
      "\n",
      "\u001b[1m> Entering new LLMChain chain...\u001b[0m\n",
      "Prompt after formatting:\n",
      "\u001b[32;1m\u001b[1;3mWrite a concise summary of the following:\n",
      "\n",
      "\n",
      "\"The letter dated July 19, 1978, shows Deepak Parekh was given the post of Deputy General Manager.Deepak Parekh joined the bank in 1978.HDFC Bank was in news recently for taking over its parent, housing finance major HDFC. After the reverse mega merger, the country's first home finance company ceased to exist, but it created a lender that ranks fourth in equity market capitalisation. The merger came into effect on July 1, but a day before that, its chairman Deepak Parekh resigned and his last emotional letter to employees started trending. In the letter, Mr Parekh said it was \"time to hang my boots\".Now, an offer letter has surfaced online that users claim is what Mr Parekh received when he joined HDFC Bank. Dated July 19, 1978, the letter shows Mr Parekh was given the post of Deputy General Manager.NDTV cannot verify the authenticity of the letter.Deepak Parekh hangs up his boots after a 45-year career at #HDFC👇 His appointment letter dated July 19, 1978. He joined as Deputy General Manager of HDFC for a basic salary of Rs 3,500Truly the end of an era!#HDFCMergerpic.twitter.com/9Z7qedifTK— Shilpa S. Ranipeta (@Shilparanipeta) June 30, 2023As per the letter, Mr Parekh's basic salary was Rs 3,500 along with Rs 500 as dearness allowance.He was also entitled to 15 per cent housing rent allowance (HRA) and a city compensatory allowance of 10 per cent.Moreover, Mr Parekh was also entitled to corporation's Provident Fund, gratuity, medical benefits and leave travel facilities. As per the letter, HDFC was ready to reimburse the expenses of his residential telephone.Termed as the biggest transaction in India's corporate history, HDFC Bank had, on April 4 last year, agreed to take over the biggest domestic mortgage lender in a deal valued at about $40 billion, creating a financial services titan.PromotedListen to the latest songs, only on JioSaavn.comThe proposed entity will have a combined asset base of around Rs 18 lakh crore.Now that the deal is effective, HDFC Bank is 100 per cent owned by public shareholders, and existing shareholders of HDFC own 41 per cent of the bank.\"\n",
      "\n",
      "\n",
      "CONCISE SUMMARY:\u001b[0m\n",
      "\n",
      "\u001b[1m> Finished chain.\u001b[0m\n",
      "\n",
      "\u001b[1m> Finished chain.\u001b[0m\n",
      "\n",
      "\n",
      "\u001b[1m> Entering new RefineDocumentsChain chain...\u001b[0m\n",
      "\n",
      "\n",
      "\u001b[1m> Entering new LLMChain chain...\u001b[0m\n",
      "Prompt after formatting:\n",
      "\u001b[32;1m\u001b[1;3mWrite a concise summary of the following:\n",
      "\n",
      "\n",
      "\"A poverty-hit Odisha tribal woman, who was saddened by the birth of a second girl child, allegedly sold her eight-month-old daughter to a couple for a measly Rs 800, police said.Police said the husband was unaware of the incident and was told the baby had died (Representational)Mayurbhanj, Odisha: A poverty-hit Odisha tribal woman, who was saddened by the birth of a second girl child, allegedly sold her eight-month-old daughter to a couple for a measly Rs 800, police said.The woman, identified as Karami Murmu, is a resident of Mayurbhanj district's Khunta.Police said Karami's husband was unaware of the incident since he was away in Tamil Nadu working as daily wage earner.According to police, Karami was allegedly unhappy over the birth of her second daughter and had raised concerns about her upbringing with her neighbour Mahi Murmu, who brokered a deal and arranged a buyer for the child.Once the deal was struck, Karami sold the eight-month-old infant to a couple identified as Phulamani and Akhil Marandi of Bipracharanpur village for Rs 800.When the kid's father Musu Murmu returned home from Tamil Nadu and inquired about his second daughter, his wife claimed that she had died, while his neighbours informed him about the deal. Unsure of what had happened, he filed a complaint at Khunta police station on Monday.Police immediately swung into action and arrested Musu's wife, the couple who bought the baby and the mediator on Tuesday.Mayurbhanj Superintendent of Police Battula Gangadhar said the woman had gone to a market with her kid but returned alone. When villagers asked her about the child, Karami told them that she had died, he said.The senior cop said police have rescued the infant and sent her to Childcare.PromotedListen to the latest songs, only on JioSaavn.com\"We have booked those involved in the crime including the mother under Section 370 IPC (Human Trafficking),\" added SP Gangadhar. (Except for the headline, this story has not been edited by NDTV staff and is published from a syndicated feed.)\"\n",
      "\n",
      "\n",
      "CONCISE SUMMARY:\u001b[0m\n",
      "\n",
      "\u001b[1m> Finished chain.\u001b[0m\n",
      "\n",
      "\u001b[1m> Finished chain.\u001b[0m\n",
      "\n",
      "\n",
      "\u001b[1m> Entering new RefineDocumentsChain chain...\u001b[0m\n",
      "\n",
      "\n",
      "\u001b[1m> Entering new LLMChain chain...\u001b[0m\n",
      "Prompt after formatting:\n",
      "\u001b[32;1m\u001b[1;3mWrite a concise summary of the following:\n",
      "\n",
      "\n",
      "\"Daniel Radcliffe seems content with not returning in a cameo role in Max’s upcoming TV series adaptation of Harry Potter. In an interview, the British actor, known for playing the titular wizard in the eight-film-long franchise, confirmed that he’s not actively seeking a role in the show and that he’s quite “excited to have that torch passed.” Warner Bros. Discovery ordered a decade-long series adaptation of author J.K. Rowling’s books in April, which will feature an entirely new cast.Daniel Radcliffe is stated to be fine with not returning in Max's upcoming TV series adaptation of Harry Potter, even in a cameo role. Speaking to ComicBook.com, the British actor, known for playing ‘The Boy Who Lived' in the eight-film-long franchise, confirmed that he's not actively seeking a role in the show, adding that he's quite “excited to have that torch passed.” Warner Bros. Discovery ordered a decade-long series adaptation of the controversial author J.K. Rowling's books in April, which will feature an entirely new cast. Rowling will executive produce the series, which is rumoured to premiere sometime in 2025 or 2026.“My understanding is that they're trying to very much start fresh and I'm sure whoever is making them will want to make their own mark on it and probably not want to have to figure out how to get old Harry to cameo in this somewhere,” Radcliffe said in the interview. “So I'm definitely not seeking it out in any way. But I do wish them, obviously, all the luck in the world and I'm very excited to have that torch passed. But I don't think it needs me to physically pass it.” Radcliffe's comments on cameo appearances do hold some weight, with modern blockbusters oftentimes including past actors for nostalgia purposes or simply to drive older audiences to theatres. The Ezra Miller-led The Flash is a good example of that, with the film using multiversal shenanigans as an excuse to carry out somewhat illogical fan service, instead of telling a coherent story.The Wizarding World on the big screen was originally planned to continue with five films in the Fantastic Beasts series, but development seems to be in a state of limbo after the third one — Fantastic Beasts: The Secrets of Dumbledore — possibly due to the latest film's lacklustre reception. As for the planned Harry Potter Max series, each of Rowling's seven novels will be adapted into a single season of television, trying to recapture the same magic as Warner Bros' movies did 25 years ago, albeit tailored for a new generation. The story largely follows the titular 11-year-old orphaned boy, who upon learning that he's a wizard is whisked away on a whimsical journey to the Hogwarts School of Witchcraft and Wizardry to harness his magical powers and learn the truth behind his biological parents' death.Since his stint in the Harry Potter films, lead Radcliffe has appeared in a bunch of theatre plays and movies in absurd roles — even playing a washed-up zombie in Oscar-winning directors Daniel Kwan and Daniel Scheinert's Swiss Army Man. He will next be seen in the fourth season of TBS' anthology comedy series 'Miracle Workers' as wasteland warrior Sid, navigating a fictional dystopia called Boomtown. Geraldine Viswanathan (Bad Education) co-stars in it as a ruthless warlord, coming to terms with the existential terms of married life and small-town living.The Harry Potter series is allegedly eyeing a release sometime in 2025–26, exclusively on Max.\n",
      "Barbie to Oppenheimer: The 10 Biggest Movies in JulyWeb Series to Watch in July on Netflix, Hotstar, Apple TV+, Prime Video, Zee5Quentin Tarantino Not Working on Kill Bill Volume 3: ReportWatch the Second Trailer for Dune: Part Two, Out November 3What are the most exciting titles that gamers can look forward to in 2023? We discuss some of our favourites on the latest episode of Orbital, the Gadgets 360 podcast. Orbital is available on Spotify, Gaana, JioSaavn, Google Podcasts, Apple Podcasts, Amazon Music and wherever you get your podcasts.Affiliate links may be automatically generated - see our ethics statement for details.\"\n",
      "\n",
      "\n",
      "CONCISE SUMMARY:\u001b[0m\n",
      "\n",
      "\u001b[1m> Finished chain.\u001b[0m\n",
      "\n",
      "\u001b[1m> Finished chain.\u001b[0m\n"
     ]
    }
   ],
   "source": [
    "summary_dict = {}\n",
    "errors=[]\n",
    "for k, v in news_dict.items():\n",
    "        if 'No content' in v[2]:\n",
    "            continue\n",
    "        hl = v[0]\n",
    "        sub_text=(v[1]+v[2]).replace('\\n\\n\\n',\"\").replace('\\n\\n','')\n",
    "        if not isEnglish(sub_text):\n",
    "            sub_text=sub_text.encode(\"utf-8\")\n",
    "        d = Document(page_content=sub_text)\n",
    "        result = summarizer.run([d])\n",
    "        url = v[3]\n",
    "        summary_dict[k] = (hl, url, sub_text, result, len(sub_text), len(result))"
   ]
  },
  {
   "cell_type": "code",
   "execution_count": 25,
   "id": "f205f745",
   "metadata": {},
   "outputs": [
    {
     "name": "stdout",
     "output_type": "stream",
     "text": [
      "\u001b[1m 6 Months Before Telangana Polls, BJP's Big Change Suggests A Reset \u001b[0m\n",
      "\n",
      "\n",
      "\n",
      "\u001b[1m Red Magic 8S Pro+, Red Magic 8S Pro With Up to 24GB RAM, Snapdragon 8 Gen 2 SoC Launched: All Details \u001b[0m\n",
      "\n",
      "\n",
      "\n",
      "\u001b[1m Man Rapes Girl For 5 Years, Arrested In \"Love Jihad\" Case: Gujarat Cops \u001b[0m\n",
      "\n",
      "\n",
      "\n",
      "\u001b[1m UK Man Found Guilty Of Murdering Neighbour, Two Children In House Fire \u001b[0m\n",
      "\n",
      "\n",
      "\n",
      "\u001b[1m Why Sena And Not BJP? Sharad Pawar's Point-By-Point Rebuttal To Rebels \u001b[0m\n",
      "\n",
      "\n",
      "\n",
      "\u001b[1m \"Petrol Will Be Sold At Rs 15 Per Litre If...\": What Minister Nitin Gadkari Said \u001b[0m\n",
      "\n",
      "\n",
      "\n",
      "\u001b[1m Bigg Boss Star Palak Purswani Reveals Her Dad \"Had A Heart Attack\" After Her Break Up With Avinash Sachdev \u001b[0m\n",
      "\n",
      "\n",
      "\n",
      "\u001b[1m Urban, Rural India Similarly Polluted, But Mitigation Focuses On Cities: Report \u001b[0m\n",
      "\n",
      "\n",
      "\n",
      "\u001b[1m Schools Reopen In Manipur, Attendance Extremely Low On The First Day \u001b[0m\n",
      "\n",
      "\n",
      "\n",
      "\u001b[1m Rahul Gandhi's Big Attack On BJP Over Madhya Pradesh Urinating Incident \u001b[0m\n",
      "\n",
      "\n",
      "\n",
      "\u001b[1m Amid HDFC Merger, Deepak Parekh's Offer Letter Goes Viral. His Salary Was... \u001b[0m\n",
      "\n",
      "\n",
      "\n",
      "\u001b[1m Odisha Woman, Unhappy About 2nd Girl Child, Sells Daughter For Rs 800 \u001b[0m\n",
      "\n",
      "\n",
      "\n",
      "\u001b[1m Daniel Radcliffe Says He’s ‘Definitely Not Seeking’ a Cameo in Max’s Harry Potter TV Series: Report \u001b[0m\n",
      "\n",
      "\n",
      "\n"
     ]
    }
   ],
   "source": [
    "for i in summary_dict:\n",
    "    print('\\033[1m',summary_dict[i][0],'\\033[0m')\n",
    "    print(summary_dict[i][3])\n",
    "    print('\\n')"
   ]
  },
  {
   "cell_type": "markdown",
   "id": "daa9ee98",
   "metadata": {},
   "source": [
    "<b> The GPT4All model completely fails disastrously on news-related summarization. </b>\n",
    "<ul>\n",
    "    <li>A large part of this could be because it has not been trained on any India-specific context aka names, news, vocabulary, etc. However, it does do well on general topics as shown above.</li>\n",
    "<li>This could also be because if the tokenization dictionary does not contain any of the proper nouns, it will marks almost all of them with the numerical representation of the <'UNK'> token and hence, it will be unable to find any relation between words with the same token representation</li>"
   ]
  }
 ],
 "metadata": {
  "kernelspec": {
   "display_name": "Python 3 (ipykernel)",
   "language": "python",
   "name": "python3"
  },
  "language_info": {
   "codemirror_mode": {
    "name": "ipython",
    "version": 3
   },
   "file_extension": ".py",
   "mimetype": "text/x-python",
   "name": "python",
   "nbconvert_exporter": "python",
   "pygments_lexer": "ipython3",
   "version": "3.11.4"
  }
 },
 "nbformat": 4,
 "nbformat_minor": 5
}
