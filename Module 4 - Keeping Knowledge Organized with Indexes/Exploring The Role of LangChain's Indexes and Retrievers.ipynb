{
 "cells": [
  {
   "cell_type": "markdown",
   "id": "fe89ee4a",
   "metadata": {},
   "source": [
    "## Key concepts\n",
    "<ol>\n",
    "    <li>An index is a powerful data structure that meticulously organizes and stores documents to enable efficient searching, while a retriever harnesses the index to locate and return pertinent documents in response to user queries. Within LangChain, the primary index types are centered on vector databases, with embeddings-based indexes being the most prevalent.</li>\n",
    "    <li>\n",
    "Retrievers focus on extracting relevant documents to merge with prompts for language models. A retriever exposes a get_relevant_documents method, which accepts a query string as input and returns a list of related documents.</li>"
   ]
  },
  {
   "cell_type": "code",
   "execution_count": 1,
   "id": "b5610da0",
   "metadata": {},
   "outputs": [
    {
     "name": "stderr",
     "output_type": "stream",
     "text": [
      "D:\\miniconda3\\envs\\langchain\\lib\\site-packages\\deeplake\\util\\check_latest_version.py:32: UserWarning: A newer version of deeplake (3.6.19) is available. It's recommended that you update to the latest version using `pip install -U deeplake`.\n",
      "  warnings.warn(\n"
     ]
    }
   ],
   "source": [
    "from langchain.llms import OpenAI"
   ]
  },
  {
   "cell_type": "markdown",
   "id": "c4b97f6d",
   "metadata": {},
   "source": [
    "Extracted from <a href=\"https://en.wikipedia.org/wiki/J._Robert_Oppenheimer\"> Robert oppenheimer's webpage and condensed </a>"
   ]
  },
  {
   "cell_type": "markdown",
   "id": "9124003e",
   "metadata": {},
   "source": [
    "# Text Splitting"
   ]
  },
  {
   "cell_type": "markdown",
   "id": "37afea19",
   "metadata": {},
   "source": [
    "#### To process large datasets through indexes and retrievers, we have to first split the text into more manageable sizes. We cannot tokenize / feed extremely large datasets to the model in one shot."
   ]
  },
  {
   "cell_type": "markdown",
   "id": "5e78db9f",
   "metadata": {},
   "source": [
    "<b> We split the text into more manageable pieces of text since all llms have a maximum limit on the number of 'tokens' (similar but not exactly equal to number of words) that they can process in one go. In case, more tokens are provided than can be processed, the LLM will throw an error which looks like:<br>\n",
    "`error: {\n",
    "  message: \"This model's maximum context length is 4097 tokens, however you requested 5360 tokens (1360 in your prompt; 4000 for the completion). Please reduce your prompt; or completion length.\",`<br>\n",
    " `type: 'invalid_request_error',`<br>\n",
    "  `param: null,`<br>\n",
    "  `code: null`<br>\n",
    "`}`"
   ]
  },
  {
   "cell_type": "markdown",
   "id": "7fc3fe02",
   "metadata": {},
   "source": [
    "## Create split text from plain text"
   ]
  },
  {
   "cell_type": "code",
   "execution_count": 2,
   "id": "b90db0bd",
   "metadata": {},
   "outputs": [],
   "source": [
    "text='''Julius Robert Oppenheimer (April 22, 1904 – February 18, 1967) was an American theoretical physicist and director of the Manhattan Project's Los Alamos Laboratory during World War II. He is often called the \"father of the atomic bomb\".\n",
    "\n",
    "Born in New York City, Oppenheimer earned a bachelor of arts degree in chemistry from Harvard University in 1925 and a doctorate in physics from the University of Göttingen in Germany in 1927, where he studied under Max Born. After research at other institutions, he joined the physics department at the University of California, Berkeley, where he became a full professor in 1936. He made significant contributions to theoretical physics, including achievements in quantum mechanics and nuclear physics such as the Born–Oppenheimer approximation for molecular wave functions, work on the theory of electrons and positrons, the Oppenheimer–Phillips process in nuclear fusion, and the first prediction of quantum tunneling. With his students, he also made contributions to the theory of neutron stars and black holes, quantum field theory, and the interactions of cosmic rays.\n",
    "\n",
    "In 1942, Oppenheimer was recruited to work on the Manhattan Project, and in 1943 he was appointed director of the project's Los Alamos Laboratory in New Mexico, tasked with developing the first nuclear weapons. His leadership and scientific expertise were instrumental in the project's success. On July 16, 1945, he was present at the first test of the atomic bomb, Trinity. In August 1945, the weapons were used against Japan in the bombings of Hiroshima and Nagasaki, the only use to date of nuclear weapons in an armed conflict.\n",
    "\n",
    "In 1947, Oppenheimer became the director of the Institute for Advanced Study in Princeton, New Jersey, and chaired the influential General Advisory Committee of the newly created U.S. Atomic Energy Commission. He lobbied for international control of nuclear power to avert nuclear proliferation and a nuclear arms race with the Soviet Union. He opposed the development of the hydrogen bomb during a 1949–1950 governmental debate on the question and subsequently took positions on defense-related issues that provoked the ire of some U.S. government and military factions. During the Second Red Scare, Oppenheimer's stances, together with his past associations with the Communist Party USA, led to the revocation of his security clearance following a 1954 security hearing. This effectively ended his access to the government's atomic secrets and thus his career as a nuclear physicist. Stripped also of his direct political influence, Oppenheimer continued to lecture, write, and work in physics. In 1963, he was awarded the Enrico Fermi Award as a gesture of political rehabilitation. He died four years later of throat cancer. In 2022, the federal government vacated the 1954 revocation of Oppenheimer's security clearance.\n",
    "\n",
    "\n",
    "Manhattan Project\n",
    "Los Alamos\n",
    "On October 9, 1941, two months before the United States entered World War II, President Franklin D. Roosevelt approved a crash program to develop an atomic bomb. Lawrence brought Oppenheimer into the project on October 21. On May 18, 1942, [105] National Defense Research Committee Chairman James B. Conant, who had been one of Oppenheimer's lecturers at Harvard, asked Oppenheimer to take over work on fast neutron calculations, a task Oppenheimer threw himself into with full vigor. He was given the title \"Coordinator of Rapid Rupture\", which specifically referred to the propagation of a fast neutron chain reaction in an atomic bomb. One of his first acts was to host a summer school for bomb theory in Berkeley. The mix of European physicists and his own students—a group including Robert Serber, Emil Konopinski, Felix Bloch, Hans Bethe and Edward Teller—kept themselves busy by calculating what needed to be done, and in what order, to make the bomb.\n",
    "\n",
    "In June 1942, the U.S. Army established the Manhattan Engineer District to handle its part in the atom bomb project, beginning the process of transferring responsibility from the Office of Scientific Research and Development to the military.In September, Brigadier General Leslie R. Groves, Jr., was appointed director of what became known as the Manhattan Project. By October 12, 1942, Groves and Oppenheimer had decided that for security and cohesion, they needed to establish a centralized, secret research laboratory in a remote location.\n",
    "\n",
    "Groves selected Oppenheimer to head the project's secret weapons laboratory, although it is not known precisely when. This decision surprised many, because Oppenheimer had left-wing political views and no record as a leader of large projects. Groves worried that because Oppenheimer did not have a Nobel Prize, he might not have had the prestige to direct fellow scientists, but Groves was impressed by Oppenheimer's singular grasp of the practical aspects of the project and by the breadth of his knowledge. As a military engineer, Groves knew that this would be vital in an interdisciplinary project that would involve not just physics but also chemistry, metallurgy, ordnance, and engineering. Groves also detected in Oppenheimer something that many others did not, an \"overweening ambition\", which Groves reckoned would supply the drive necessary to push the project to a successful conclusion. Oppenheimer's past associations were not overlooked, but on July 20, 1943, Groves directed that he receive a security clearance \"without delay irrespective of the information which you have concerning Mr Oppenheimer. He is absolutely essential to the project.\"Rabi considered Oppenheimer's appointment \"a real stroke of genius on the part of General Groves, who was not generally considered to be a genius\".\n",
    "\n",
    "Oppenheimer favored a location for the laboratory in New Mexico, not far from his ranch. On November 16, 1942, he, Groves and others toured a prospective site. Oppenheimer feared that the high cliffs surrounding it would feel claustrophobic, and there was concern about possible flooding. He then suggested a site he knew well: a flat mesa near Santa Fe, New Mexico, which was the site of a private boys' school, the Los Alamos Ranch School. The engineers were concerned about the poor access road and the water supply but otherwise felt that it was ideal. The Los Alamos Laboratory was built on the site of the school, taking over some of its buildings, while many new buildings were erected in great haste. At the laboratory, Oppenheimer assembled a group of the top physicists of the time, whom he called the \"luminaries\".\n",
    "\n",
    "Los Alamos was initially supposed to be a military laboratory, and Oppenheimer and other researchers were to be commissioned into the Army. He went so far as to order himself a lieutenant colonel's uniform and take the Army physical test, which he failed. Army doctors considered him underweight at 128 pounds (58 kg), diagnosed his chronic cough as tuberculosis, and were concerned about his chronic lumbosacral joint pain. The plan to commission scientists fell through when Rabi and Robert Bacher balked at the idea. Conant, Groves, and Oppenheimer devised a compromise whereby the University of California operated the laboratory under contract to the War Department. It soon turned out that Oppenheimer had hugely underestimated the magnitude of the project: Los Alamos grew from a few hundred people in 1943 to over 6,000 in 1945.\n",
    "\n",
    "Oppenheimer at first had difficulty with the organizational division of large groups but rapidly learned the art of large-scale administration after he took up permanent residence at Los Alamos. He was noted for his mastery of all scientific aspects of the project and for his efforts to control the inevitable cultural conflicts between scientists and the military. Victor Weisskopf wrote:\n",
    "\n",
    "Oppenheimer directed these studies, theoretical and experimental, in the real sense of the words. Here his uncanny speed in grasping the main points of any subject was a decisive factor; he could acquaint himself with the essential details of every part of the work.\n",
    "\n",
    "He did not direct from the head office. He was intellectually and physically present at each decisive step. He was present in the laboratory or in the seminar rooms, when a new effect was measured, when a new idea was conceived. It was not that he contributed so many ideas or suggestions; he did so sometimes, but his main influence came from something else. It was his continuous and intense presence, which produced a sense of direct participation in all of us; it created that unique atmosphere of enthusiasm and challenge that pervaded the place throughout its time.\n",
    "\n",
    "\n",
    "Trinity\n",
    "The Trinity test was the first detonation of a nuclear device.\n",
    "In the early morning hours of July 16, 1945, near Alamogordo, New Mexico, the work at Los Alamos culminated in the test of the world's first nuclear weapon. Oppenheimer had code-named the site \"Trinity\" in mid-1944, saying later that the name came from John Donne's Holy Sonnets; he had been introduced to Donne's work in the 1930s by Jean Tatlock, who killed herself in January 1944.\n",
    "\n",
    "Brigadier General Thomas Farrell, who was present in the control bunker with Oppenheimer, recalled:\n",
    "\n",
    "Dr. Oppenheimer, on whom had rested a very heavy burden, grew tenser as the last seconds ticked off. He scarcely breathed. He held on to a post to steady himself. For the last few seconds, he stared directly ahead and then when the announcer shouted \"Now!\" and there came this tremendous burst of light followed shortly thereafter by the deep growling roar of the explosion, his face relaxed into an expression of tremendous relief.\n",
    "\n",
    "Oppenheimer's brother Frank recalled Oppenheimer's first words as, \"I guess it worked\".\n",
    "\n",
    "External video\n",
    "video icon Oppenheimer recalling his thoughts after witnessing the Trinity test\n",
    "Two men, one in a suit and hat and the other in military uniform, stand in front of twisted metal whilst wearing white overshoes\n",
    "Oppenheimer and Groves at the remains of the Trinity test tower. Oppenheimer is wearing his trademark pork pie hat; white overshoes protect against fallout.\n",
    "According to a 1949 magazine profile, while witnessing the explosion Oppenheimer thought of verses from the Bhagavad Gita: \"If the radiance of a thousand suns were to burst at once into the sky, that would be like the splendor of the mighty one ... Now I am become Death, the shatterer of worlds.\" In 1965 he recalled the moment this way:\n",
    "\n",
    "We knew the world would not be the same. A few people laughed, a few people cried. Most people were silent. I remembered the line from the Hindu scripture, the Bhagavad Gita; Vishnu is trying to persuade the Prince that he should do his duty and, to impress him, takes on his multi-armed form and says, \"Now I am become Death, the destroyer of worlds.\" I suppose we all thought that, one way or another.\n",
    "\n",
    "Rabi described seeing Oppenheimer somewhat later: \"I'll never forget his walk ... like High Noon ... this kind of strut. He had done it\". At an assembly at Los Alamos on August 6, the evening of the atomic bombing of Hiroshima, Oppenheimer took to the stage and clasped his hands together \"like a prize-winning boxer\" while the crowd cheered. He expressed regret that the weapon was ready too late for use against Nazi Germany.\n",
    "\n",
    "On August 17, however, Oppenheimer traveled to Washington to hand-deliver a letter to Secretary of War Henry L. Stimson expressing his revulsion and his wish to see nuclear weapons banned. In October he met with President Harry S. Truman, who dismissed Oppenheimer's concern about an arms race with the Soviet Union and belief that atomic energy should be under international control. Truman became infuriated when Oppenheimer said, \"Mr. President, I feel I have blood on my hands\", responding that he (Truman) bore sole responsibility for the decision to use atomic weapons against Japan, and later said, \"I don't want to see that son of a bitch in this office ever again\".\n",
    "\n",
    "For his services as director of Los Alamos, Oppenheimer was awarded the Medal for Merit by Truman in 1946.\n",
    "'''"
   ]
  },
  {
   "cell_type": "markdown",
   "id": "5aea2a77",
   "metadata": {},
   "source": [
    "### Create the CharacterTextSplitter"
   ]
  },
  {
   "cell_type": "code",
   "execution_count": 3,
   "id": "55eaa022",
   "metadata": {},
   "outputs": [],
   "source": [
    "from langchain.text_splitter import CharacterTextSplitter"
   ]
  },
  {
   "cell_type": "code",
   "execution_count": 4,
   "id": "a82985fe",
   "metadata": {},
   "outputs": [],
   "source": [
    "splitter=CharacterTextSplitter(chunk_size=1000,chunk_overlap=50)"
   ]
  },
  {
   "cell_type": "markdown",
   "id": "93d7603b",
   "metadata": {},
   "source": [
    "chunk_size basically describes how many letters should there be in a single \"chunk\" while chunk_overlap describes how much overlap is required between two adjacent chunks. Higher the overlap, more chunks are created and higher processing time but with better context transfers between two chunks"
   ]
  },
  {
   "cell_type": "markdown",
   "id": "c6282d76",
   "metadata": {},
   "source": [
    "### Split the text"
   ]
  },
  {
   "cell_type": "code",
   "execution_count": 5,
   "id": "998bf895",
   "metadata": {},
   "outputs": [],
   "source": [
    "from langchain.document_loaders import TextLoader"
   ]
  },
  {
   "cell_type": "code",
   "execution_count": 6,
   "id": "e799791f",
   "metadata": {},
   "outputs": [
    {
     "name": "stdout",
     "output_type": "stream",
     "text": [
      "<langchain.document_loaders.text.TextLoader object at 0x00000250D8F4D850>\n"
     ]
    }
   ],
   "source": [
    "text_loader=TextLoader(text)\n",
    "print(text_loader)"
   ]
  },
  {
   "cell_type": "code",
   "execution_count": 7,
   "id": "558fe209",
   "metadata": {},
   "outputs": [
    {
     "name": "stderr",
     "output_type": "stream",
     "text": [
      "Created a chunk of size 1225, which is longer than the specified 1000\n",
      "Created a chunk of size 1306, which is longer than the specified 1000\n"
     ]
    }
   ],
   "source": [
    "texts=splitter.split_text(text)"
   ]
  },
  {
   "cell_type": "code",
   "execution_count": 8,
   "id": "69309ce8",
   "metadata": {},
   "outputs": [
    {
     "data": {
      "text/plain": [
       "'Julius Robert Oppenheimer (April 22, 1904 – February 18, 1967) was an American theoretical physicist and director of the Manhattan Project\\'s Los Alamos Laboratory during World War II. He is often called the \"father of the atomic bomb\".'"
      ]
     },
     "execution_count": 8,
     "metadata": {},
     "output_type": "execute_result"
    }
   ],
   "source": [
    "texts[0]"
   ]
  },
  {
   "cell_type": "markdown",
   "id": "9a249341",
   "metadata": {},
   "source": [
    "## Split text from a file rather than from copying / pasting the text in Jupyter"
   ]
  },
  {
   "cell_type": "markdown",
   "id": "ddf8b555",
   "metadata": {},
   "source": [
    "Instead of copying lengthy texts into a Jupyter window, we can also extract and split the text from a file"
   ]
  },
  {
   "cell_type": "markdown",
   "id": "f55cbe7e",
   "metadata": {},
   "source": [
    "The CharacterTextSplitter needs a <b>document_loader</b> object to load files. They cannot load the file directly.<br>\n",
    "This is because every document_loader comes with a <b>page_content attribute that the CharacterTextSplitter object refers to while creating the split text"
   ]
  },
  {
   "cell_type": "markdown",
   "id": "ff14a191",
   "metadata": {},
   "source": [
    "### Load the file"
   ]
  },
  {
   "cell_type": "code",
   "execution_count": 9,
   "id": "b4154e7a",
   "metadata": {},
   "outputs": [],
   "source": [
    "from langchain.document_loaders import TextLoader"
   ]
  },
  {
   "cell_type": "code",
   "execution_count": 10,
   "id": "243f14c4",
   "metadata": {},
   "outputs": [],
   "source": [
    "loader=TextLoader('oppenheimer.txt')"
   ]
  },
  {
   "cell_type": "code",
   "execution_count": 11,
   "id": "cb6eae7b",
   "metadata": {},
   "outputs": [],
   "source": [
    "docs=loader.load()"
   ]
  },
  {
   "cell_type": "code",
   "execution_count": 12,
   "id": "6374ad2d",
   "metadata": {},
   "outputs": [
    {
     "data": {
      "text/plain": [
       "[Document(page_content='Julius Robert Oppenheimer (April 22, 1904 â€“ February 18, 1967) was an American theoretical physicist and director of the Manhattan Project\\'s Los Alamos Laboratory during World War II. He is often called the \"father of the atomic bomb\".\\n\\nBorn in New York City, Oppenheimer earned a bachelor of arts degree in chemistry from Harvard University in 1925 and a doctorate in physics from the University of GÃ¶ttingen in Germany in 1927, where he studied under Max Born. After research at other institutions, he joined the physics department at the University of California, Berkeley, where he became a full professor in 1936. He made significant contributions to theoretical physics, including achievements in quantum mechanics and nuclear physics such as the Bornâ€“Oppenheimer approximation for molecular wave functions, work on the theory of electrons and positrons, the Oppenheimerâ€“Phillips process in nuclear fusion, and the first prediction of quantum tunneling. With his students, he also made contributions to the theory of neutron stars and black holes, quantum field theory, and the interactions of cosmic rays.\\n\\nIn 1942, Oppenheimer was recruited to work on the Manhattan Project, and in 1943 he was appointed director of the project\\'s Los Alamos Laboratory in New Mexico, tasked with developing the first nuclear weapons. His leadership and scientific expertise were instrumental in the project\\'s success. On July 16, 1945, he was present at the first test of the atomic bomb, Trinity. In August 1945, the weapons were used against Japan in the bombings of Hiroshima and Nagasaki, the only use to date of nuclear weapons in an armed conflict.\\n\\nIn 1947, Oppenheimer became the director of the Institute for Advanced Study in Princeton, New Jersey, and chaired the influential General Advisory Committee of the newly created U.S. Atomic Energy Commission. He lobbied for international control of nuclear power to avert nuclear proliferation and a nuclear arms race with the Soviet Union. He opposed the development of the hydrogen bomb during a 1949â€“1950 governmental debate on the question and subsequently took positions on defense-related issues that provoked the ire of some U.S. government and military factions. During the Second Red Scare, Oppenheimer\\'s stances, together with his past associations with the Communist Party USA, led to the revocation of his security clearance following a 1954 security hearing. This effectively ended his access to the government\\'s atomic secrets and thus his career as a nuclear physicist. Stripped also of his direct political influence, Oppenheimer continued to lecture, write, and work in physics. In 1963, he was awarded the Enrico Fermi Award as a gesture of political rehabilitation. He died four years later of throat cancer. In 2022, the federal government vacated the 1954 revocation of Oppenheimer\\'s security clearance.\\n\\n\\nManhattan Project\\nLos Alamos\\nOn October 9, 1941, two months before the United States entered World War II, President Franklin D. Roosevelt approved a crash program to develop an atomic bomb. Lawrence brought Oppenheimer into the project on October 21. On May 18, 1942, [105] National Defense Research Committee Chairman James B. Conant, who had been one of Oppenheimer\\'s lecturers at Harvard, asked Oppenheimer to take over work on fast neutron calculations, a task Oppenheimer threw himself into with full vigor. He was given the title \"Coordinator of Rapid Rupture\", which specifically referred to the propagation of a fast neutron chain reaction in an atomic bomb. One of his first acts was to host a summer school for bomb theory in Berkeley. The mix of European physicists and his own studentsâ€”a group including Robert Serber, Emil Konopinski, Felix Bloch, Hans Bethe and Edward Tellerâ€”kept themselves busy by calculating what needed to be done, and in what order, to make the bomb.\\n\\nIn June 1942, the U.S. Army established the Manhattan Engineer District to handle its part in the atom bomb project, beginning the process of transferring responsibility from the Office of Scientific Research and Development to the military.In September, Brigadier General Leslie R. Groves, Jr., was appointed director of what became known as the Manhattan Project. By October 12, 1942, Groves and Oppenheimer had decided that for security and cohesion, they needed to establish a centralized, secret research laboratory in a remote location.\\n\\nGroves selected Oppenheimer to head the project\\'s secret weapons laboratory, although it is not known precisely when. This decision surprised many, because Oppenheimer had left-wing political views and no record as a leader of large projects. Groves worried that because Oppenheimer did not have a Nobel Prize, he might not have had the prestige to direct fellow scientists, but Groves was impressed by Oppenheimer\\'s singular grasp of the practical aspects of the project and by the breadth of his knowledge. As a military engineer, Groves knew that this would be vital in an interdisciplinary project that would involve not just physics but also chemistry, metallurgy, ordnance, and engineering. Groves also detected in Oppenheimer something that many others did not, an \"overweening ambition\", which Groves reckoned would supply the drive necessary to push the project to a successful conclusion. Oppenheimer\\'s past associations were not overlooked, but on July 20, 1943, Groves directed that he receive a security clearance \"without delay irrespective of the information which you have concerning Mr Oppenheimer. He is absolutely essential to the project.\"Rabi considered Oppenheimer\\'s appointment \"a real stroke of genius on the part of General Groves, who was not generally considered to be a genius\".\\n\\nOppenheimer favored a location for the laboratory in New Mexico, not far from his ranch. On November 16, 1942, he, Groves and others toured a prospective site. Oppenheimer feared that the high cliffs surrounding it would feel claustrophobic, and there was concern about possible flooding. He then suggested a site he knew well: a flat mesa near Santa Fe, New Mexico, which was the site of a private boys\\' school, the Los Alamos Ranch School. The engineers were concerned about the poor access road and the water supply but otherwise felt that it was ideal. The Los Alamos Laboratory was built on the site of the school, taking over some of its buildings, while many new buildings were erected in great haste. At the laboratory, Oppenheimer assembled a group of the top physicists of the time, whom he called the \"luminaries\".\\n\\nLos Alamos was initially supposed to be a military laboratory, and Oppenheimer and other researchers were to be commissioned into the Army. He went so far as to order himself a lieutenant colonel\\'s uniform and take the Army physical test, which he failed. Army doctors considered him underweight at 128 pounds (58 kg), diagnosed his chronic cough as tuberculosis, and were concerned about his chronic lumbosacral joint pain. The plan to commission scientists fell through when Rabi and Robert Bacher balked at the idea. Conant, Groves, and Oppenheimer devised a compromise whereby the University of California operated the laboratory under contract to the War Department. It soon turned out that Oppenheimer had hugely underestimated the magnitude of the project: Los Alamos grew from a few hundred people in 1943 to over 6,000 in 1945.\\n\\nOppenheimer at first had difficulty with the organizational division of large groups but rapidly learned the art of large-scale administration after he took up permanent residence at Los Alamos. He was noted for his mastery of all scientific aspects of the project and for his efforts to control the inevitable cultural conflicts between scientists and the military. Victor Weisskopf wrote:\\n\\nOppenheimer directed these studies, theoretical and experimental, in the real sense of the words. Here his uncanny speed in grasping the main points of any subject was a decisive factor; he could acquaint himself with the essential details of every part of the work.\\n\\nHe did not direct from the head office. He was intellectually and physically present at each decisive step. He was present in the laboratory or in the seminar rooms, when a new effect was measured, when a new idea was conceived. It was not that he contributed so many ideas or suggestions; he did so sometimes, but his main influence came from something else. It was his continuous and intense presence, which produced a sense of direct participation in all of us; it created that unique atmosphere of enthusiasm and challenge that pervaded the place throughout its time.\\n\\n\\nTrinity\\nThe Trinity test was the first detonation of a nuclear device.\\nIn the early morning hours of July 16, 1945, near Alamogordo, New Mexico, the work at Los Alamos culminated in the test of the world\\'s first nuclear weapon. Oppenheimer had code-named the site \"Trinity\" in mid-1944, saying later that the name came from John Donne\\'s Holy Sonnets; he had been introduced to Donne\\'s work in the 1930s by Jean Tatlock, who killed herself in January 1944.\\n\\nBrigadier General Thomas Farrell, who was present in the control bunker with Oppenheimer, recalled:\\n\\nDr. Oppenheimer, on whom had rested a very heavy burden, grew tenser as the last seconds ticked off. He scarcely breathed. He held on to a post to steady himself. For the last few seconds, he stared directly ahead and then when the announcer shouted \"Now!\" and there came this tremendous burst of light followed shortly thereafter by the deep growling roar of the explosion, his face relaxed into an expression of tremendous relief.\\n\\nOppenheimer\\'s brother Frank recalled Oppenheimer\\'s first words as, \"I guess it worked\".\\n\\nExternal video\\nvideo icon Oppenheimer recalling his thoughts after witnessing the Trinity test\\nTwo men, one in a suit and hat and the other in military uniform, stand in front of twisted metal whilst wearing white overshoes\\nOppenheimer and Groves at the remains of the Trinity test tower. Oppenheimer is wearing his trademark pork pie hat; white overshoes protect against fallout.\\nAccording to a 1949 magazine profile, while witnessing the explosion Oppenheimer thought of verses from the Bhagavad Gita: \"If the radiance of a thousand suns were to burst at once into the sky, that would be like the splendor of the mighty one ... Now I am become Death, the shatterer of worlds.\" In 1965 he recalled the moment this way:\\n\\nWe knew the world would not be the same. A few people laughed, a few people cried. Most people were silent. I remembered the line from the Hindu scripture, the Bhagavad Gita; Vishnu is trying to persuade the Prince that he should do his duty and, to impress him, takes on his multi-armed form and says, \"Now I am become Death, the destroyer of worlds.\" I suppose we all thought that, one way or another.\\n\\nRabi described seeing Oppenheimer somewhat later: \"I\\'ll never forget his walk ... like High Noon ... this kind of strut. He had done it\". At an assembly at Los Alamos on August 6, the evening of the atomic bombing of Hiroshima, Oppenheimer took to the stage and clasped his hands together \"like a prize-winning boxer\" while the crowd cheered. He expressed regret that the weapon was ready too late for use against Nazi Germany.\\n\\nOn August 17, however, Oppenheimer traveled to Washington to hand-deliver a letter to Secretary of War Henry L. Stimson expressing his revulsion and his wish to see nuclear weapons banned. In October he met with President Harry S. Truman, who dismissed Oppenheimer\\'s concern about an arms race with the Soviet Union and belief that atomic energy should be under international control. Truman became infuriated when Oppenheimer said, \"Mr. President, I feel I have blood on my hands\", responding that he (Truman) bore sole responsibility for the decision to use atomic weapons against Japan, and later said, \"I don\\'t want to see that son of a bitch in this office ever again\".\\n\\nFor his services as director of Los Alamos, Oppenheimer was awarded the Medal for Merit by Truman in 1946.\\n', metadata={'source': 'oppenheimer.txt'})]"
      ]
     },
     "execution_count": 12,
     "metadata": {},
     "output_type": "execute_result"
    }
   ],
   "source": [
    "docs"
   ]
  },
  {
   "cell_type": "markdown",
   "id": "0fdb70c7",
   "metadata": {},
   "source": [
    "### Create the CharacterTextSplitter"
   ]
  },
  {
   "cell_type": "code",
   "execution_count": 13,
   "id": "d0e38256",
   "metadata": {},
   "outputs": [],
   "source": [
    "from langchain.text_splitter import CharacterTextSplitter"
   ]
  },
  {
   "cell_type": "code",
   "execution_count": 14,
   "id": "583326df",
   "metadata": {},
   "outputs": [],
   "source": [
    "splitter=CharacterTextSplitter(chunk_size=1000,chunk_overlap=50)"
   ]
  },
  {
   "cell_type": "code",
   "execution_count": 15,
   "id": "d4c8d381",
   "metadata": {},
   "outputs": [
    {
     "name": "stderr",
     "output_type": "stream",
     "text": [
      "Created a chunk of size 1227, which is longer than the specified 1000\n",
      "Created a chunk of size 1306, which is longer than the specified 1000\n"
     ]
    }
   ],
   "source": [
    "texts_from_file=splitter.split_documents(docs)"
   ]
  },
  {
   "cell_type": "markdown",
   "id": "5aefaf74",
   "metadata": {},
   "source": [
    "## Analysing the difference in outputs between using a file as an input and using a text string as an input"
   ]
  },
  {
   "cell_type": "code",
   "execution_count": 16,
   "id": "61fef464",
   "metadata": {},
   "outputs": [
    {
     "name": "stdout",
     "output_type": "stream",
     "text": [
      "<class 'list'>\n",
      "page_content='Julius Robert Oppenheimer (April 22, 1904 â€“ February 18, 1967) was an American theoretical physicist and director of the Manhattan Project\\'s Los Alamos Laboratory during World War II. He is often called the \"father of the atomic bomb\".' metadata={'source': 'oppenheimer.txt'}\n",
      "<class 'langchain.schema.Document'>\n"
     ]
    }
   ],
   "source": [
    "print(type(texts_from_file))\n",
    "print(texts_from_file[0])\n",
    "print(type(texts_from_file[0]))"
   ]
  },
  {
   "cell_type": "code",
   "execution_count": 17,
   "id": "cb73da07",
   "metadata": {},
   "outputs": [
    {
     "name": "stdout",
     "output_type": "stream",
     "text": [
      "<class 'list'>\n",
      "Julius Robert Oppenheimer (April 22, 1904 – February 18, 1967) was an American theoretical physicist and director of the Manhattan Project's Los Alamos Laboratory during World War II. He is often called the \"father of the atomic bomb\".\n",
      "<class 'str'>\n"
     ]
    }
   ],
   "source": [
    "print(type(texts))\n",
    "print(texts[0])\n",
    "print(type(texts[0]))"
   ]
  },
  {
   "cell_type": "markdown",
   "id": "fe261299",
   "metadata": {},
   "source": [
    "So if we compare the two modes (texts = directly splitting the text from the variable 'text' and texts_from_file= splitting the text provided in a file, we notice the following):\n",
    "    <ul>\n",
    "    <li> Both return lists of items\n",
    "    <li>texts_from_file is a Document object (which is the same object as the original <b>'docs'</b> while texts is simply, a string</li>\n",
    "    <li>The Document object has multiple attributes such as page_content and metadata. Metadata contains data about the file and the content rather than the content itself. In this case, the metadata contains the source key whose value is the file name</li>"
   ]
  },
  {
   "cell_type": "markdown",
   "id": "a71540c5",
   "metadata": {},
   "source": [
    "### Updating the metadata of a document"
   ]
  },
  {
   "cell_type": "markdown",
   "id": "ba177ce9",
   "metadata": {},
   "source": [
    "We can update the metadata of any split text with any key_value pair"
   ]
  },
  {
   "cell_type": "markdown",
   "id": "617895c7",
   "metadata": {},
   "source": [
    "#### Updating metadata for a single chunk"
   ]
  },
  {
   "cell_type": "code",
   "execution_count": 18,
   "id": "71479f34",
   "metadata": {},
   "outputs": [],
   "source": [
    "texts_from_file[0].metadata['Creator']='SK'"
   ]
  },
  {
   "cell_type": "code",
   "execution_count": 19,
   "id": "08e6cfc1",
   "metadata": {},
   "outputs": [
    {
     "name": "stdout",
     "output_type": "stream",
     "text": [
      "page_content='Julius Robert Oppenheimer (April 22, 1904 â€“ February 18, 1967) was an American theoretical physicist and director of the Manhattan Project\\'s Los Alamos Laboratory during World War II. He is often called the \"father of the atomic bomb\".' metadata={'source': 'oppenheimer.txt', 'Creator': 'SK'}\n"
     ]
    }
   ],
   "source": [
    "print(texts_from_file[0])"
   ]
  },
  {
   "cell_type": "markdown",
   "id": "7350a67a",
   "metadata": {},
   "source": [
    "#### Updating metadata for the entire document"
   ]
  },
  {
   "cell_type": "markdown",
   "id": "e3918fd2",
   "metadata": {},
   "source": [
    "To update the metadata for the entire document, we can directly update the metadata of the original Document object <b>docs</b>"
   ]
  },
  {
   "cell_type": "code",
   "execution_count": 20,
   "id": "0a46cdba",
   "metadata": {},
   "outputs": [],
   "source": [
    "docs[0].metadata['Creator']='Swaminathan Kannan'"
   ]
  },
  {
   "cell_type": "code",
   "execution_count": 21,
   "id": "0413894d",
   "metadata": {},
   "outputs": [
    {
     "name": "stderr",
     "output_type": "stream",
     "text": [
      "Created a chunk of size 1227, which is longer than the specified 1000\n",
      "Created a chunk of size 1306, which is longer than the specified 1000\n"
     ]
    }
   ],
   "source": [
    "texts_from_file=splitter.split_documents(docs)"
   ]
  },
  {
   "cell_type": "code",
   "execution_count": 22,
   "id": "b8558884",
   "metadata": {},
   "outputs": [
    {
     "name": "stdout",
     "output_type": "stream",
     "text": [
      "Swaminathan Kannan\n",
      "Swaminathan Kannan\n",
      "Swaminathan Kannan\n",
      "Swaminathan Kannan\n",
      "Swaminathan Kannan\n",
      "Swaminathan Kannan\n",
      "Swaminathan Kannan\n",
      "Swaminathan Kannan\n",
      "Swaminathan Kannan\n",
      "Swaminathan Kannan\n",
      "Swaminathan Kannan\n",
      "Swaminathan Kannan\n",
      "Swaminathan Kannan\n",
      "Swaminathan Kannan\n",
      "Swaminathan Kannan\n"
     ]
    }
   ],
   "source": [
    "for text_from_file in texts_from_file:\n",
    "    print(text_from_file.metadata['Creator'])"
   ]
  },
  {
   "cell_type": "markdown",
   "id": "8aa5b17e",
   "metadata": {},
   "source": [
    "## Create the embeddings for the text"
   ]
  },
  {
   "cell_type": "code",
   "execution_count": 27,
   "id": "bc8475e6",
   "metadata": {},
   "outputs": [],
   "source": [
    "from langchain.embeddings import OpenAIEmbeddings"
   ]
  },
  {
   "cell_type": "code",
   "execution_count": 28,
   "id": "3e421f1c",
   "metadata": {},
   "outputs": [],
   "source": [
    "embeddings=OpenAIEmbeddings(model='text-embedding-ada-002')"
   ]
  },
  {
   "cell_type": "markdown",
   "id": "267d9bb5",
   "metadata": {},
   "source": [
    "# Creating the index and store"
   ]
  },
  {
   "cell_type": "code",
   "execution_count": 23,
   "id": "2207e29a",
   "metadata": {},
   "outputs": [],
   "source": [
    "from langchain.vectorstores import DeepLake"
   ]
  },
  {
   "cell_type": "markdown",
   "id": "261c6510",
   "metadata": {},
   "source": [
    "<b>Before executing the following code, make sure to have your<br>\n",
    "Activeloop key saved in the “ACTIVELOOP_TOKEN” environment variable.<br><br>\n",
    "\n",
    "create Deep Lake dataset<br>\n",
    "TODO: use your organization id here. (by default, org id is your username)</b>"
   ]
  },
  {
   "cell_type": "markdown",
   "id": "b38fbabd",
   "metadata": {},
   "source": [
    "## Setting up the vector store on DeepLake"
   ]
  },
  {
   "cell_type": "code",
   "execution_count": 24,
   "id": "a4bc6cc3",
   "metadata": {},
   "outputs": [],
   "source": [
    "user_name='swamikannan'\n",
    "project_name='langchain_course_indexers_retrievers'\n",
    "link=f'hub://{user_name}/{project_name}'"
   ]
  },
  {
   "cell_type": "code",
   "execution_count": 30,
   "id": "3a820194",
   "metadata": {},
   "outputs": [
    {
     "name": "stdout",
     "output_type": "stream",
     "text": [
      "Deep Lake Dataset in hub://swamikannan/langchain_course_indexers_retrievers already exists, loading from the storage\n"
     ]
    }
   ],
   "source": [
    "db=DeepLake(dataset_path=link, embedding_function=embeddings)"
   ]
  },
  {
   "cell_type": "markdown",
   "id": "772b42b4",
   "metadata": {},
   "source": [
    "We also need to add the embedding function here. As we upload the data to the db object, it needs to store it in a numerical representation of the text provided. There are multiple such numeric representations, each tightly related to the family of models it is built for. Adding the embedding function tells the db object, which numerical representation to hold"
   ]
  },
  {
   "cell_type": "markdown",
   "id": "ca5722f9",
   "metadata": {},
   "source": [
    "<img src=\"deeplake/empty.PNG\">"
   ]
  },
  {
   "cell_type": "markdown",
   "id": "57af36ca",
   "metadata": {},
   "source": [
    "Obviously, this is an empty dataset since we haven't really loaded in our <b>texts_from_file</b> object yet. We do that now"
   ]
  },
  {
   "cell_type": "code",
   "execution_count": 31,
   "id": "c4e04035",
   "metadata": {},
   "outputs": [
    {
     "name": "stderr",
     "output_type": "stream",
     "text": [
      "|"
     ]
    },
    {
     "name": "stdout",
     "output_type": "stream",
     "text": [
      "Dataset(path='hub://swamikannan/langchain_course_indexers_retrievers', tensors=['embedding', 'id', 'metadata', 'text'])\n",
      "\n",
      "  tensor      htype      shape      dtype  compression\n",
      "  -------    -------    -------    -------  ------- \n",
      " embedding  embedding  (15, 1536)  float32   None   \n",
      "    id        text      (15, 1)      str     None   \n",
      " metadata     json      (15, 1)      str     None   \n",
      "   text       text      (15, 1)      str     None   \n"
     ]
    },
    {
     "name": "stderr",
     "output_type": "stream",
     "text": [
      "\r",
      " \r"
     ]
    },
    {
     "data": {
      "text/plain": [
       "['ab4ffdcd-40be-11ee-b60b-503eaa4cf025',\n",
       " 'ab4ffdce-40be-11ee-98a7-503eaa4cf025',\n",
       " 'ab4ffdcf-40be-11ee-b082-503eaa4cf025',\n",
       " 'ab4ffdd0-40be-11ee-b8f9-503eaa4cf025',\n",
       " 'ab4ffdd1-40be-11ee-9aea-503eaa4cf025',\n",
       " 'ab4ffdd2-40be-11ee-8297-503eaa4cf025',\n",
       " 'ab4ffdd3-40be-11ee-9092-503eaa4cf025',\n",
       " 'ab4ffdd4-40be-11ee-bdca-503eaa4cf025',\n",
       " 'ab4ffdd5-40be-11ee-a0b8-503eaa4cf025',\n",
       " 'ab4ffdd6-40be-11ee-9f19-503eaa4cf025',\n",
       " 'ab4ffdd7-40be-11ee-99ea-503eaa4cf025',\n",
       " 'ab4ffdd8-40be-11ee-bac4-503eaa4cf025',\n",
       " 'ab4ffdd9-40be-11ee-b229-503eaa4cf025',\n",
       " 'ab4ffdda-40be-11ee-b51c-503eaa4cf025',\n",
       " 'ab4ffddb-40be-11ee-9369-503eaa4cf025']"
      ]
     },
     "execution_count": 31,
     "metadata": {},
     "output_type": "execute_result"
    }
   ],
   "source": [
    "db.add_documents(texts_from_file)"
   ]
  },
  {
   "cell_type": "markdown",
   "id": "651fa2db",
   "metadata": {},
   "source": [
    "If we now re-look at the db object, it looks as follows:\n",
    "    <img src=\"deeplake/updated.PNG\">"
   ]
  },
  {
   "cell_type": "markdown",
   "id": "c112529d",
   "metadata": {},
   "source": [
    "# Creating a retriever"
   ]
  },
  {
   "cell_type": "markdown",
   "id": "34eed764",
   "metadata": {},
   "source": [
    "## Create a retriever object"
   ]
  },
  {
   "cell_type": "code",
   "execution_count": 35,
   "id": "2b9214e2",
   "metadata": {},
   "outputs": [],
   "source": [
    "retriever=db.as_retriever()"
   ]
  },
  {
   "cell_type": "markdown",
   "id": "5e221c7f",
   "metadata": {},
   "source": [
    "## Create the LLM object"
   ]
  },
  {
   "cell_type": "code",
   "execution_count": 37,
   "id": "f4024fcd",
   "metadata": {},
   "outputs": [],
   "source": [
    "from langchain.llms import OpenAI"
   ]
  },
  {
   "cell_type": "code",
   "execution_count": 38,
   "id": "918d57b3",
   "metadata": {},
   "outputs": [],
   "source": [
    "llm=OpenAI(model='text-davinci-003')"
   ]
  },
  {
   "cell_type": "markdown",
   "id": "09b9a71d",
   "metadata": {},
   "source": [
    "## Create a retrievalQA chain"
   ]
  },
  {
   "cell_type": "markdown",
   "id": "ea85c880",
   "metadata": {},
   "source": [
    "Like an LLM Chain, there are specific <b>retriever chains</b> that are used to retrieve informations from the index store. "
   ]
  },
  {
   "cell_type": "code",
   "execution_count": 34,
   "id": "f046dc2f",
   "metadata": {},
   "outputs": [],
   "source": [
    "from langchain.chains import RetrievalQA"
   ]
  },
  {
   "cell_type": "code",
   "execution_count": 43,
   "id": "c4d6ef22",
   "metadata": {},
   "outputs": [],
   "source": [
    "retrievalQA=RetrievalQA.from_chain_type(llm=llm,retriever=retriever,verbose=True, return_source_documents=False)"
   ]
  },
  {
   "cell_type": "code",
   "execution_count": 44,
   "id": "1300a626",
   "metadata": {},
   "outputs": [
    {
     "name": "stdout",
     "output_type": "stream",
     "text": [
      "\n",
      "\n",
      "\u001b[1m> Entering new  chain...\u001b[0m\n",
      "\n",
      "\u001b[1m> Finished chain.\u001b[0m\n",
      " President Franklin D. Roosevelt\n"
     ]
    }
   ],
   "source": [
    "q1='Who approved the establishment of the Manhattan Project?'\n",
    "a1=retrievalQA.run(q1)\n",
    "print(a1)"
   ]
  },
  {
   "cell_type": "markdown",
   "id": "f28e22f4",
   "metadata": {},
   "source": [
    "If we want the metadata and the initial query as part of the response, we can set `return_source_documents=True`</b>. However, the `retrievalQA2.run()` function does not work for multiple outputs i.e. the actual response and the source_documents"
   ]
  },
  {
   "cell_type": "code",
   "execution_count": 45,
   "id": "7689290d",
   "metadata": {},
   "outputs": [],
   "source": [
    "retrievalQA2=RetrievalQA.from_chain_type(llm=llm,retriever=retriever,verbose=True, return_source_documents=True)"
   ]
  },
  {
   "cell_type": "code",
   "execution_count": 47,
   "id": "c2805e9f",
   "metadata": {},
   "outputs": [
    {
     "name": "stdout",
     "output_type": "stream",
     "text": [
      "\n",
      "\n",
      "\u001b[1m> Entering new  chain...\u001b[0m\n",
      "\n",
      "\u001b[1m> Finished chain.\u001b[0m\n",
      "{'query': 'Explain the Manhattan project in less than 100 words', 'result': ' The Manhattan Project was a research and development program undertaken by the US in 1942 to develop the first nuclear weapons. It was led by General Leslie Groves, with J. Robert Oppenheimer in charge of the Los Alamos Laboratory in New Mexico where the weapons were developed. On July 16, 1945, the first atomic bomb was successfully tested, and two bombs were dropped on Japan in August 1945.', 'source_documents': [Document(page_content='Manhattan Project\\nLos Alamos\\nOn October 9, 1941, two months before the United States entered World War II, President Franklin D. Roosevelt approved a crash program to develop an atomic bomb. Lawrence brought Oppenheimer into the project on October 21. On May 18, 1942, [105] National Defense Research Committee Chairman James B. Conant, who had been one of Oppenheimer\\'s lecturers at Harvard, asked Oppenheimer to take over work on fast neutron calculations, a task Oppenheimer threw himself into with full vigor. He was given the title \"Coordinator of Rapid Rupture\", which specifically referred to the propagation of a fast neutron chain reaction in an atomic bomb. One of his first acts was to host a summer school for bomb theory in Berkeley. The mix of European physicists and his own studentsâ€”a group including Robert Serber, Emil Konopinski, Felix Bloch, Hans Bethe and Edward Tellerâ€”kept themselves busy by calculating what needed to be done, and in what order, to make the bomb.', metadata={'source': 'oppenheimer.txt', 'Creator': 'Swaminathan Kannan'}), Document(page_content='In June 1942, the U.S. Army established the Manhattan Engineer District to handle its part in the atom bomb project, beginning the process of transferring responsibility from the Office of Scientific Research and Development to the military.In September, Brigadier General Leslie R. Groves, Jr., was appointed director of what became known as the Manhattan Project. By October 12, 1942, Groves and Oppenheimer had decided that for security and cohesion, they needed to establish a centralized, secret research laboratory in a remote location.', metadata={'source': 'oppenheimer.txt', 'Creator': 'Swaminathan Kannan'}), Document(page_content=\"In 1942, Oppenheimer was recruited to work on the Manhattan Project, and in 1943 he was appointed director of the project's Los Alamos Laboratory in New Mexico, tasked with developing the first nuclear weapons. His leadership and scientific expertise were instrumental in the project's success. On July 16, 1945, he was present at the first test of the atomic bomb, Trinity. In August 1945, the weapons were used against Japan in the bombings of Hiroshima and Nagasaki, the only use to date of nuclear weapons in an armed conflict.\", metadata={'source': 'oppenheimer.txt', 'Creator': 'Swaminathan Kannan'}), Document(page_content='Oppenheimer\\'s brother Frank recalled Oppenheimer\\'s first words as, \"I guess it worked\".\\n\\nExternal video\\nvideo icon Oppenheimer recalling his thoughts after witnessing the Trinity test\\nTwo men, one in a suit and hat and the other in military uniform, stand in front of twisted metal whilst wearing white overshoes\\nOppenheimer and Groves at the remains of the Trinity test tower. Oppenheimer is wearing his trademark pork pie hat; white overshoes protect against fallout.\\nAccording to a 1949 magazine profile, while witnessing the explosion Oppenheimer thought of verses from the Bhagavad Gita: \"If the radiance of a thousand suns were to burst at once into the sky, that would be like the splendor of the mighty one ... Now I am become Death, the shatterer of worlds.\" In 1965 he recalled the moment this way:', metadata={'source': 'oppenheimer.txt', 'Creator': 'Swaminathan Kannan'})]}\n"
     ]
    }
   ],
   "source": [
    "q2='Explain the Manhattan project in less than 100 words'\n",
    "a2=retrievalQA2({'query':q2})\n",
    "print(a2)"
   ]
  },
  {
   "cell_type": "code",
   "execution_count": 65,
   "id": "a2368572",
   "metadata": {},
   "outputs": [
    {
     "data": {
      "text/plain": [
       "dict_keys(['query', 'result', 'source_documents'])"
      ]
     },
     "execution_count": 65,
     "metadata": {},
     "output_type": "execute_result"
    }
   ],
   "source": [
    "a2.keys()"
   ]
  },
  {
   "cell_type": "markdown",
   "id": "0b95dd16",
   "metadata": {},
   "source": [
    "Hence, it now provides us with three sets of outputs instead of just the result:\n",
    "    <ol>\n",
    "    <li> The original query </li>\n",
    "    <li> The actual result </li>\n",
    "    <li> The metadata </li>\n",
    "    </ol>"
   ]
  },
  {
   "cell_type": "code",
   "execution_count": 56,
   "id": "df3e52c6",
   "metadata": {},
   "outputs": [],
   "source": [
    "result2=a2['result']"
   ]
  },
  {
   "cell_type": "code",
   "execution_count": 64,
   "id": "ef169c63",
   "metadata": {},
   "outputs": [
    {
     "name": "stdout",
     "output_type": "stream",
     "text": [
      "Number of characters:\t396\n",
      "Number of words:\t69\n"
     ]
    }
   ],
   "source": [
    "print(f'Number of characters:\\t{len(result2)}')\n",
    "print(f\"Number of words:\\t{len(result2.split(' '))}\")"
   ]
  },
  {
   "cell_type": "markdown",
   "id": "349c5385",
   "metadata": {},
   "source": [
    "In conclusion:\n",
    "<ul>\n",
    "    <li>A similarity search is conducted using the embeddings to identify matching documents from the db to be used as context for the LLM.</li>\n",
    "    <li>Although it might not seem particularly useful with just one document, we are effectively working with multiple documents since we \"chunked\" our text.</li> <li>Preselecting the most suitable documents based on semantic similarity enables us to provide the model with meaningful knowledge through the prompt while remaining within the allowed context size.</li>\n",
    "    </ul>"
   ]
  },
  {
   "cell_type": "markdown",
   "id": "6c774f20",
   "metadata": {},
   "source": [
    "# Contextual Compression Retrievers"
   ]
  },
  {
   "cell_type": "markdown",
   "id": "edbd0d1a",
   "metadata": {},
   "source": [
    "In the text splitter, we splice the entire text body irrespective of the different topics within the text body but only on a fixed length of text (1000 characters with 50 characters overlap). If we could use a separate toolkit to first summarize these chunks before extracting the relevant output, we could have a better quality of output since each summary would refer to a small set of closely related sentences."
   ]
  },
  {
   "cell_type": "markdown",
   "id": "1d95ac22",
   "metadata": {},
   "source": [
    "First, we need a <b>Compression library such as the LLMChainExtractor</b>. Compressors aim to make it easy to pass <b>only the relevant information to the LLM</b>.<br> Doing this also enables you to pass along more information to the LLM since in the initial retrieval step, you can focus on <b>recall </b>(e.g., by increasing the number of documents returned) and let the compressors handle <b>precision</b>"
   ]
  },
  {
   "cell_type": "markdown",
   "id": "97718c72",
   "metadata": {},
   "source": [
    "## Creating the Compressor object"
   ]
  },
  {
   "cell_type": "code",
   "execution_count": 70,
   "id": "4b7fbc3a",
   "metadata": {},
   "outputs": [],
   "source": [
    "from langchain.retrievers.document_compressors import LLMChainExtractor"
   ]
  },
  {
   "cell_type": "code",
   "execution_count": 72,
   "id": "2cc8e231",
   "metadata": {},
   "outputs": [],
   "source": [
    "compressor=LLMChainExtractor.from_llm(llm=llm)"
   ]
  },
  {
   "cell_type": "markdown",
   "id": "a84b8418",
   "metadata": {},
   "source": [
    "## Creating the Retriever"
   ]
  },
  {
   "cell_type": "code",
   "execution_count": 73,
   "id": "bc6aaf6d",
   "metadata": {},
   "outputs": [],
   "source": [
    "retriever = db.as_retriever()"
   ]
  },
  {
   "cell_type": "markdown",
   "id": "455a35ae",
   "metadata": {},
   "source": [
    "We need a <b>retriever</b> that can incorporate this compressor that we have created as well as our original retriever object that we had created from the db.<br> The <b>ContextualCompressionRetriever</b> is used, wrapping the base retriever with an LLMChainExtractor. The LLMChainExtractor iterates over the initially returned documents and extracts only the content relevant to the query. "
   ]
  },
  {
   "cell_type": "markdown",
   "id": "70bcfbdf",
   "metadata": {},
   "source": [
    "## Creating the ContextualCompressionRetriever"
   ]
  },
  {
   "cell_type": "code",
   "execution_count": 67,
   "id": "f5c533fb",
   "metadata": {},
   "outputs": [],
   "source": [
    "from langchain.retrievers import ContextualCompressionRetriever,"
   ]
  },
  {
   "cell_type": "code",
   "execution_count": 117,
   "id": "78761d8c",
   "metadata": {},
   "outputs": [],
   "source": [
    "ccr=ContextualCompressionRetriever(base_retriever=retriever, base_compressor=compressor)"
   ]
  },
  {
   "cell_type": "markdown",
   "id": "1471705d",
   "metadata": {},
   "source": [
    "## Running our query"
   ]
  },
  {
   "cell_type": "code",
   "execution_count": 84,
   "id": "b9945363",
   "metadata": {},
   "outputs": [
    {
     "name": "stderr",
     "output_type": "stream",
     "text": [
      "D:\\miniconda3\\envs\\langchain\\lib\\site-packages\\langchain\\chains\\llm.py:275: UserWarning: The predict_and_parse method is deprecated, instead pass an output parser directly to LLMChain.\n",
      "  warnings.warn(\n"
     ]
    },
    {
     "name": "stdout",
     "output_type": "stream",
     "text": [
      "[Document(page_content='\"I guess it worked\" and \"Now I am become Death, the shatterer of worlds.\"', metadata={'source': 'oppenheimer.txt', 'Creator': 'Swaminathan Kannan'}), Document(page_content='\"In the early morning hours of July 16, 1945, near Alamogordo, New Mexico, the work at Los Alamos culminated in the test of the world\\'s first nuclear weapon.\" \\n\"Dr. Oppenheimer, on whom had rested a very heavy burden, grew tenser as the last seconds ticked off. He scarcely breathed. He held on to a post to steady himself. For the last few seconds, he stared directly ahead and then when the announcer shouted \"Now!\" and there came this tremendous burst of light followed shortly thereafter by the deep growling roar of the explosion, his face relaxed into an expression of tremendous relief.\"', metadata={'source': 'oppenheimer.txt', 'Creator': 'Swaminathan Kannan'}), Document(page_content='\"In 1942, Oppenheimer was recruited to work on the Manhattan Project, ... tasked with developing the first nuclear weapons. ... On July 16, 1945, he was present at the first test of the atomic bomb, Trinity.\"', metadata={'source': 'oppenheimer.txt', 'Creator': 'Swaminathan Kannan'}), Document(page_content='\"In October he met with President Harry S. Truman, who dismissed Oppenheimer\\'s concern about an arms race with the Soviet Union and belief that atomic energy should be under international control. Truman became infuriated when Oppenheimer said, \"Mr. President, I feel I have blood on my hands\"', metadata={'source': 'oppenheimer.txt', 'Creator': 'Swaminathan Kannan'})]\n"
     ]
    }
   ],
   "source": [
    "response_ccr=ccr.get_relevant_documents(\"What was Oppenheimer's reaction to the Trinity test?\")\n",
    "print(response_ccr)"
   ]
  },
  {
   "cell_type": "code",
   "execution_count": 85,
   "id": "c53e9df1",
   "metadata": {},
   "outputs": [
    {
     "name": "stdout",
     "output_type": "stream",
     "text": [
      "\"I guess it worked\" and \"Now I am become Death, the shatterer of worlds.\"\n",
      "\n",
      "\"In the early morning hours of July 16, 1945, near Alamogordo, New Mexico, the work at Los Alamos culminated in the test of the world's first nuclear weapon.\" \n",
      "\"Dr. Oppenheimer, on whom had rested a very heavy burden, grew tenser as the last seconds ticked off. He scarcely breathed. He held on to a post to steady himself. For the last few seconds, he stared directly ahead and then when the announcer shouted \"Now!\" and there came this tremendous burst of light followed shortly thereafter by the deep growling roar of the explosion, his face relaxed into an expression of tremendous relief.\"\n",
      "\n",
      "\"In 1942, Oppenheimer was recruited to work on the Manhattan Project, ... tasked with developing the first nuclear weapons. ... On July 16, 1945, he was present at the first test of the atomic bomb, Trinity.\"\n",
      "\n",
      "\"In October he met with President Harry S. Truman, who dismissed Oppenheimer's concern about an arms race with the Soviet Union and belief that atomic energy should be under international control. Truman became infuriated when Oppenheimer said, \"Mr. President, I feel I have blood on my hands\"\n",
      "\n"
     ]
    }
   ],
   "source": [
    "for rccr in response_ccr:\n",
    "    print(rccr.page_content+'\\n')"
   ]
  },
  {
   "cell_type": "markdown",
   "id": "39018397",
   "metadata": {},
   "source": [
    "## Comparing it to our original QARetrieval Chain"
   ]
  },
  {
   "cell_type": "code",
   "execution_count": 86,
   "id": "df00db01",
   "metadata": {},
   "outputs": [
    {
     "name": "stdout",
     "output_type": "stream",
     "text": [
      "\n",
      "\n",
      "\u001b[1m> Entering new  chain...\u001b[0m\n",
      "\n",
      "\u001b[1m> Finished chain.\u001b[0m\n",
      "{'query': \"What was Oppenheimer's reaction to the Trinity test?\", 'result': ' Oppenheimer\\'s first words were, \"I guess it worked\", and he reportedly had a relieved expression on his face. He also thought of verses from the Bhagavad Gita, \"If the radiance of a thousand suns were to burst at once into the sky, that would be like the splendor of the mighty one ... Now I am become Death, the shatterer of worlds.\"', 'source_documents': [Document(page_content='Oppenheimer\\'s brother Frank recalled Oppenheimer\\'s first words as, \"I guess it worked\".\\n\\nExternal video\\nvideo icon Oppenheimer recalling his thoughts after witnessing the Trinity test\\nTwo men, one in a suit and hat and the other in military uniform, stand in front of twisted metal whilst wearing white overshoes\\nOppenheimer and Groves at the remains of the Trinity test tower. Oppenheimer is wearing his trademark pork pie hat; white overshoes protect against fallout.\\nAccording to a 1949 magazine profile, while witnessing the explosion Oppenheimer thought of verses from the Bhagavad Gita: \"If the radiance of a thousand suns were to burst at once into the sky, that would be like the splendor of the mighty one ... Now I am become Death, the shatterer of worlds.\" In 1965 he recalled the moment this way:', metadata={'source': 'oppenheimer.txt', 'Creator': 'Swaminathan Kannan'}), Document(page_content='Trinity\\nThe Trinity test was the first detonation of a nuclear device.\\nIn the early morning hours of July 16, 1945, near Alamogordo, New Mexico, the work at Los Alamos culminated in the test of the world\\'s first nuclear weapon. Oppenheimer had code-named the site \"Trinity\" in mid-1944, saying later that the name came from John Donne\\'s Holy Sonnets; he had been introduced to Donne\\'s work in the 1930s by Jean Tatlock, who killed herself in January 1944.\\n\\nBrigadier General Thomas Farrell, who was present in the control bunker with Oppenheimer, recalled:\\n\\nDr. Oppenheimer, on whom had rested a very heavy burden, grew tenser as the last seconds ticked off. He scarcely breathed. He held on to a post to steady himself. For the last few seconds, he stared directly ahead and then when the announcer shouted \"Now!\" and there came this tremendous burst of light followed shortly thereafter by the deep growling roar of the explosion, his face relaxed into an expression of tremendous relief.', metadata={'source': 'oppenheimer.txt', 'Creator': 'Swaminathan Kannan'}), Document(page_content=\"In 1942, Oppenheimer was recruited to work on the Manhattan Project, and in 1943 he was appointed director of the project's Los Alamos Laboratory in New Mexico, tasked with developing the first nuclear weapons. His leadership and scientific expertise were instrumental in the project's success. On July 16, 1945, he was present at the first test of the atomic bomb, Trinity. In August 1945, the weapons were used against Japan in the bombings of Hiroshima and Nagasaki, the only use to date of nuclear weapons in an armed conflict.\", metadata={'source': 'oppenheimer.txt', 'Creator': 'Swaminathan Kannan'}), Document(page_content='On August 17, however, Oppenheimer traveled to Washington to hand-deliver a letter to Secretary of War Henry L. Stimson expressing his revulsion and his wish to see nuclear weapons banned. In October he met with President Harry S. Truman, who dismissed Oppenheimer\\'s concern about an arms race with the Soviet Union and belief that atomic energy should be under international control. Truman became infuriated when Oppenheimer said, \"Mr. President, I feel I have blood on my hands\", responding that he (Truman) bore sole responsibility for the decision to use atomic weapons against Japan, and later said, \"I don\\'t want to see that son of a bitch in this office ever again\".\\n\\nFor his services as director of Los Alamos, Oppenheimer was awarded the Medal for Merit by Truman in 1946.', metadata={'source': 'oppenheimer.txt', 'Creator': 'Swaminathan Kannan'})]}\n"
     ]
    }
   ],
   "source": [
    "a3=retrievalQA2({'query':\"What was Oppenheimer's reaction to the Trinity test?\"})\n",
    "print(a3)"
   ]
  },
  {
   "cell_type": "code",
   "execution_count": 92,
   "id": "e2176b53",
   "metadata": {},
   "outputs": [
    {
     "name": "stdout",
     "output_type": "stream",
     "text": [
      " Oppenheimer's first words were, \"I guess it worked\", and he reportedly had a relieved expression on his face. He also thought of verses from the Bhagavad Gita, \"If the radiance of a thousand suns were to burst at once into the sky, that would be like the splendor of the mighty one ... Now I am become Death, the shatterer of worlds.\"\n"
     ]
    }
   ],
   "source": [
    "print(a3['result'])"
   ]
  },
  {
   "cell_type": "code",
   "execution_count": 100,
   "id": "3dad2283",
   "metadata": {},
   "outputs": [
    {
     "name": "stdout",
     "output_type": "stream",
     "text": [
      "Oppenheimer's brother Frank recalled Oppenheimer's first words as, \"I guess it worked\".\n",
      "\n",
      "External video\n",
      "video icon Oppenheimer recalling his thoughts after witnessing the Trinity test\n",
      "Two men, one in a suit and hat and the other in military uniform, stand in front of twisted metal whilst wearing white overshoes\n",
      "Oppenheimer and Groves at the remains of the Trinity test tower. Oppenheimer is wearing his trademark pork pie hat; white overshoes protect against fallout.\n",
      "According to a 1949 magazine profile, while witnessing the explosion Oppenheimer thought of verses from the Bhagavad Gita: \"If the radiance of a thousand suns were to burst at once into the sky, that would be like the splendor of the mighty one ... Now I am become Death, the shatterer of worlds.\" In 1965 he recalled the moment this way:\n",
      "{'source': 'oppenheimer.txt', 'Creator': 'Swaminathan Kannan'}\n",
      "Trinity\n",
      "The Trinity test was the first detonation of a nuclear device.\n",
      "In the early morning hours of July 16, 1945, near Alamogordo, New Mexico, the work at Los Alamos culminated in the test of the world's first nuclear weapon. Oppenheimer had code-named the site \"Trinity\" in mid-1944, saying later that the name came from John Donne's Holy Sonnets; he had been introduced to Donne's work in the 1930s by Jean Tatlock, who killed herself in January 1944.\n",
      "\n",
      "Brigadier General Thomas Farrell, who was present in the control bunker with Oppenheimer, recalled:\n",
      "\n",
      "Dr. Oppenheimer, on whom had rested a very heavy burden, grew tenser as the last seconds ticked off. He scarcely breathed. He held on to a post to steady himself. For the last few seconds, he stared directly ahead and then when the announcer shouted \"Now!\" and there came this tremendous burst of light followed shortly thereafter by the deep growling roar of the explosion, his face relaxed into an expression of tremendous relief.\n",
      "{'source': 'oppenheimer.txt', 'Creator': 'Swaminathan Kannan'}\n",
      "In 1942, Oppenheimer was recruited to work on the Manhattan Project, and in 1943 he was appointed director of the project's Los Alamos Laboratory in New Mexico, tasked with developing the first nuclear weapons. His leadership and scientific expertise were instrumental in the project's success. On July 16, 1945, he was present at the first test of the atomic bomb, Trinity. In August 1945, the weapons were used against Japan in the bombings of Hiroshima and Nagasaki, the only use to date of nuclear weapons in an armed conflict.\n",
      "{'source': 'oppenheimer.txt', 'Creator': 'Swaminathan Kannan'}\n",
      "On August 17, however, Oppenheimer traveled to Washington to hand-deliver a letter to Secretary of War Henry L. Stimson expressing his revulsion and his wish to see nuclear weapons banned. In October he met with President Harry S. Truman, who dismissed Oppenheimer's concern about an arms race with the Soviet Union and belief that atomic energy should be under international control. Truman became infuriated when Oppenheimer said, \"Mr. President, I feel I have blood on my hands\", responding that he (Truman) bore sole responsibility for the decision to use atomic weapons against Japan, and later said, \"I don't want to see that son of a bitch in this office ever again\".\n",
      "\n",
      "For his services as director of Los Alamos, Oppenheimer was awarded the Medal for Merit by Truman in 1946.\n",
      "{'source': 'oppenheimer.txt', 'Creator': 'Swaminathan Kannan'}\n"
     ]
    }
   ],
   "source": [
    "for reference in a3['source_documents']:\n",
    "    for meta in reference:\n",
    "        print(meta[1])"
   ]
  },
  {
   "cell_type": "markdown",
   "id": "8de4c14b",
   "metadata": {},
   "source": [
    "### Analysis of the comparison"
   ]
  },
  {
   "cell_type": "markdown",
   "id": "6dca87d5",
   "metadata": {},
   "source": [
    "If we compare the two, we notice the following:\n",
    "    <ol>\n",
    "    <li> The reference material (<b>metadata</b>) for ContextualCompressionRetriever is in fact a compressed version of the original text while the standard QARetrievalChain used the entire text as a reference. </li>\n",
    "    <li>The results from the ContextualCompressionRetriever chain has far more output. This includes Truman's reporting of Oppenheimer's reactions and his immediate reaction to the explosion which the original QARetrievalChain misses out.<br> If we look at the relevant chunk's in the output of the cell below, we see that there are multiple events in that chunk, including the hand delivery of the paper, the reference to the Secretary of the war and then his subsequent meeting with Pres. Truman at the end of the chunk followed by Truman's reaction. This could have led to the ignorance of this reaction in the QARetrievalChain</li>\n",
    "    <li>However, there are some irrelevant reactions to the fourth point in the ContextualCompressionRetriever output. This could be because of the way the summarization was done\n",
    "    </ol>"
   ]
  },
  {
   "cell_type": "code",
   "execution_count": 127,
   "id": "31f6c1c7",
   "metadata": {},
   "outputs": [
    {
     "name": "stdout",
     "output_type": "stream",
     "text": [
      "Chunk:11,Content:Trinity\n",
      "The Trinity test was the first detonation of a nuclear device.\n",
      "In the early morning hours of July 16, 1945, near Alamogordo, New Mexico, the work at Los Alamos culminated in the test of the world's first nuclear weapon. Oppenheimer had code-named the site \"Trinity\" in mid-1944, saying later that the name came from John Donne's Holy Sonnets; he had been introduced to Donne's work in the 1930s by Jean Tatlock, who killed herself in January 1944.\n",
      "\n",
      "Brigadier General Thomas Farrell, who was present in the control bunker with Oppenheimer, recalled:\n",
      "\n",
      "Dr. Oppenheimer, on whom had rested a very heavy burden, grew tenser as the last seconds ticked off. He scarcely breathed. He held on to a post to steady himself. For the last few seconds, he stared directly ahead and then when the announcer shouted \"Now!\" and there came this tremendous burst of light followed shortly thereafter by the deep growling roar of the explosion, his face relaxed into an expression of tremendous relief.+\n",
      "\n",
      "Chunk:14,Content:On August 17, however, Oppenheimer traveled to Washington to hand-deliver a letter to Secretary of War Henry L. Stimson expressing his revulsion and his wish to see nuclear weapons banned. In October he met with President Harry S. Truman, who dismissed Oppenheimer's concern about an arms race with the Soviet Union and belief that atomic energy should be under international control. Truman became infuriated when Oppenheimer said, \"Mr. President, I feel I have blood on my hands\", responding that he (Truman) bore sole responsibility for the decision to use atomic weapons against Japan, and later said, \"I don't want to see that son of a bitch in this office ever again\".\n",
      "\n",
      "For his services as director of Los Alamos, Oppenheimer was awarded the Medal for Merit by Truman in 1946.+\n",
      "\n"
     ]
    }
   ],
   "source": [
    "for c in range(len(texts_from_file)):\n",
    "    chunk=texts_from_file[c]\n",
    "    if 'Truman' in chunk.page_content or 'on whom had rested a very heavy burden' in chunk.page_content:\n",
    "        print(f'Chunk:{c},Content:{chunk.page_content}+\\n') \n",
    "        "
   ]
  }
 ],
 "metadata": {
  "kernelspec": {
   "display_name": "Python 3 (ipykernel)",
   "language": "python",
   "name": "python3"
  },
  "language_info": {
   "codemirror_mode": {
    "name": "ipython",
    "version": 3
   },
   "file_extension": ".py",
   "mimetype": "text/x-python",
   "name": "python",
   "nbconvert_exporter": "python",
   "pygments_lexer": "ipython3",
   "version": "3.9.16"
  }
 },
 "nbformat": 4,
 "nbformat_minor": 5
}
