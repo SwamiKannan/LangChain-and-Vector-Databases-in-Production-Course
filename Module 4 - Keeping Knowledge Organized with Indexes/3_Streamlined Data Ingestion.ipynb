{
 "cells": [
  {
   "cell_type": "markdown",
   "id": "84e38b43",
   "metadata": {},
   "source": [
    "### We can load multiple filetypes using Langchain. We have already seen TextLoader. We can also load PDFs, Webpages, and files from GoogleDrive"
   ]
  },
  {
   "cell_type": "markdown",
   "id": "dc14cf10",
   "metadata": {},
   "source": [
    "# TextLoader"
   ]
  },
  {
   "cell_type": "code",
   "execution_count": 1,
   "id": "b46e9963",
   "metadata": {},
   "outputs": [
    {
     "name": "stderr",
     "output_type": "stream",
     "text": [
      "D:\\miniconda3\\envs\\langchain\\lib\\site-packages\\deeplake\\util\\check_latest_version.py:32: UserWarning: A newer version of deeplake (3.6.19) is available. It's recommended that you update to the latest version using `pip install -U deeplake`.\n",
      "  warnings.warn(\n"
     ]
    }
   ],
   "source": [
    "from langchain.document_loaders import TextLoader"
   ]
  },
  {
   "cell_type": "code",
   "execution_count": 2,
   "id": "ef78f2de",
   "metadata": {},
   "outputs": [],
   "source": [
    "text_loader=TextLoader('data/oppenheimer.txt')"
   ]
  },
  {
   "cell_type": "code",
   "execution_count": 3,
   "id": "9f4bf111",
   "metadata": {},
   "outputs": [],
   "source": [
    "data=text_loader.load()"
   ]
  },
  {
   "cell_type": "code",
   "execution_count": 4,
   "id": "e3cf5ed2",
   "metadata": {},
   "outputs": [
    {
     "data": {
      "text/plain": [
       "'Julius Robert Oppenheimer (April 22, 1904 â€“ February 18, 1967) was an American theoretical physicist and director of the Manhattan Project\\'s Los Alamos Laboratory during World War II. He is often called the \"father of the atomic bomb\".\\n\\nBorn in New'"
      ]
     },
     "execution_count": 4,
     "metadata": {},
     "output_type": "execute_result"
    }
   ],
   "source": [
    "data[0].page_content[:250]"
   ]
  },
  {
   "cell_type": "markdown",
   "id": "fdac5497",
   "metadata": {},
   "source": [
    "# PDFLoader"
   ]
  },
  {
   "cell_type": "markdown",
   "id": "b42ba71b",
   "metadata": {},
   "source": [
    "#### To use PyPDFLoader we need to install the pypdf library\n",
    "`!pip install -q pypdf`"
   ]
  },
  {
   "cell_type": "code",
   "execution_count": 5,
   "id": "7178ea34",
   "metadata": {},
   "outputs": [],
   "source": [
    "from langchain.document_loaders import PyPDFLoader"
   ]
  },
  {
   "cell_type": "code",
   "execution_count": 6,
   "id": "7954a011",
   "metadata": {},
   "outputs": [],
   "source": [
    "pdf_loader=PyPDFLoader('data/Consciousness in Artificial Intelligence.pdf')"
   ]
  },
  {
   "cell_type": "code",
   "execution_count": 7,
   "id": "19f337c9",
   "metadata": {},
   "outputs": [],
   "source": [
    "pdf=pdf_loader.load_and_split()"
   ]
  },
  {
   "cell_type": "code",
   "execution_count": 8,
   "id": "13216fb8",
   "metadata": {},
   "outputs": [
    {
     "name": "stdout",
     "output_type": "stream",
     "text": [
      "92\n"
     ]
    }
   ],
   "source": [
    "print(len(pdf))"
   ]
  },
  {
   "cell_type": "code",
   "execution_count": 9,
   "id": "81ab5e98",
   "metadata": {},
   "outputs": [
    {
     "name": "stdout",
     "output_type": "stream",
     "text": [
      "page_content='Consciousness in Artificial Intelligence:\\nInsights from the Science of Consciousness\\nPatrick Butlin* Robert Long* Eric Elmoznino\\nYoshua Bengio Jonathan Birch Axel Constant\\nGeorge Deane Stephen M. Fleming Chris Frith\\nXu Ji Ryota Kanai Colin Klein\\nGrace Lindsay Matthias Michel Liad Mudrik\\nMegan A. K. Peters Eric Schwitzgebel Jonathan Simon\\nRufin VanRullen\\nAbstract\\nWhether current or near-term AI systems could be conscious is a topic of scientific interest and\\nincreasing public concern. This report argues for, and exemplifies, a rigorous and empirically\\ngrounded approach to AI consciousness: assessing existing AI systems in detail, in light of our\\nbest-supported neuroscientific theories of consciousness. We survey several prominent scientific\\ntheories of consciousness, including recurrent processing theory, global workspace theory, higher-\\norder theories, predictive processing, and attention schema theory. From these theories we derive\\n”indicator properties” of consciousness, elucidated in computational terms that allow us to assess\\nAI systems for these properties. We use these indicator properties to assess several recent AI\\nsystems, and we discuss how future systems might implement them. Our analysis suggests that\\nno current AI systems are conscious, but also shows that there are no obvious barriers to building\\nconscious AI systems.\\n*Joint first authors and corresponding authors (patrickbutlin@gmail.com, rgblong@gmail.com)arXiv:2308.08708v2  [cs.AI]  21 Aug 2023' metadata={'source': 'data/Consciousness in Artificial Intelligence.pdf', 'page': 0}\n"
     ]
    }
   ],
   "source": [
    "print(pdf[0])"
   ]
  },
  {
   "cell_type": "code",
   "execution_count": 10,
   "id": "c2f8dd7c",
   "metadata": {},
   "outputs": [
    {
     "name": "stdout",
     "output_type": "stream",
     "text": [
      "<class 'langchain.schema.Document'>\n"
     ]
    }
   ],
   "source": [
    "print(type(pdf[0]))"
   ]
  },
  {
   "cell_type": "markdown",
   "id": "fc068730",
   "metadata": {},
   "source": [
    "<b> Hence, we see that all the document loaders create a standard Document object (similar to the object on which we had used a QARetriever on in the previous lesson)"
   ]
  },
  {
   "cell_type": "markdown",
   "id": "2ed9214b",
   "metadata": {},
   "source": [
    "# Webpages"
   ]
  },
  {
   "cell_type": "markdown",
   "id": "efc8e6e6",
   "metadata": {},
   "source": [
    "#### For Webpages, we need to use the Selenium Webdriver that can extract webpages from Chrome-enabled browsers\n",
    "`!pip install -q unstructured==0.7.7 selenium==4.10.0`\n",
    "<br>The versions are only if you are using the versions of langchain==0.0.208 as mentioned in the course"
   ]
  },
  {
   "cell_type": "code",
   "execution_count": 11,
   "id": "92c72e88",
   "metadata": {},
   "outputs": [],
   "source": [
    "from langchain.document_loaders import SeleniumURLLoader"
   ]
  },
  {
   "cell_type": "code",
   "execution_count": 12,
   "id": "1642434f",
   "metadata": {},
   "outputs": [],
   "source": [
    "url_list=['https://news.ycombinator.com/item?id=37220667','https://news.ycombinator.com/item?id=37219779','https://news.ycombinator.com/item?id=37220744'] #3 of the top 4 Hacker News items"
   ]
  },
  {
   "cell_type": "code",
   "execution_count": 13,
   "id": "bc3df75b",
   "metadata": {},
   "outputs": [],
   "source": [
    "url_loader=SeleniumURLLoader(url_list,browser='firefox')"
   ]
  },
  {
   "cell_type": "code",
   "execution_count": 14,
   "id": "542ee3e1",
   "metadata": {},
   "outputs": [],
   "source": [
    "import time"
   ]
  },
  {
   "cell_type": "code",
   "execution_count": 15,
   "id": "9616bf69",
   "metadata": {},
   "outputs": [],
   "source": [
    "start_time=time.time()\n",
    "url_data=url_loader.load()\n",
    "end_time=time.time()"
   ]
  },
  {
   "cell_type": "code",
   "execution_count": 16,
   "id": "ee0f5c51",
   "metadata": {},
   "outputs": [
    {
     "name": "stdout",
     "output_type": "stream",
     "text": [
      "Time taken to load the data: 13.066612005233765\n"
     ]
    }
   ],
   "source": [
    "print('Time taken to load the data:',end_time-start_time)"
   ]
  },
  {
   "cell_type": "code",
   "execution_count": 17,
   "id": "a07b3404",
   "metadata": {},
   "outputs": [
    {
     "data": {
      "text/plain": [
       "3"
      ]
     },
     "execution_count": 17,
     "metadata": {},
     "output_type": "execute_result"
    }
   ],
   "source": [
    "len(url_data)"
   ]
  },
  {
   "cell_type": "code",
   "execution_count": 27,
   "id": "f59f6a88",
   "metadata": {},
   "outputs": [
    {
     "name": "stdout",
     "output_type": "stream",
     "text": [
      "{'source': 'https://news.ycombinator.com/item?id=37220667'}\n",
      "Hacker News\n",
      "                            new | past | comments | ask | show | jobs | submit            \n",
      "                              login\n",
      "Why KPIs are destroying businesses (promaton.com)\n",
      "          162 points by atorok 2 hours ago  | hide | past | favorite | 94 comments        \n",
      "              \n",
      "     \n",
      "{'source': 'https://news.ycombinator.com/item?id=37219779'}\n",
      "Hacker News\n",
      "                            new | past | comments | ask | show | jobs | submit            \n",
      "                              login\n",
      "Arm Announces Public Filing for Proposed Initial Public Offering (arm.com)\n",
      "          208 points by lultimouomo 5 hours ago  | hide | past | favorite | 162 commen\n",
      "{'source': 'https://news.ycombinator.com/item?id=37220744'}\n",
      "Hacker News\n",
      "                            new | past | comments | ask | show | jobs | submit            \n",
      "                              login\n",
      "Consciousness in AI: Insights from the Science of Consciousness (arxiv.org)\n",
      "          39 points by rbanffy 2 hours ago  | hide | past | favorite | 60 comments   \n"
     ]
    }
   ],
   "source": [
    "for sample in url_data:\n",
    "    content=sample.page_content\n",
    "    content=content.replace('\\n\\n','\\n')\n",
    "    print(sample.metadata)\n",
    "    print(content[:300])"
   ]
  }
 ],
 "metadata": {
  "kernelspec": {
   "display_name": "Python 3 (ipykernel)",
   "language": "python",
   "name": "python3"
  },
  "language_info": {
   "codemirror_mode": {
    "name": "ipython",
    "version": 3
   },
   "file_extension": ".py",
   "mimetype": "text/x-python",
   "name": "python",
   "nbconvert_exporter": "python",
   "pygments_lexer": "ipython3",
   "version": "3.9.16"
  }
 },
 "nbformat": 4,
 "nbformat_minor": 5
}
