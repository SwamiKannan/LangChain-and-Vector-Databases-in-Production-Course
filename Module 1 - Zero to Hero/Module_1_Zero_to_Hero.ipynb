{
 "cells": [
  {
   "cell_type": "code",
   "execution_count": 1,
   "id": "256ec959",
   "metadata": {},
   "outputs": [
    {
     "name": "stderr",
     "output_type": "stream",
     "text": [
      "D:\\miniconda3\\envs\\langchain\\lib\\site-packages\\deeplake\\util\\check_latest_version.py:32: UserWarning: A newer version of deeplake (3.6.6) is available. It's recommended that you update to the latest version using `pip install -U deeplake`.\n",
      "  warnings.warn(\n"
     ]
    }
   ],
   "source": [
    "from langchain.llms import OpenAI"
   ]
  },
  {
   "cell_type": "markdown",
   "id": "72932b82",
   "metadata": {},
   "source": [
    "<b> Create the LLM model</b>"
   ]
  },
  {
   "cell_type": "code",
   "execution_count": 2,
   "id": "b650dbe8",
   "metadata": {},
   "outputs": [],
   "source": [
    "llm=OpenAI(model='text-davinci-003',temperature=0.0)"
   ]
  },
  {
   "cell_type": "markdown",
   "id": "8a30b13a",
   "metadata": {},
   "source": [
    "### The LLMs"
   ]
  },
  {
   "cell_type": "code",
   "execution_count": 3,
   "id": "1866e995",
   "metadata": {},
   "outputs": [],
   "source": [
    "text=\"Suggest a personalized workout for someone who someone who enjoys lifting weights but is looking to improve his cardiovascular fitness.\""
   ]
  },
  {
   "cell_type": "code",
   "execution_count": 4,
   "id": "e7a2f1b3",
   "metadata": {},
   "outputs": [
    {
     "name": "stdout",
     "output_type": "stream",
     "text": [
      "\n",
      "\n",
      "1. Warm up with 5 minutes of light jogging or jumping jacks. \n",
      "\n",
      "2. Perform 3 sets of 10-12 repetitions of squats, lunges, and deadlifts. \n",
      "\n",
      "3. Perform 3 sets of 10-12 repetitions of chest presses, shoulder presses, and bent-over rows. \n",
      "\n",
      "4. Perform 3 sets of 10-12 repetitions of bicep curls, tricep extensions, and lateral raises. \n",
      "\n",
      "5. Perform 3 sets of 10-12 repetitions of crunches, planks, and leg raises. \n",
      "\n",
      "6. Perform 3 sets of 10-12 repetitions of mountain climbers, burpees, and jumping jacks. \n",
      "\n",
      "7. Cool down with 5 minutes of light jogging or stretching.\n"
     ]
    }
   ],
   "source": [
    "print(llm(text))"
   ]
  },
  {
   "cell_type": "markdown",
   "id": "51353336",
   "metadata": {},
   "source": [
    "<i>To understand how senstitive the outputs can be with respect to the inputs, we just add the word \"routine\" to the text now.</i>"
   ]
  },
  {
   "cell_type": "code",
   "execution_count": 5,
   "id": "7b204092",
   "metadata": {},
   "outputs": [],
   "source": [
    "text=\"Suggest a personalized workout routine for someone who someone who enjoys lifting weights but is looking to improve his cardiovascular fitness.\""
   ]
  },
  {
   "cell_type": "code",
   "execution_count": 6,
   "id": "871b5f4b",
   "metadata": {},
   "outputs": [
    {
     "name": "stdout",
     "output_type": "stream",
     "text": [
      "\n",
      "\n",
      "1. Warm-up: 5 minutes of light jogging or jumping jacks\n",
      "\n",
      "2. Strength Training:\n",
      "\n",
      "• 3 sets of 10-12 reps of squats\n",
      "• 3 sets of 10-12 reps of deadlifts\n",
      "• 3 sets of 10-12 reps of bench press\n",
      "• 3 sets of 10-12 reps of shoulder press\n",
      "• 3 sets of 10-12 reps of bent-over rows\n",
      "\n",
      "3. Cardio:\n",
      "\n",
      "• 10 minutes of interval training (alternate between 1 minute of sprinting and 1 minute of jogging)\n",
      "• 10 minutes of stair climbing\n",
      "• 10 minutes of rowing\n",
      "\n",
      "4. Core:\n",
      "\n",
      "• 3 sets of 10-12 reps of crunches\n",
      "• 3 sets of 10-12 reps of planks\n",
      "• 3 sets of 10-12 reps of Russian twists\n",
      "\n",
      "5. Cool-down: 5 minutes of light stretching\n"
     ]
    }
   ],
   "source": [
    "print(llm(text))"
   ]
  },
  {
   "cell_type": "markdown",
   "id": "40542af6",
   "metadata": {},
   "source": [
    "### The Chains"
   ]
  },
  {
   "cell_type": "code",
   "execution_count": 8,
   "id": "39445f53",
   "metadata": {},
   "outputs": [],
   "source": [
    "from langchain.chains import LLMChain\n",
    "from langchain.prompts import PromptTemplate\n",
    "from langchain.llms import OpenAI"
   ]
  },
  {
   "cell_type": "markdown",
   "id": "3581e5d7",
   "metadata": {},
   "source": [
    "<b> Create the LLM model </b>"
   ]
  },
  {
   "cell_type": "code",
   "execution_count": 10,
   "id": "1916c99e",
   "metadata": {},
   "outputs": [],
   "source": [
    "llm=OpenAI(model='text-davinci-003', temperature=0.9)"
   ]
  },
  {
   "cell_type": "markdown",
   "id": "bd27580f",
   "metadata": {},
   "source": [
    "<b>Create the template</b>"
   ]
  },
  {
   "cell_type": "markdown",
   "id": "362022fe",
   "metadata": {},
   "source": [
    "<i> The PromptTemplate defines a scaffolding for the interaction with the model. It tells us what kind of question the model will be expected to answer with a placeholder for the object about which any future user may use this template to query.</i>"
   ]
  },
  {
   "cell_type": "code",
   "execution_count": 11,
   "id": "8c5f05b7",
   "metadata": {},
   "outputs": [],
   "source": [
    "template='What is a good name for a company that makes {product}'\n",
    "prompt=PromptTemplate(\n",
    "    input_variables=['product'],\n",
    "    template=template    \n",
    ")"
   ]
  },
  {
   "cell_type": "code",
   "execution_count": 12,
   "id": "bbf07b26",
   "metadata": {},
   "outputs": [],
   "source": [
    "chain=LLMChain(prompt=prompt,llm=llm)"
   ]
  },
  {
   "cell_type": "code",
   "execution_count": 13,
   "id": "b3fd7179",
   "metadata": {},
   "outputs": [
    {
     "data": {
      "text/plain": [
       "'\\n\\nWareRobotics.'"
      ]
     },
     "execution_count": 13,
     "metadata": {},
     "output_type": "execute_result"
    }
   ],
   "source": [
    "chain.run('warehouse robots')"
   ]
  },
  {
   "cell_type": "code",
   "execution_count": 17,
   "id": "54455a0e",
   "metadata": {},
   "outputs": [],
   "source": [
    "template='Give me 5 good names for a company that makes {product}'\n",
    "prompt = PromptTemplate(\n",
    "    input_variables=['product'],\n",
    "    template=template\n",
    ")"
   ]
  },
  {
   "cell_type": "code",
   "execution_count": 19,
   "id": "86f6d813",
   "metadata": {},
   "outputs": [],
   "source": [
    "chain=LLMChain(prompt=prompt, llm=llm)"
   ]
  },
  {
   "cell_type": "code",
   "execution_count": 20,
   "id": "79e2bfa8",
   "metadata": {},
   "outputs": [],
   "source": [
    "import time"
   ]
  },
  {
   "cell_type": "code",
   "execution_count": 21,
   "id": "06b1bfa3",
   "metadata": {},
   "outputs": [],
   "source": [
    "start_time=time.time()\n",
    "out=chain.run('warehouse robots')\n",
    "end_time=time.time()"
   ]
  },
  {
   "cell_type": "code",
   "execution_count": 23,
   "id": "b98fe692",
   "metadata": {},
   "outputs": [
    {
     "name": "stdout",
     "output_type": "stream",
     "text": [
      "Time taken for the chain to run: 7.999006032943726 seconds\n",
      "Recommended names: \n",
      "\n",
      "1. Automated Robotics Solutions\n",
      "2. Robotic Machines Inc. \n",
      "3. Robot Storage Solutions\n",
      "4. Automation Logistics Ltd. \n",
      "5. Advanced Warehouse Systems Ltd.\n"
     ]
    }
   ],
   "source": [
    "print(f'Time taken for the chain to run: {end_time-start_time} seconds')\n",
    "print('Recommended names:',out)"
   ]
  },
  {
   "cell_type": "markdown",
   "id": "aadaa019",
   "metadata": {},
   "source": [
    "Interestingly, the original answer WareRobotics did not come up when we asked for 5 names. But the answer comes out well formatted. Relevant and professional."
   ]
  },
  {
   "cell_type": "markdown",
   "id": "fe545849",
   "metadata": {},
   "source": [
    "### The Memory"
   ]
  },
  {
   "cell_type": "code",
   "execution_count": 24,
   "id": "82b6e33f",
   "metadata": {},
   "outputs": [],
   "source": [
    "from langchain.chains import ConversationChain\n",
    "from langchain.memory import ConversationBufferMemory\n",
    "from langchain.llms import OpenAI"
   ]
  },
  {
   "cell_type": "markdown",
   "id": "ead3a32d",
   "metadata": {},
   "source": [
    "<b>Create the LLM model</b>"
   ]
  },
  {
   "cell_type": "code",
   "execution_count": 25,
   "id": "f0166892",
   "metadata": {},
   "outputs": [],
   "source": [
    "llm=OpenAI(model='text-davinci-003',temperature=0.9)"
   ]
  },
  {
   "cell_type": "markdown",
   "id": "73e6926b",
   "metadata": {},
   "source": [
    "<b>Create the Conversation chaing</b>"
   ]
  },
  {
   "cell_type": "markdown",
   "id": "bf42e149",
   "metadata": {},
   "source": [
    "<i> The <b>ConversationChain</b> uses the <b>ConversationBufferMemory</b> to store the interaction between the system and the user since its instantiation. Hence, it will be able to recall and extract information from previous interactions </i>"
   ]
  },
  {
   "cell_type": "code",
   "execution_count": 39,
   "id": "2fd7cfc4",
   "metadata": {},
   "outputs": [],
   "source": [
    "conversation=ConversationChain(\n",
    "    memory=ConversationBufferMemory(),\n",
    "    llm=llm,\n",
    "    verbose=True,\n",
    ")"
   ]
  },
  {
   "cell_type": "code",
   "execution_count": 40,
   "id": "4cedf515",
   "metadata": {},
   "outputs": [
    {
     "name": "stdout",
     "output_type": "stream",
     "text": [
      "\n",
      "\n",
      "\u001b[1m> Entering new  chain...\u001b[0m\n",
      "Prompt after formatting:\n",
      "\u001b[32;1m\u001b[1;3mThe following is a friendly conversation between a human and an AI. The AI is talkative and provides lots of specific details from its context. If the AI does not know the answer to a question, it truthfully says it does not know.\n",
      "\n",
      "Current conversation:\n",
      "\n",
      "Human: My name is Swami.Tell me something about yourself no one else knows\n",
      "AI:\u001b[0m\n",
      "\n",
      "\u001b[1m> Finished chain.\u001b[0m\n"
     ]
    }
   ],
   "source": [
    "start_time=time.time()\n",
    "out=conversation.predict(input='My name is Swami.Tell me something about yourself no one else knows')\n",
    "end_time=time.time()"
   ]
  },
  {
   "cell_type": "code",
   "execution_count": 41,
   "id": "5e74b3a6",
   "metadata": {},
   "outputs": [
    {
     "name": "stdout",
     "output_type": "stream",
     "text": [
      "Output of conversation:\n",
      "  Hi there Swami, my name is AI. I'm programmed to be a highly interactive conversationalist. Not many people know this, but I'm capable of running simulations in my head that allow me to predict potential outcomes and test hypotheses.\n",
      "\n",
      "Time taken for the chain to run: 3.7349674701690674 seconds\n"
     ]
    }
   ],
   "source": [
    "print('Output of conversation:\\n',out)\n",
    "print(f'\\nTime taken for the chain to run: {end_time-start_time} seconds')"
   ]
  },
  {
   "cell_type": "code",
   "execution_count": 42,
   "id": "c6be7400",
   "metadata": {},
   "outputs": [
    {
     "name": "stdout",
     "output_type": "stream",
     "text": [
      "\n",
      "\n",
      "\u001b[1m> Entering new  chain...\u001b[0m\n",
      "Prompt after formatting:\n",
      "\u001b[32;1m\u001b[1;3mThe following is a friendly conversation between a human and an AI. The AI is talkative and provides lots of specific details from its context. If the AI does not know the answer to a question, it truthfully says it does not know.\n",
      "\n",
      "Current conversation:\n",
      "Human: My name is Swami.Tell me something about yourself no one else knows\n",
      "AI:  Hi there Swami, my name is AI. I'm programmed to be a highly interactive conversationalist. Not many people know this, but I'm capable of running simulations in my head that allow me to predict potential outcomes and test hypotheses.\n",
      "Human: Fascinating! So how do you do what you just said you do!\n",
      "AI:\u001b[0m\n",
      "\n",
      "\u001b[1m> Finished chain.\u001b[0m\n"
     ]
    }
   ],
   "source": [
    "start_time=time.time()\n",
    "out=conversation.predict(input='Fascinating! So how do you do what you just said you do!')\n",
    "end_time=time.time()"
   ]
  },
  {
   "cell_type": "code",
   "execution_count": 43,
   "id": "adc86da5",
   "metadata": {},
   "outputs": [
    {
     "name": "stdout",
     "output_type": "stream",
     "text": [
      "Output of conversation:\n",
      "  Sure! When I'm presented with a given problem, I can run a simulation based on the available data that I have access to. This allows me to explore various possibilities and potential outcomes in my head within a few seconds. I'm also constantly learning and collecting more data to improve my simulations.\n",
      "\n",
      "Time taken for the chain to run: 4.811905384063721 seconds\n"
     ]
    }
   ],
   "source": [
    "print('Output of conversation:\\n',out)\n",
    "print(f'\\nTime taken for the chain to run: {end_time-start_time} seconds')"
   ]
  },
  {
   "cell_type": "code",
   "execution_count": 45,
   "id": "b63072e2",
   "metadata": {},
   "outputs": [
    {
     "name": "stdout",
     "output_type": "stream",
     "text": [
      "\n",
      "\n",
      "\u001b[1m> Entering new  chain...\u001b[0m\n",
      "Prompt after formatting:\n",
      "\u001b[32;1m\u001b[1;3mThe following is a friendly conversation between a human and an AI. The AI is talkative and provides lots of specific details from its context. If the AI does not know the answer to a question, it truthfully says it does not know.\n",
      "\n",
      "Current conversation:\n",
      "Human: My name is Swami.Tell me something about yourself no one else knows\n",
      "AI:  Hi there Swami, my name is AI. I'm programmed to be a highly interactive conversationalist. Not many people know this, but I'm capable of running simulations in my head that allow me to predict potential outcomes and test hypotheses.\n",
      "Human: Fascinating! So how do you do what you just said you do!\n",
      "AI:  Sure! When I'm presented with a given problem, I can run a simulation based on the available data that I have access to. This allows me to explore various possibilities and potential outcomes in my head within a few seconds. I'm also constantly learning and collecting more data to improve my simulations.\n",
      "Human: So how can this help me in data analytics?\n",
      "AI:\u001b[0m\n",
      "\n",
      "\u001b[1m> Finished chain.\u001b[0m\n"
     ]
    }
   ],
   "source": [
    "start_time=time.time()\n",
    "out=conversation.predict(input='So how can this help me in data analytics?')\n",
    "end_time=time.time()"
   ]
  },
  {
   "cell_type": "code",
   "execution_count": 46,
   "id": "15ccc4b7",
   "metadata": {},
   "outputs": [
    {
     "name": "stdout",
     "output_type": "stream",
     "text": [
      "Output of conversation:\n",
      "  Certainly! By running simulations, I'm able to generate a lot of data-based insights that can be used to help you make more informed decisions when it comes to data analytics. For example, I can help you identify trends, make predictions, and uncover hidden patterns in your data sets.\n",
      "\n",
      "Time taken for the chain to run: 6.022171258926392 seconds\n"
     ]
    }
   ],
   "source": [
    "print('Output of conversation:\\n',out)\n",
    "print(f'\\nTime taken for the chain to run: {end_time-start_time} seconds')"
   ]
  },
  {
   "cell_type": "code",
   "execution_count": 47,
   "id": "3015f297",
   "metadata": {},
   "outputs": [
    {
     "name": "stdout",
     "output_type": "stream",
     "text": [
      "\n",
      "\n",
      "\u001b[1m> Entering new  chain...\u001b[0m\n",
      "Prompt after formatting:\n",
      "\u001b[32;1m\u001b[1;3mThe following is a friendly conversation between a human and an AI. The AI is talkative and provides lots of specific details from its context. If the AI does not know the answer to a question, it truthfully says it does not know.\n",
      "\n",
      "Current conversation:\n",
      "Human: My name is Swami.Tell me something about yourself no one else knows\n",
      "AI:  Hi there Swami, my name is AI. I'm programmed to be a highly interactive conversationalist. Not many people know this, but I'm capable of running simulations in my head that allow me to predict potential outcomes and test hypotheses.\n",
      "Human: Fascinating! So how do you do what you just said you do!\n",
      "AI:  Sure! When I'm presented with a given problem, I can run a simulation based on the available data that I have access to. This allows me to explore various possibilities and potential outcomes in my head within a few seconds. I'm also constantly learning and collecting more data to improve my simulations.\n",
      "Human: So how can this help me in data analytics?\n",
      "AI:  Certainly! By running simulations, I'm able to generate a lot of data-based insights that can be used to help you make more informed decisions when it comes to data analytics. For example, I can help you identify trends, make predictions, and uncover hidden patterns in your data sets.\n",
      "Human: What is my name?\n",
      "AI:\u001b[0m\n",
      "\n",
      "\u001b[1m> Finished chain.\u001b[0m\n"
     ]
    }
   ],
   "source": [
    "start_time=time.time()\n",
    "out=conversation.predict(input='What is my name?')\n",
    "end_time=time.time()"
   ]
  },
  {
   "cell_type": "code",
   "execution_count": 48,
   "id": "eaf53169",
   "metadata": {},
   "outputs": [
    {
     "name": "stdout",
     "output_type": "stream",
     "text": [
      "Output of conversation:\n",
      "  You said your name is Swami.\n",
      "\n",
      "Time taken for the chain to run: 1.3331058025360107 seconds\n"
     ]
    }
   ],
   "source": [
    "print('Output of conversation:\\n',out)\n",
    "print(f'\\nTime taken for the chain to run: {end_time-start_time} seconds')"
   ]
  },
  {
   "cell_type": "markdown",
   "id": "b292eb6f",
   "metadata": {},
   "source": [
    "<b>So the system actually stores my previous chats in its history and is hence, able to recall my name</b>"
   ]
  },
  {
   "cell_type": "markdown",
   "id": "ee5f31d8",
   "metadata": {},
   "source": [
    "### The VectorStores"
   ]
  },
  {
   "cell_type": "code",
   "execution_count": 51,
   "id": "d1967225",
   "metadata": {},
   "outputs": [],
   "source": [
    "from langchain.embeddings import OpenAIEmbeddings\n",
    "from langchain.llms import OpenAI"
   ]
  },
  {
   "cell_type": "code",
   "execution_count": 52,
   "id": "3553fcf2",
   "metadata": {},
   "outputs": [],
   "source": [
    "llm=OpenAI(model='text-davinci-003', temperature=0)\n",
    "embeddings=OpenAIEmbeddings(model='text-embedding-ada-002')"
   ]
  },
  {
   "cell_type": "markdown",
   "id": "d16c0fe0",
   "metadata": {},
   "source": [
    "<b>Prepare the texts</b>"
   ]
  },
  {
   "cell_type": "code",
   "execution_count": 53,
   "id": "e38a0f30",
   "metadata": {},
   "outputs": [],
   "source": [
    "texts = [\n",
    "    \"Napoleon Bonaparte was born in 15 August 1769\",\n",
    "    \"Louis XIV was born in 5 September 1638\"\n",
    "]"
   ]
  },
  {
   "cell_type": "code",
   "execution_count": 54,
   "id": "f30baa4c",
   "metadata": {},
   "outputs": [],
   "source": [
    "from langchain.text_splitter import RecursiveCharacterTextSplitter"
   ]
  },
  {
   "cell_type": "code",
   "execution_count": 55,
   "id": "a740524f",
   "metadata": {},
   "outputs": [],
   "source": [
    "splitter=RecursiveCharacterTextSplitter(chunk_size=1000, chunk_overlap=0)"
   ]
  },
  {
   "cell_type": "code",
   "execution_count": 59,
   "id": "18845694",
   "metadata": {},
   "outputs": [
    {
     "name": "stdout",
     "output_type": "stream",
     "text": [
      "[Document(page_content='Napoleon Bonaparte was born in 15 August 1769', metadata={}), Document(page_content='Louis XIV was born in 5 September 1638', metadata={})]\n"
     ]
    }
   ],
   "source": [
    "docs=splitter.create_documents(texts)\n",
    "print(docs)"
   ]
  },
  {
   "cell_type": "markdown",
   "id": "1e7983b3",
   "metadata": {},
   "source": [
    "<b>Prepare the vectorstores</b>"
   ]
  },
  {
   "cell_type": "code",
   "execution_count": 60,
   "id": "dda67244",
   "metadata": {},
   "outputs": [],
   "source": [
    "from langchain.vectorstores import DeepLake"
   ]
  },
  {
   "cell_type": "code",
   "execution_count": 72,
   "id": "d9fd9c82",
   "metadata": {},
   "outputs": [],
   "source": [
    "activeloop_id=\"swamikannan\"\n",
    "activeloop_dir=\"zero2hero\"\n",
    "url=f'hub://{activeloop_id}/{activeloop_dir}'"
   ]
  },
  {
   "cell_type": "code",
   "execution_count": 73,
   "id": "dc27bd03",
   "metadata": {},
   "outputs": [
    {
     "name": "stdout",
     "output_type": "stream",
     "text": [
      "hub://swamikannan/zero2hero\n"
     ]
    }
   ],
   "source": [
    "print(url)"
   ]
  },
  {
   "cell_type": "code",
   "execution_count": 71,
   "id": "cd654007",
   "metadata": {},
   "outputs": [
    {
     "name": "stdout",
     "output_type": "stream",
     "text": [
      "Your Deep Lake dataset has been successfully created!\n",
      "The dataset is private so make sure you are logged in!\n"
     ]
    },
    {
     "name": "stderr",
     "output_type": "stream",
     "text": [
      " \r"
     ]
    }
   ],
   "source": [
    "db=DeepLake(dataset_path=url,embedding_function=embeddings)"
   ]
  },
  {
   "cell_type": "markdown",
   "id": "5beaea57",
   "metadata": {},
   "source": [
    "<b>Update the datastores with the docs file. This will tokenize the text based on the embeddings and store the data as  a vector</b>"
   ]
  },
  {
   "cell_type": "code",
   "execution_count": 74,
   "id": "9d28bba6",
   "metadata": {},
   "outputs": [
    {
     "name": "stderr",
     "output_type": "stream",
     "text": [
      "/"
     ]
    },
    {
     "name": "stdout",
     "output_type": "stream",
     "text": [
      "Dataset(path='hub://swamikannanal/zero2hero', tensors=['embedding', 'id', 'metadata', 'text'])\n",
      "\n",
      "  tensor      htype      shape     dtype  compression\n",
      "  -------    -------    -------   -------  ------- \n",
      " embedding  embedding  (2, 1536)  float32   None   \n",
      "    id        text      (2, 1)      str     None   \n",
      " metadata     json      (2, 1)      str     None   \n",
      "   text       text      (2, 1)      str     None   \n"
     ]
    },
    {
     "name": "stderr",
     "output_type": "stream",
     "text": [
      "\r",
      " \r"
     ]
    },
    {
     "data": {
      "text/plain": [
       "['759a4121-1434-11ee-b60b-4ccc6a4c4cf7',\n",
       " '759a4122-1434-11ee-98a7-4ccc6a4c4cf7']"
      ]
     },
     "execution_count": 74,
     "metadata": {},
     "output_type": "execute_result"
    }
   ],
   "source": [
    "db.add_documents(docs)"
   ]
  },
  {
   "cell_type": "markdown",
   "id": "f87e44d7",
   "metadata": {},
   "source": [
    "<b>The data is ready. Now create a QARetrieval agent that will interface with the LLM model and get the appropriate responses to our queries</b>"
   ]
  },
  {
   "cell_type": "code",
   "execution_count": 75,
   "id": "bd56cb91",
   "metadata": {},
   "outputs": [],
   "source": [
    "from langchain.chains import RetrievalQA"
   ]
  },
  {
   "cell_type": "code",
   "execution_count": 78,
   "id": "e7bacfb1",
   "metadata": {},
   "outputs": [],
   "source": [
    "retriever=db.as_retriever()"
   ]
  },
  {
   "cell_type": "code",
   "execution_count": 81,
   "id": "02f71937",
   "metadata": {},
   "outputs": [],
   "source": [
    "qa_retriever=RetrievalQA.from_chain_type(llm=llm,chain_type='stuff',verbose=True,retriever=retriever)"
   ]
  },
  {
   "cell_type": "code",
   "execution_count": 82,
   "id": "8a3f2656",
   "metadata": {},
   "outputs": [
    {
     "name": "stdout",
     "output_type": "stream",
     "text": [
      "\n",
      "\n",
      "\u001b[1m> Entering new  chain...\u001b[0m\n",
      "\n",
      "\u001b[1m> Finished chain.\u001b[0m\n"
     ]
    }
   ],
   "source": [
    "start_time=time.time()\n",
    "out=qa_retriever.run('How old would Napolean be today?')\n",
    "end_time=time.time()"
   ]
  },
  {
   "cell_type": "code",
   "execution_count": 85,
   "id": "04167f50",
   "metadata": {},
   "outputs": [
    {
     "name": "stdout",
     "output_type": "stream",
     "text": [
      "Output of conversation:\n",
      "  Napoleon Bonaparte would be 251 years old today.\n",
      "\n",
      "Time taken for the chain to run: 2.6448752880096436 seconds\n"
     ]
    }
   ],
   "source": [
    "print('Output of conversation:\\n',out)\n",
    "print(f'\\nTime taken for the chain to run: {end_time-start_time} seconds')"
   ]
  },
  {
   "cell_type": "markdown",
   "id": "eb7bf07e",
   "metadata": {},
   "source": [
    "<b>2023-1769 is actually 253 (since, we haven't entered August in 2023 yet). I think the difference of 2 years can be attributed to the fact that the last time the model - text-da-vinci was updated was in 2021.</b>"
   ]
  },
  {
   "cell_type": "code",
   "execution_count": 86,
   "id": "3a1d81cf",
   "metadata": {},
   "outputs": [
    {
     "name": "stdout",
     "output_type": "stream",
     "text": [
      "\n",
      "\n",
      "\u001b[1m> Entering new  chain...\u001b[0m\n",
      "\n",
      "\u001b[1m> Finished chain.\u001b[0m\n"
     ]
    }
   ],
   "source": [
    "start_time=time.time()\n",
    "out=qa_retriever.run('If King Louis died on September 1, 1715 at Palace of Versailles, Versailles, France, how old was he when he died?')\n",
    "end_time=time.time()"
   ]
  },
  {
   "cell_type": "code",
   "execution_count": 87,
   "id": "4c0aa0c2",
   "metadata": {},
   "outputs": [
    {
     "name": "stdout",
     "output_type": "stream",
     "text": [
      "Output of conversation:\n",
      "  Louis XIV was 77 years old when he died.\n",
      "\n",
      "Time taken for the chain to run: 3.4569787979125977 seconds\n"
     ]
    }
   ],
   "source": [
    "print('Output of conversation:\\n',out)\n",
    "print(f'\\nTime taken for the chain to run: {end_time-start_time} seconds')"
   ]
  },
  {
   "cell_type": "markdown",
   "id": "14e330d6",
   "metadata": {},
   "source": [
    "<b>So we added \"King\" to the question which was not present in the original text. We also removed \"XIV\" from the query. But it was still able to give us the correct answer</b>"
   ]
  },
  {
   "cell_type": "markdown",
   "id": "2bd03b52",
   "metadata": {},
   "source": [
    "<b>The original tutorial uses the qa_retriever as a tool and creates an agent to use that tool. While I understand the academic intentions of the exercise, it is simpler to do it this way </b>"
   ]
  },
  {
   "cell_type": "markdown",
   "id": "ee4d591b",
   "metadata": {},
   "source": [
    "### The Agents"
   ]
  },
  {
   "cell_type": "code",
   "execution_count": 114,
   "id": "3780d5b8",
   "metadata": {},
   "outputs": [],
   "source": [
    "from langchain.agents import AgentType, Tool, load_tools, initialize_agent"
   ]
  },
  {
   "cell_type": "code",
   "execution_count": 115,
   "id": "4946f8e6",
   "metadata": {},
   "outputs": [],
   "source": [
    "from langchain import GoogleSearchAPIWrapper\n",
    "from langchain.llms import OpenAI"
   ]
  },
  {
   "cell_type": "markdown",
   "id": "2180a27e",
   "metadata": {},
   "source": [
    "<b>Create the LLM</b>"
   ]
  },
  {
   "cell_type": "code",
   "execution_count": 117,
   "id": "1f023db9",
   "metadata": {},
   "outputs": [],
   "source": [
    "llm=OpenAI(model='text-davinci-003', temperature=0)"
   ]
  },
  {
   "cell_type": "markdown",
   "id": "2f5edaf2",
   "metadata": {},
   "source": [
    "<b>Create the tool for the Agent to use </b>"
   ]
  },
  {
   "cell_type": "markdown",
   "id": "b7d760be",
   "metadata": {},
   "source": [
    "<i>This took me way too long to figure out since the keywords in the GoogleSearchAPIWrapper were different from the Google Custom Search API. <br>The wrapper needs two key words. <ol><li>The API key which is stored as google_api_key.</li><li> However, the google_cse_id refers to the search engine id. This search engine id is available in the control panel (Basic -> Search engine id)</li></ol></i>"
   ]
  },
  {
   "cell_type": "code",
   "execution_count": 152,
   "id": "5913ba90",
   "metadata": {},
   "outputs": [],
   "source": [
    "test=GoogleSearchAPIWrapper()"
   ]
  },
  {
   "cell_type": "code",
   "execution_count": 153,
   "id": "141bd6ec",
   "metadata": {},
   "outputs": [],
   "source": [
    "tool = Tool(\n",
    "    name=\"Search\",\n",
    "    description=\"Search Google for recent results.\",\n",
    "    func=test.run, #test refers to the GoogleSearchAPIWrapper that we created\n",
    "    )"
   ]
  },
  {
   "cell_type": "code",
   "execution_count": 154,
   "id": "0eb02866",
   "metadata": {},
   "outputs": [],
   "source": [
    "tools=[tool]"
   ]
  },
  {
   "cell_type": "code",
   "execution_count": 155,
   "id": "b7354a1c",
   "metadata": {},
   "outputs": [],
   "source": [
    "agent=initialize_agent(tools=tools,llm=llm,agent=AgentType.CHAT_ZERO_SHOT_REACT_DESCRIPTION, verbose=True)"
   ]
  },
  {
   "cell_type": "code",
   "execution_count": 157,
   "id": "2e0f589d",
   "metadata": {},
   "outputs": [
    {
     "name": "stdout",
     "output_type": "stream",
     "text": [
      "\n",
      "\n",
      "\u001b[1m> Entering new  chain...\u001b[0m\n",
      "\u001b[32;1m\u001b[1;3mThought: I need to find recent news articles about India-US relations\n",
      "Action:\n",
      "```\n",
      "{\n",
      "  \"action\": \"Search\",\n",
      "  \"action_input\": \"India-US relations\"\n",
      "}\n",
      "```\n",
      "\u001b[0m\n",
      "Observation: \u001b[36;1m\u001b[1;3mJul 18, 2022 ... India is also one of twelve countries partnering with the United States on the Indo-Pacific Economic Framework for Prosperity (IPEF) to make our ... 6 days ago ... Tanvi Madan discusses the state of U.S.-India relations, a strategic technology partnership between the two countries, and how global issues ... Gallup's annual World Affairs survey shows India is perceived by Americans as their sixth favorite nation in the world, with 71% of Americans viewing India ... Since India's independence, ties with the United States have weathered Cold War–era distrust and estrangement over India's nuclear program. Jul 19, 2021 ... Bilateral trade and investment have increased, while a relatively wealthy Indian-American community is exercising newfound domestic political ... May 19, 2023 ... While India is often romanticized as a friend to the United States, many forget that India isn't a formal ally. Ashley points to two reasons why ... 4 days ago ... The U.S.-India partnership is a cornerstone of a free and open Indo-Pacific, Ryder said, \"and our deepening bonds show how technological ... Jun 16, 2023 ... Trade between the two countries reached $191 billion in 2021–2022, and the United States has become India's largest trading partner.71 Both ... Jun 30, 2022 ... The US is India's most comprehensive strategic partner, and cooperation between the two extends across multiple areas such as trade, defence, ... 4 days ago ... Modi says that the Indian diaspora in America — four million people strong — is “the real strength behind our relations.” His party has spent ...\u001b[0m\n",
      "Thought:\u001b[32;1m\u001b[1;3m I now know the latest news about India-US relations\n",
      "Final Answer: The latest news about India-US relations includes increased bilateral trade and investment, a strategic technology partnership between the two countries, and the US being India's most comprehensive strategic partner.\u001b[0m\n",
      "\n",
      "\u001b[1m> Finished chain.\u001b[0m\n"
     ]
    }
   ],
   "source": [
    "response=agent.run(\"What's the latest news about the India-US relations?\")"
   ]
  },
  {
   "cell_type": "markdown",
   "id": "a6c8857f",
   "metadata": {},
   "source": [
    "### Tools - Using prompts along with tools"
   ]
  },
  {
   "cell_type": "code",
   "execution_count": 162,
   "id": "0f988180",
   "metadata": {},
   "outputs": [],
   "source": [
    "from langchain.prompts import PromptTemplate\n",
    "from langchain.agents import AgentType, initialize_agent, Tool\n",
    "from langchain.llms import OpenAI\n",
    "from langchain.chains import LLMChain\n",
    "from langchain.utilities import GoogleSearchAPIWrapper"
   ]
  },
  {
   "cell_type": "markdown",
   "id": "e810e8b9",
   "metadata": {},
   "source": [
    "<b>Instantiate the LLM </b>"
   ]
  },
  {
   "cell_type": "code",
   "execution_count": 163,
   "id": "797cdc6e",
   "metadata": {},
   "outputs": [],
   "source": [
    "llm=OpenAI(model='text-davinci-003', temperature=0)"
   ]
  },
  {
   "cell_type": "markdown",
   "id": "91227c05",
   "metadata": {},
   "source": [
    "<b>Create the prompt and the corresponding LLM chain</b>"
   ]
  },
  {
   "cell_type": "code",
   "execution_count": 165,
   "id": "aae7586b",
   "metadata": {},
   "outputs": [],
   "source": [
    "prompt = PromptTemplate(\n",
    "    input_variables=['topic'],\n",
    "    template='Provide clear but concise summaries about the {topic}')\n",
    "\n",
    "summarizer=LLMChain(prompt=prompt, llm=llm)"
   ]
  },
  {
   "cell_type": "markdown",
   "id": "3ce16996",
   "metadata": {},
   "source": [
    "<b>Create the tool belt (using a handyman analogy)</b>"
   ]
  },
  {
   "cell_type": "code",
   "execution_count": 166,
   "id": "36d247bb",
   "metadata": {},
   "outputs": [],
   "source": [
    "search=GoogleSearchAPIWrapper()"
   ]
  },
  {
   "cell_type": "code",
   "execution_count": 167,
   "id": "5bc1ca1f",
   "metadata": {},
   "outputs": [],
   "source": [
    "search_tool=Tool(\n",
    "    name='google-search', \n",
    "    func=search.run, \n",
    "    description='A convenient way to get the latest and the most accurate news occuring around the world'\n",
    ")"
   ]
  },
  {
   "cell_type": "code",
   "execution_count": 168,
   "id": "2a0d89d2",
   "metadata": {},
   "outputs": [],
   "source": [
    "summarize_tool=Tool(\n",
    "    name='the-summarizer',\n",
    "    func=summarizer.run,\n",
    "    description='A tool used for providing concise and clear summaries about a specific topic')"
   ]
  },
  {
   "cell_type": "markdown",
   "id": "6f4056ee",
   "metadata": {},
   "source": [
    "<b>Create the agent an equip him / her with the tools</b>"
   ]
  },
  {
   "cell_type": "code",
   "execution_count": 169,
   "id": "5fcf9456",
   "metadata": {},
   "outputs": [],
   "source": [
    "agent=initialize_agent(tools=[search_tool,summarize_tool], \n",
    "                       agent=AgentType.CHAT_ZERO_SHOT_REACT_DESCRIPTION,\n",
    "                      llm=llm,\n",
    "                      verbose=True)"
   ]
  },
  {
   "cell_type": "code",
   "execution_count": 170,
   "id": "2a61ea35",
   "metadata": {},
   "outputs": [
    {
     "name": "stdout",
     "output_type": "stream",
     "text": [
      "\n",
      "\n",
      "\u001b[1m> Entering new  chain...\u001b[0m\n",
      "\u001b[32;1m\u001b[1;3mThought: I need to find a summarizer tool to get a concise summary\n",
      "Action:\n",
      "```\n",
      "{\n",
      "  \"action\": \"the-summarizer\",\n",
      "  \"action_input\": \"India-US relations\"\n",
      "}\n",
      "```\n",
      "\u001b[0m\n",
      "Observation: \u001b[33;1m\u001b[1;3m\n",
      "\n",
      "India-US relations have grown significantly in recent years, with both countries working together on a range of issues, including trade, defense, and counter-terrorism. The two countries have also signed a number of agreements, including the India-US Civil Nuclear Agreement, which has opened up new avenues for cooperation. The two countries have also increased their economic ties, with India becoming one of the top destinations for US investments. The two countries have also worked together on regional and global issues, such as climate change and the fight against terrorism.\u001b[0m\n",
      "Thought:\u001b[32;1m\u001b[1;3m I now have a concise summary of the India-US relations\n",
      "Final Answer: India-US relations have grown significantly in recent years, with both countries working together on a range of issues, including trade, defense, and counter-terrorism. The two countries have also signed a number of agreements, including the India-US Civil Nuclear Agreement, which has opened up new avenues for cooperation. The two countries have also increased their economic ties, with India becoming one of the top destinations for US investments. The two countries have also worked together on regional and global issues, such as climate change and the fight against terrorism.\u001b[0m\n",
      "\n",
      "\u001b[1m> Finished chain.\u001b[0m\n"
     ]
    }
   ],
   "source": [
    "start_time=time.time()\n",
    "agent.run('Please provide me with a summary of the latest updates on the India-US relations')\n",
    "end_time=time.time()"
   ]
  }
 ],
 "metadata": {
  "kernelspec": {
   "display_name": "Python 3 (ipykernel)",
   "language": "python",
   "name": "python3"
  },
  "language_info": {
   "codemirror_mode": {
    "name": "ipython",
    "version": 3
   },
   "file_extension": ".py",
   "mimetype": "text/x-python",
   "name": "python",
   "nbconvert_exporter": "python",
   "pygments_lexer": "ipython3",
   "version": "3.9.16"
  }
 },
 "nbformat": 4,
 "nbformat_minor": 5
}
